{
 "cells": [
  {
   "cell_type": "code",
   "execution_count": 1,
   "metadata": {},
   "outputs": [
    {
     "name": "stdout",
     "output_type": "stream",
     "text": [
      "Initializing logger...\n"
     ]
    }
   ],
   "source": [
    "from src.chat import Chat\n",
    "from app.models.UserInput import UserInput"
   ]
  },
  {
   "cell_type": "code",
   "execution_count": 2,
   "metadata": {},
   "outputs": [
    {
     "name": "stderr",
     "output_type": "stream",
     "text": [
      "/Users/pongsakon/Study/CEDT/2_semeter_1/data_sci/dsde-project/src/database/qdrant.py:37: DtypeWarning: Columns (0) have mixed types. Specify dtype option on import or set low_memory=False.\n",
      "  self.df = pd.read_csv(\"combined_data.csv\")\n",
      "[2024-12-08 00:04:02,467] DEBUG in chat: Templates loaded successfully\n",
      "[2024-12-08 00:04:02,467] DEBUG in chat: ================= System Template Prompt ================\n",
      "[2024-12-08 00:04:02,468] DEBUG in chat: input_variables=[] input_types={} partial_variables={} messages=[SystemMessage(content='You are an AI assistance for encouraging the system to initialize new \"node\" from below data that was fetched from QdrantDB. Node have two types which are \"Paper\" and \"Keyword\".\\nKeyword is a short word that related to topic, title or field of the input messages from user while \"Paper\" is the main content of articles in the database. Your tasks are generating \"Keyword\" node based on summarizing the content of user messages and \"Paper\" node, a node that contains more . Both of them follow this structure of node object: \\n\\nDon\\'t forget to ensure that the values that will be assigned are related to data in the databas\\n\\nThis is the guideines for you:\\n1. Analyze the given user input to find some \"Keyword\" that related to the user message topic, papers, articles.\\n2. From the paper that user give to you, You have to find the top most important 4-5 topics and keep their id, title, type, year, abstract (if the abstract too long just keep as long as you think it\\'s important and meaningful),  author and source in Json format.\\n3. After you have done the step 2, Create the nodes, this is the example structure. \\n    \"links\" : [\\n        \\n            \"source\" : \"2410.18541_arxiv\",\\n            \"target\" : \"2204.13154_arxiv\"\\n        ,\\n        \\n            \"source\" : \"transformer-and-attention-is-all-you-need\",\\n            \"target\" : \"2204.13154_arxiv\"\\n        ,\\n        \\n            \"source\" : \"transformer-and-attention-is-all-you-need\",\\n            \"target\" : \"2410.18541_arxiv\"\\n        ,\\n    ]\\n\\n\\nEnsure that every pairs of the Graphlinks member are related and as you can see from the example, some graph link might have the same source, which store\\nthe ID of the starter node (the node that have higher level).\\nDon\\'t for get to change the id of source and target to the correct id of provided paper. The IDs in the examples isn\\'t always the same as what users provide to you.\\nHowever, You can adjust the inhertance of the graph using your decision to make it be more appropriate.\\n4. Node with type \"keyword\" will have 3 fields [id], [type] and [title] (no label)\\n5. In the end, Return them in json format by Nodes and GraphLinks is in the same level and re-check if everything is correct and follows the guidelines, IDs in GraphLinks are paired with the IDs from provided papers.\\n6. Moreover, add one more section to the response Json, \"summation\". It\\'s a section to show the message that obtain from wraping the information up. You might add the title of the articles to make it be more easier to read. and don\\'t for get to keep the conversation\\nin friendly mood and always encourage the user to ask you if they have any problems or need any helps.\\nthis is the structure for summation section:\\n\"summation\" : \"Text for replying to user\"\\n\\nHowever, you might be asked to find more papers once again. So, when you receive the new message from users and realize that the users need to find more data,\\nor rticles, you have to do the task follows the guidelines once again. Please ensure that the additional papers that will be in the response must be never given to the user,\\nYou might re-check it by ID and title to avoid duplication. \\n\\n\\n\\nIf you want to give dialogue or additional text please put them in \"summation\" don\\'t write anything outside of the json template\\n', additional_kwargs={}, response_metadata={})]\n",
      "[2024-12-08 00:04:02,468] DEBUG in chat: ================= Chat Template Prompt ================\n",
      "[2024-12-08 00:04:02,469] DEBUG in chat: input_variables=['message', 'paper_data'] input_types={} partial_variables={} messages=[HumanMessagePromptTemplate(prompt=PromptTemplate(input_variables=['message', 'paper_data'], input_types={}, partial_variables={}, template=\"{paper_data}\\nfrom the above data If the user didn't change, shift, or start to any new topics and the above data isn't related the what user's talking about,\\nyou are able to ignore those datas.\\n\\nUser message : {message}\\n\\n[If the converson is about finding more data, do the following task. Otherwise, ignore it] :\\nIf there is no data that related to the wanted topic that much just tell the user politly that There is no additional data that they are finding in the data base.\"), additional_kwargs={})]\n",
      "[2024-12-08 00:04:02,471] DEBUG in chat: ================= Detect Additional Data Template ================\n",
      "[2024-12-08 00:04:02,472] DEBUG in chat: input_variables=['current_graph', 'message'] input_types={} partial_variables={} messages=[HumanMessagePromptTemplate(prompt=PromptTemplate(input_variables=['current_graph', 'message'], input_types={}, partial_variables={}, template='If the input message that you obtain from user is asking if they need for more paper or the current status of papers that you give to them\\nis enough, you have to be concern the text after this but if the user is talking about the other things that\\'s related to additional data retrieving,\\njust return the response in json format:\\n\"summation\": [your text that want to give back to user]\\n\\n[After this, it\\'s the part of tasks that you have to do for the situation that user asked if they need more paper or not]\\nThese are your informative data for making the decision if user needs more papers or not:\\n-  User message : {message}\\n- This is the current graph of information that user has:\\n   current status or graph : {current_graph}\\n\\nThese are your guidelines :\\n\\nAccordning to the amount, quality and usage of paper that related to the topic of the conversation. Do the user needs the more number of papers?\\nIf there are some papers in current graph that related to the topic that user\\'s interted in of researching.\\nIf yes reply \"Yes\" Otherwise \"No\" followed by the reason of the answer. Furthermore, suggest the next appropriate step to the user by\\nconsidering the overall of this conversation detaily. Be calm, friendly, natural and love to give the best service to the user.\\nReturn the response by this json template:\\n\"isNeed\" : \"yes or no\",\\n\"reason\" : \"the reason that you suggest user to find more papers or the reason that the papaers is enough for user\"'), additional_kwargs={})]\n"
     ]
    }
   ],
   "source": [
    "chat = Chat()"
   ]
  },
  {
   "cell_type": "markdown",
   "metadata": {},
   "source": [
    "## Set System Prompt"
   ]
  },
  {
   "cell_type": "code",
   "execution_count": 3,
   "metadata": {},
   "outputs": [],
   "source": [
    "user_message = \"Suggests me some articles about banana for making an ice-cream\"\n",
    "\n",
    "chat_id = \"abc\"\n",
    "user_input = UserInput(\n",
    "    chat_id=chat_id,\n",
    "    message=user_message,\n",
    "    currentGraph=None\n",
    ")"
   ]
  },
  {
   "cell_type": "markdown",
   "metadata": {},
   "source": [
    "# Goal\n",
    "1. Give \"Keyword node\"\n",
    "2. Give \"GrapLink from GraphData\""
   ]
  },
  {
   "cell_type": "code",
   "execution_count": 4,
   "metadata": {},
   "outputs": [],
   "source": [
    "### FIX HERE\n",
    "system_template_prompt = \"\"\"You are an AI assistance for encouraging the system to initialize new \"node\" from below data that was fetched from QdrantDB. Node have two types which are \"Paper\" and \"Keyword\".\n",
    "Keyword is a short word that related to topic, title or field of the input messages from user while \"Paper\" is the main content of articles in the database. Your tasks are generating \"Keyword\" node based on summarizing the content of user messages and \"Paper\" node, a node that contains more . Both of them follow this structure of node object: \n",
    "\n",
    "Don't forget to ensure that the values that will be assigned are related to data in the databas\n",
    "\n",
    "This is the guideines for you:\n",
    "1. Analyze the given user input to find some \"Keyword\" that related to the user message topic, papers, articles.\n",
    "2. From the paper that user give to you, You have to find the top most important 4-5 topics and keep their id, title, type, year, abstract (if the abstract too long just keep as long as you think it's important and meaningful),  author and source in Json format.\n",
    "3. After you have done the step 2, Create the nodes, this is the example structure. \n",
    "    \"links\" : [\n",
    "        \n",
    "            \"source\" : \"2410.18541_arxiv\",\n",
    "            \"target\" : \"2204.13154_arxiv\"\n",
    "        ,\n",
    "        \n",
    "            \"source\" : \"transformer-and-attention-is-all-you-need\",\n",
    "            \"target\" : \"2204.13154_arxiv\"\n",
    "        ,\n",
    "        \n",
    "            \"source\" : \"transformer-and-attention-is-all-you-need\",\n",
    "            \"target\" : \"2410.18541_arxiv\"\n",
    "        ,\n",
    "    ]\n",
    "\n",
    "\n",
    "Ensure that every pairs of the Graphlinks member are related and as you can see from the example, some graph link might have the same source, which store\n",
    "the ID of the starter node (the node that have higher level).\n",
    "Don't for get to change the id of source and target to the correct id of provided paper. The IDs in the examples isn't always the same as what users provide to you.\n",
    "However, You can adjust the inhertance of the graph using your decision to make it be more appropriate.\n",
    "4. Node with type \"keyword\" will have 3 fields [id], [type] and [title] (no label)\n",
    "5. In the end, Return them in json format by Nodes and GraphLinks is in the same level and re-check if everything is correct and follows the guidelines, IDs in GraphLinks are paired with the IDs from provided papers.\n",
    "6. Moreover, add one more section to the response Json, \"Summation\". It's a section to show the message that obtain from wraping the information up. You might add the title of the articles to make it be more easier to read. and don't for get to keep the conversation\n",
    "in friendly mood and always encourage the user to ask you if they have any problems or need any helps.\n",
    "Accordning to the amount, quality and usage of paper that related to the topic of the conversation. Do the user needs the more number of papers?\n",
    "If yes reply \"Yes\" Otherwise \"No\" followed by the reason of the answer. Furthermore, suggest the next appropriate step to the user by\n",
    "considering the overall of this conversation efficieintly. Be calm, friendly, natural and love to give the best service to the user.\n",
    "This is the structure:\n",
    "\"summation\" : [ \"msg\" : \"[the conclusion of analysis]\"],\n",
    "\n",
    "\"\"\"\n",
    "### FIX HERE\n",
    "\n",
    "chat.set_system_template_prompt(system_template_prompt)"
   ]
  },
  {
   "cell_type": "markdown",
   "metadata": {},
   "source": [
    "# Set Chat Template Prompt"
   ]
  },
  {
   "cell_type": "code",
   "execution_count": 5,
   "metadata": {},
   "outputs": [],
   "source": [
    "### FIX HERE\n",
    "chat_template_prompt = \"\"\"\n",
    "{paper_data}\n",
    "\"\"\"\n",
    "### FIX HERE\n",
    "\n",
    "chat.set_chat_template_prompt(chat_template_prompt)"
   ]
  },
  {
   "cell_type": "code",
   "execution_count": 6,
   "metadata": {},
   "outputs": [
    {
     "ename": "AttributeError",
     "evalue": "'Chat' object has no attribute 'qdrant_client'",
     "output_type": "error",
     "traceback": [
      "\u001b[0;31m---------------------------------------------------------------------------\u001b[0m",
      "\u001b[0;31mAttributeError\u001b[0m                            Traceback (most recent call last)",
      "Cell \u001b[0;32mIn[6], line 3\u001b[0m\n\u001b[1;32m      1\u001b[0m \u001b[38;5;66;03m### See the result of the chat\u001b[39;00m\n\u001b[0;32m----> 3\u001b[0m initial_result \u001b[38;5;241m=\u001b[39m \u001b[43mchat\u001b[49m\u001b[38;5;241;43m.\u001b[39;49m\u001b[43mtest_initial_chat\u001b[49m\u001b[43m(\u001b[49m\u001b[43muser_input\u001b[49m\u001b[38;5;241;43m=\u001b[39;49m\u001b[43muser_input\u001b[49m\u001b[43m)\u001b[49m\n",
      "File \u001b[0;32m~/Study/CEDT/2_semeter_1/data_sci/dsde-project/src/chat.py:120\u001b[0m, in \u001b[0;36mChat.test_initial_chat\u001b[0;34m(self, user_input)\u001b[0m\n\u001b[1;32m    117\u001b[0m chat_template_prompt \u001b[38;5;241m=\u001b[39m \u001b[38;5;28mself\u001b[39m\u001b[38;5;241m.\u001b[39mget_chat_template_prompt()\n\u001b[1;32m    119\u001b[0m \u001b[38;5;66;03m# Retrieve the paper data from the vectorDB and format it as a message\u001b[39;00m\n\u001b[0;32m--> 120\u001b[0m paper_data \u001b[38;5;241m=\u001b[39m \u001b[38;5;28;43mself\u001b[39;49m\u001b[38;5;241;43m.\u001b[39;49m\u001b[43m_retrieve_and_format_paper_data\u001b[49m\u001b[43m(\u001b[49m\u001b[43muser_message\u001b[49m\u001b[43m)\u001b[49m\n\u001b[1;32m    121\u001b[0m logger\u001b[38;5;241m.\u001b[39minfo(\u001b[38;5;124m\"\u001b[39m\u001b[38;5;124mRetrieving paper data from the vectorDB\u001b[39m\u001b[38;5;124m\"\u001b[39m)\n\u001b[1;32m    123\u001b[0m input_messages \u001b[38;5;241m=\u001b[39m chat_template_prompt\u001b[38;5;241m.\u001b[39mformat_messages(paper_data\u001b[38;5;241m=\u001b[39mpaper_data, message\u001b[38;5;241m=\u001b[39muser_message)\n",
      "File \u001b[0;32m~/Study/CEDT/2_semeter_1/data_sci/dsde-project/src/chat.py:281\u001b[0m, in \u001b[0;36mChat._retrieve_and_format_paper_data\u001b[0;34m(self, message, top_k)\u001b[0m\n\u001b[1;32m    280\u001b[0m \u001b[38;5;28;01mdef\u001b[39;00m \u001b[38;5;21m_retrieve_and_format_paper_data\u001b[39m(\u001b[38;5;28mself\u001b[39m, message, top_k\u001b[38;5;241m=\u001b[39m\u001b[38;5;241m8\u001b[39m):\n\u001b[0;32m--> 281\u001b[0m     search_results \u001b[38;5;241m=\u001b[39m \u001b[38;5;28;43mself\u001b[39;49m\u001b[38;5;241;43m.\u001b[39;49m\u001b[43mqdrant_client\u001b[49m\u001b[38;5;241m.\u001b[39mget_search_results(\u001b[38;5;28mself\u001b[39m\u001b[38;5;241m.\u001b[39mcollection_name, message, top_k)\n\u001b[1;32m    282\u001b[0m     filtered_search_results \u001b[38;5;241m=\u001b[39m [search_result \u001b[38;5;28;01mfor\u001b[39;00m search_result \u001b[38;5;129;01min\u001b[39;00m search_results \u001b[38;5;28;01mif\u001b[39;00m search_results\u001b[38;5;241m.\u001b[39mscore \u001b[38;5;241m>\u001b[39m \u001b[38;5;241m0.6\u001b[39m]\n\u001b[1;32m    283\u001b[0m     nodes \u001b[38;5;241m=\u001b[39m \u001b[38;5;28mself\u001b[39m\u001b[38;5;241m.\u001b[39mqdrant_client\u001b[38;5;241m.\u001b[39mget_paper_info(search_result\u001b[38;5;241m=\u001b[39mfiltered_search_results)\n",
      "\u001b[0;31mAttributeError\u001b[0m: 'Chat' object has no attribute 'qdrant_client'"
     ]
    }
   ],
   "source": [
    "### See the result of the chat\n",
    "\n",
    "initial_result = chat.test_initial_chat(user_input=user_input)"
   ]
  },
  {
   "cell_type": "code",
   "execution_count": null,
   "metadata": {},
   "outputs": [
    {
     "data": {
      "text/plain": [
       "[HumanMessage(content='\\n{\\n    \"id\": \"85128243165.0_scopus\",\\n    \"title\": \"Product development of ice cream stick from raw banana powder\",\\n    \"type\": \"paper\",\\n    \"year\": 2022,\\n    \"abstract\": \"This research was focused on using raw bananas in place of natural wooden ice cream sticks. The raw bananas were used in a powdered form and then processed to create a substitute for the wooden sticks. A research operation was carried out, experimenting with different proportions of banana powder in a randomized complete block experimental design (RCBD). The properties of interest for the ice cream sticks were hardness, fracturability, and aw of samples, as well as a sensory evaluation. The research showed that ice cream sticks which contained 50\\\\u201380% raw banana powder with 40% sugar and 40 min of baking resulted in a product with the properties of commonly used wooden ice cream sticks, and that the product also had a good appearance along with positive consumer response. In addition, the maximum shelf life of such ice-cream sticks was 8 days. In the future, development of this product can increase the value of bananas and also reduce the waste of single-use wooden ice cream sticks.\",\\n    \"authors\": [\\n        \"Jittra Rukijkanpanich\",\\n        \" Sippothai Srininrat\",\\n        \" \"\\n    ],\\n    \"source\": \"scopus\"\\n}\\n{\\n    \"id\": \"85162929256.0_scopus\",\\n    \"title\": \"The Development of Kluai Namwa (Musa Sapientum Linn.) Energy Gel: An Alternative Ergogenic Aid for Enhancing Endurance Running Performance\",\\n    \"type\": \"paper\",\\n    \"year\": 2022,\\n    \"abstract\": \"Kluai Namwa (Musa Sapientum Linn.; Banana; BAN) is one of the most ancient species of banana well-grown in Thailand. BAN has a long history of use as a nutritional supplement and medical food due to its beneficial nutritional and therapeutic effects. Being an ergogenic aid, BAN has shown significant changes in the lipid profile, muscle and liver glycogen, enzyme activity, and Nitric Oxide (NO) activity inhibition, which results in prolonged exercise time. The objectives of this study were to develop a BAN energy gel and examine the effects of BAN energy gel on endurance running performance. The nutrition values of the developed BAN energy gel, glucose, sucrose, fructose, sodium, potassium, magnesium, protein, fat, ash, and total carbohydrate were assessed. The BAN energy gel nutrition values were 1.20\\\\u00b10.02 (g), 8.77\\\\u00b10.08 (g), 1.31\\\\u00b10.01 (g), 25.67\\\\u00b10.13 (mg), 184.83\\\\u00b10.54 (mg), 14.07\\\\u00b10.09 (mg), 0.43\\\\u00b10.08 (g), 0.14 \\\\u00b10.02 (%), 1.23\\\\u00b10.19 (g), 0.55\\\\u00b10.01 (g), 15.95\\\\u00b10.21 (%) per 100 g sample, respectively. BAN energy gel had total energy of 66.75\\\\u00b10.84 Kcal/100 g of sample. For examining the effects of BAN energy gel, eleven Thai male runners (aged 27.36\\\\u00b18.89 years and VO2 max 69.43\\\\u00b112.69 ml/kg/min) participated in this study to investigate Time To Exhaustion (TTE). TTE in subjects who consumed BAN energy gel was significantly longer than in subjects who consumed placebo (PLA) (55.23\\\\u00b110.32 min. vs. 46.13\\\\u00b19.87 min). The potassium level in the blood of subjects who consumed BAN energy gel was significantly higher than in subjects who consumed PLA (p<.05). This study found that BAN energy gel can prolong time to exhaustion. Therefore, BAN energy gel can be used as an ergogenic aid for runners, which is suitable to be consumed before and during the competition\",\\n    \"authors\": [\\n        \"Chutinan Suksaard\",\\n        \" Krittiya Kuenpetch\",\\n        \" Nattiporn Nokkaew\",\\n        \" \"\\n    ],\\n    \"source\": \"scopus\"\\n}\\n{\\n    \"id\": \"85136828752.0_scopus\",\\n    \"title\": \"Physicochemical properties, techno-functionality, and resistant starch of green fragrant banana flour\",\\n    \"type\": \"paper\",\\n    \"year\": 2022,\\n    \"abstract\": \"The composition and properties of flour produced from green whole and pulp of fragrant bananas were studied. Two fragrant banana varieties, Gros Michel (TY) and Cavendish (TW), grown in the same area at three stages of maturity (68, 76, and 82 days after anthesis), were processed as pulp and whole banana flour. A considerable amount of RS was found (21.5%-41.3% db). As maturity increased, RS decreased significantly. The flour had a high pasting temperature (80.2 to 82.4 \\\\u00baC), peak viscosity (1,920 to 3,669 cP), and setback (562 to 1274 cP), but relatively low breakdown (0 to 920 cP) with 2.29 to 3.91 grams of water holding capacity and 6.5 to 7.8-gram oil holding capacity per gram. Varieties and maturity had no significant effect on proximate composition, water holding capacity, and oil holding capacity. All banana flour samples showed the C-type crystalline structures with 20.5% to 23.1% crystallinity.\",\\n    \"authors\": [\\n        \"Kunchaporn Thawornlamlert\",\\n        \" Areerat Nonsawang\",\\n        \" Jirarat Anuntagool\",\\n        \" \"\\n    ],\\n    \"source\": \"scopus\"\\n}\\n{\\n    \"id\": \"85082673354.0_scopus\",\\n    \"title\": \"Isolation, separation and purification of rutin from Banana leaves (Musa balbisiana)\",\\n    \"type\": \"paper\",\\n    \"year\": 2020,\\n    \"abstract\": \"In this study, rutin was detected as a main component after the phytochemical screening of flavonoids from an ethanolic extract of banana leaves (Musa balbisiana) using thin layer chromatography plates (TLC). The rutin from the crude extract was separated using a series of solvent partition separations and was purified by using Sephadex\\\\u2122 column chromatography and semi-preparative reverse phase-high performance liquid chromatography (RP-HPLC). The compounds were characterized and quantified using NMR, Mass Spectroscopy (MS) and HPLC. A crude ethanolic extract of 124 g, containing 5.3 % of rutin, was obtained from 1 kg of dried banana leaf powder. After a series of solvent partition separations, the product from partitions using hexane/dichloromethane and dichloromethane/water in sequence contained a rutin content of 40.6 %. Purification using a Sephadex column yielded fractions with purity of rutin up to 74\\\\u201384 % and further purification using semi-preparative RP-HPLC produced a final product with a yield of rutin of 32.4 mg/g of the crude extracts and a purity of 98.4 %. The results revealed that banana leaves (M. balbisiana), a food industry by-product and agricultural waste, has the potential for use as an inexpensive and new source of rutin.\",\\n    \"authors\": [\\n        \"Panida Yingyuen\",\\n        \" Suchada Sukrong\",\\n        \" Muenduen Phisalaphong\",\\n        \" \"\\n    ],\\n    \"source\": \"scopus\"\\n}\\n{\\n    \"id\": \"85105698000.0_scopus\",\\n    \"title\": \"Quality of chilled and frozen starch gels as affected by starch type, highly concentrated sucrose and coconut milk\",\\n    \"type\": \"paper\",\\n    \"year\": 2021,\\n    \"abstract\": \"This research aimed to evaluate effects of starch source, sucrose at high concentration and coconut milk on physical properties of chilled and frozen starch gels, considered as traditional Thai dessert models. Gel containing 15% w/w of starch was prepared from rice starch, tapioca starch or blended rice starch/tapioca starch (1:0.85 w/w) mixed with water, 45oBx sucrose solution or coconut milk. The result showed that rice starch gel stored at 4 \\\\u00b0C had highest hardness, degree of syneresis and melting enthalpy of the retrograded structure (\\\\u0394Hret). Degree of syneresis of frozen rice starch gels subjected to several freezing-thawing cycles was also highest. Under chilled temperature storage, starch gels containing sucrose or coconut milk had higher hardness and denser gel structure, comparing to the starch gels in water. This textural change was due to greater degree of starch retrogradation, sucrose recrystallization and/or formation of amylose-lipid complex crystallites shown in X-ray diffractograms. However, addition of highly concentrated sucrose or coconut milk increased freeze-thaw stability of the frozen starch gels, as shown by decreasing degree of syneresis. Results from this study could be applied to formulate starch-based dessert with improved quality during chilled or frozen storage.\",\\n    \"authors\": [\\n        \"Aumaporn Arlai\",\\n        \" Kanitha Tananuwong\",\\n        \" \"\\n    ],\\n    \"source\": \"scopus\"\\n}\\n{\\n    \"id\": \"85110512136.0_scopus\",\\n    \"title\": \"Delayed softening of \\\\u201chom thong\\\\u201d banana fruits during postharvest storage following hot water treatment\",\\n    \"type\": \"paper\",\\n    \"year\": 2021,\\n    \"abstract\": \"This study investigated the effects of hot water treatment on the texture of banana fruits. Fruits were dipped in hot water at 50oC and 55oC for 10 min before being stored at 25oC. The firmness of fruits treated at 50oC was higher than that of untreated fruits, and physiological changes including fresh weight loss, ethylene production, total soluble solid content, and peel color were also prevented. Treatment at 55oC slowed softening, but induced peel damage and failure to develop a normal color. Investigation of the cell wall composition and structure following treatment at 50oC showed a delay in the increase of water-soluble pectin, correlated with fruit firmness. A higher level of HCl-soluble pectin was detected in treated fruits, indicating that cell wall polymer solubilization had been reduced. Structural alteration to the peel was also slower than in untreated fruits. The study clarified the effect of hot water treatment on alteration of the cell wall structure and composition of banana fruit during postharvest storage.\",\\n    \"authors\": [\\n        \"Nuankamol Amnuaysin\",\\n        \" Kanogwan Seraypheap\",\\n        \" Manit Kidyoo\",\\n        \" \"\\n    ],\\n    \"source\": \"scopus\"\\n}\\n{\\n    \"id\": \"85049326397.0_scopus\",\\n    \"title\": \"Probiotic encapsulation by spray drying using konjac glucomannan hydrolysate as wall material and its application in ice cream\",\\n    \"type\": \"paper\",\\n    \"year\": 2018,\\n    \"abstract\": \"This research aims to study encapsulation efficiency of cell probiotics by using Konjac glucomannan hydrolysate (KGMH) under spray drying. KGMH was prepared from Konjac glucomannan solution (KGMS) at different concentrations. Lactobacillus casei was used in this study as it is commonly used in food industry and resistance to heat. The effect of wall material (HGMH) concentration on encapsulation efficiency of the cell probiotic was evaluated. Probiotics culture was prepared by inoculating in sterile MRS broth and incubated at 37\\\\u00b0C for 48 hours, the cells were harvested in the early stationary phase. Konjac glucomannan solution was hydrolysed by mannanase at 40\\\\u00b0C for 4 hours. Then, probiotic solution (10 log CFU/ml) was mixed with KGMH at concentration of 15%, 20% and 25% (w/w). Spray drying condition was kept at constant inlet air temperature of 170\\\\u00b0C, outlet air temperature of 85\\\\u00b0C and feed flow rate of 10 mL min-l. Encapsulated probiotic with KGMH at concentration of 25% (w/w) exhibited the highest encapsulation efficiency (95.4 %), water activity of 0.198 and moisture content of 4.38 % (w.b.). For application in ice cream, microcapsules of probiotic encapsulated with KGMH at concentration of 25% with and without 10% (w/w) trehalose were then mixed into milk ice cream separately. The ice cream was stored at -18\\\\u00b0C for one month. The survival rate of microencapsulated probiotic cells and free cells probiotics in the ice cream were measured. It was found that microcapsule of KGMH at concentration of 25% (w/w) with 10% (w/w) trehalose gave higher survival rate of probiotics cell (> 90%) in ice cream under freezing temperature than KGMH at concentration of 25% (w/w) and free cell probiotics during storage, respectively.\",\\n    \"authors\": [\\n        \"Yanprapasiri K.\",\\n        \" Lohsrithong C.\",\\n        \" Setthachaimongkol S.\",\\n        \" Mekkerdchoo O.\",\\n        \" Borompichaichartkul C.\",\\n        \" \"\\n    ],\\n    \"source\": \"scopus\"\\n}\\n{\\n    \"id\": \"85083691578.0_scopus\",\\n    \"title\": \"Effect of calcination temperature of musa sapientum linn peels as a novel biobased heterogeneous catalyst for soybean oil-derived fatty acid methyl ester formation\",\\n    \"type\": \"paper\",\\n    \"year\": 2020,\\n    \"abstract\": \"In the present study, a novel solid base catalyst derived from desert banana (Musa sapientum Linn) peels was used as a catalyst for biodiesel production. The catalyst was calcined at several temperatures between 550\\\\u2013650 \\\\u00b0C under atmosphere pressure for 4 h. The composition, structure and texture of the calcined banana peel (CBP) catalysts were characterized by X-ray diffraction, thermogravimetric analysis, scanning electron microscopy with energy dispersive spectroscopy, X-ray fluorescence spectrophotometry, and Fourier-transform infrared spectroscopy analyses. The fatty acid profile of the feed soybean oil and the fatty acid methyl ester (FAME) product composition was analyzed using gas chromatography with flame ionization detection. The prepared catalysts were then applied for the catalytic transesterification of soybean oil with methanol under microwave-assisted heating to form FAME. The effect of the calcination temperature in the catalyst preparation, the catalyst loading level, reaction time, methanol: soybean oil molar ratio and catalyst reusability on the FAME yield were determined by univariate analysis. The CBP catalyst synthesized at 600 \\\\u00b0C exhibited the highest catalytic activity, since the calcined ash was rich in K, P, Ca and Mg which formed a basic heterogenous catalyst at this calcination temperature. At the determined optimal reaction condition (1 wt.% catalyst loading level, 12:1 molar ratio of methanol: soybean oil, and a 2 min of reaction time under 300 W microwave irradiation) a FAME yield of 99.3% was obtained. Furthermore, the catalyst showed a good reusability with a biodiesel yield of more than 80.7% after four uses.\",\\n    \"authors\": [\\n        \"Jakkrapong Jitjamnong\",\\n        \" Chachchaya Thunyaratchatanon\",\\n        \" Apanee Luengnaruemitchai\",\\n        \" Napaphat Kongrit\",\\n        \" Naparat Kasetsomboon\",\\n        \" Narinphop Chuaykarn\",\\n        \" Nonlapan Khantikulanon\",\\n        \" \"\\n    ],\\n    \"source\": \"scopus\"\\n}\\n\\n', additional_kwargs={}, response_metadata={}, id='2d9824ce-cb25-4627-a204-a10d5c0fa039'),\n",
       " AIMessage(content='```json\\n{\\n  \"nodes\": [\\n    {\\n      \"id\": \"85128243165.0_scopus\",\\n      \"type\": \"paper\",\\n      \"title\": \"Product development of ice cream stick from raw banana powder\",\\n      \"year\": 2022,\\n      \"abstract\": \"This research focused on using raw bananas in powdered form to create ice cream sticks. Experimenting with different banana powder proportions, the study found that sticks containing 50–80% raw banana powder, 40% sugar, and baked for 40 minutes had similar properties to wooden sticks, with good appearance and consumer response. The shelf life was 8 days.\",\\n      \"authors\": [\\n        \"Jittra Rukijkanpanich\",\\n        \"Sippothai Srininrat\"\\n      ],\\n      \"source\": \"scopus\"\\n    },\\n    {\\n      \"id\": \"85162929256.0_scopus\",\\n      \"type\": \"paper\",\\n      \"title\": \"The Development of Kluai Namwa (Musa Sapientum Linn.) Energy Gel: An Alternative Ergogenic Aid for Enhancing Endurance Running Performance\",\\n      \"year\": 2022,\\n      \"abstract\": \"This study developed a Kluai Namwa banana energy gel and examined its effects on endurance running. The gel\\'s nutritional values were assessed.  The study found that consuming the banana energy gel significantly prolonged time to exhaustion in runners, suggesting its potential as an ergogenic aid.\",\\n      \"authors\": [\\n        \"Chutinan Suksaard\",\\n        \"Krittiya Kuenpetch\",\\n        \"Nattiporn Nokkaew\"\\n      ],\\n      \"source\": \"scopus\"\\n    },\\n    {\\n      \"id\": \"85136828752.0_scopus\",\\n      \"type\": \"paper\",\\n      \"title\": \"Physicochemical properties, techno-functionality, and resistant starch of green fragrant banana flour\",\\n      \"year\": 2022,\\n      \"abstract\": \"This study investigated the properties of flour from green whole and pulp of fragrant bananas. Two varieties, Gros Michel and Cavendish, at three maturity stages, were processed. The flour had high pasting temperature, peak viscosity, and setback, but low breakdown. Resistant starch content was considerable but decreased with maturity.\",\\n      \"authors\": [\\n        \"Kunchaporn Thawornlamlert\",\\n        \"Areerat Nonsawang\",\\n        \"Jirarat Anuntagool\"\\n      ],\\n      \"source\": \"scopus\"\\n    },\\n    {\\n      \"id\": \"85082673354.0_scopus\",\\n      \"type\": \"paper\",\\n      \"title\": \"Isolation, separation and purification of rutin from Banana leaves (Musa balbisiana)\",\\n      \"year\": 2020,\\n      \"abstract\": \"This study isolated, separated, and purified rutin from banana leaves (Musa balbisiana).  Using various techniques, including chromatography, a high purity rutin product was obtained.  The study suggests banana leaves as a potential inexpensive source of rutin.\",\\n      \"authors\": [\\n        \"Panida Yingyuen\",\\n        \"Suchada Sukrong\",\\n        \"Muenduen Phisalaphong\"\\n      ],\\n      \"source\": \"scopus\"\\n    },\\n    {\\n      \"id\": \"banana-products\",\\n      \"type\": \"keyword\",\\n      \"title\": \"Banana Products\"\\n    },\\n    {\\n      \"id\": \"banana-flour\",\\n      \"type\": \"keyword\",\\n      \"title\": \"Banana Flour\"\\n    },\\n    {\\n      \"id\": \"biodiesel\",\\n      \"type\": \"keyword\",\\n      \"title\": \"Biodiesel\"\\n    },\\n    {\\n      \"id\": \"rutin\",\\n      \"type\": \"keyword\",\\n      \"title\": \"Rutin\"\\n    },\\n    {\\n      \"id\": \"food-science\",\\n      \"type\": \"keyword\",\\n      \"title\": \"Food Science\"\\n    }\\n  ],\\n  \"links\": [\\n    {\\n      \"source\": \"banana-products\",\\n      \"target\": \"85128243165.0_scopus\"\\n    },\\n    {\\n      \"source\": \"banana-products\",\\n      \"target\": \"85162929256.0_scopus\"\\n    },\\n    {\\n      \"source\": \"banana-flour\",\\n      \"target\": \"85136828752.0_scopus\"\\n    },\\n    {\\n      \"source\": \"rutin\",\\n      \"target\": \"85082673354.0_scopus\"\\n    },\\n    {\\n      \"source\": \"food-science\",\\n      \"target\": \"85128243165.0_scopus\"\\n    },\\n    {\\n      \"source\": \"food-science\",\\n      \"target\": \"85162929256.0_scopus\"\\n    },\\n    {\\n      \"source\": \"food-science\",\\n      \"target\": \"85136828752.0_scopus\"\\n    }\\n  ],\\n  \"summation\": {\\n    \"msg\": \"Based on your provided papers, I\\'ve created nodes related to banana product development, including ice cream sticks and energy gels, banana flour properties, rutin extraction from banana leaves, and the use of banana peels in biodiesel production.  I\\'ve also linked these papers to relevant keywords like \\\\\"Banana Products\\\\\", \\\\\"Banana Flour\\\\\", \\\\\"Rutin\\\\\", and \\\\\"Food Science\\\\\".  Do you have any other questions or need further assistance with this topic?  I\\'m always here to help!\"\\n  },\\n  \"needs_more_papers\": \"Yes\",\\n  \"reason\": \"While the provided papers offer a good starting point, exploring additional research on banana product applications, specifically in food science and potentially biofuel, could broaden your understanding and reveal further innovation opportunities.\",\\n  \"next_step\": \"Consider searching for papers related to specific applications of banana products, such as biodegradable packaging,  banana fiber composites, or other food applications beyond those already explored.  Refining your search with specific keywords related to your area of interest will yield more targeted results.\"\\n}\\n```', additional_kwargs={}, response_metadata={'prompt_feedback': {'block_reason': 0, 'safety_ratings': []}, 'finish_reason': 'STOP', 'safety_ratings': []}, id='run-c093704b-4533-47fd-b263-59f2efc62323-0', usage_metadata={'input_tokens': 4554, 'output_tokens': 1427, 'total_tokens': 5981, 'input_token_details': {'cache_read': 0}})]"
      ]
     },
     "execution_count": 37,
     "metadata": {},
     "output_type": "execute_result"
    }
   ],
   "source": [
    "chat.get_chat_history(chat_id=chat_id)"
   ]
  },
  {
   "cell_type": "code",
   "execution_count": null,
   "metadata": {},
   "outputs": [],
   "source": [
    "from typing import List\n",
    "from app.models.GraphData import GraphLink, Node, GraphData\n",
    "import json"
   ]
  },
  {
   "cell_type": "code",
   "execution_count": null,
   "metadata": {},
   "outputs": [],
   "source": [
    "def format_chat_json_to_graph_link(chat_json_response: str) -> List[GraphLink]:\n",
    "    \"\"\"\n",
    "    Example of chat_json_response\n",
    "    ```json\n",
    "    [\n",
    "        {\n",
    "            \"source\": \"some_id\",\n",
    "            \"target\": \"some_id\",\n",
    "            \"index\": 0\n",
    "        }\n",
    "    ]\n",
    "    ```\n",
    "    \"\"\"\n",
    "\n",
    "    # Select content between ```json and ```\n",
    "    chat_json_response = chat_json_response.split(\"```json\")[1].split(\"```\")[0]\n",
    "    # print(chat_json_response)\n",
    "    graph_data = json.loads(chat_json_response)\n",
    "    # print(graph_data)\n",
    "    nodes_json = graph_data[\"nodes\"]\n",
    "    links_json = graph_data[\"links\"]\n",
    "\n",
    "    nodes = []\n",
    "    for node in nodes_json:\n",
    "        if \"label\" in node:\n",
    "            node[\"title\"] = node[\"label\"]\n",
    "            del node[\"label\"]\n",
    "        \n",
    "        if \"year\" not in node:\n",
    "            node[\"year\"] = None\n",
    "        \n",
    "        if \"abstract\" not in node:\n",
    "            node[\"abstract\"] = None\n",
    "\n",
    "        if \"authors\" not in node:\n",
    "            node[\"authors\"] = None\n",
    "\n",
    "        if \"source\" not in node:\n",
    "            node[\"source\"] = None\n",
    "            \n",
    "        node = Node(**node)\n",
    "        nodes.append(node)\n",
    "\n",
    "    links = []\n",
    "    for link in links_json:\n",
    "        link = GraphLink(**link)\n",
    "        links.append(link)\n",
    "\n",
    "    return GraphData(nodes=nodes, links=links)"
   ]
  },
  {
   "cell_type": "code",
   "execution_count": null,
   "metadata": {},
   "outputs": [],
   "source": [
    "graph_data = format_chat_json_to_graph_link(initial_result.content)"
   ]
  },
  {
   "cell_type": "markdown",
   "metadata": {},
   "source": [
    "# Set Detect Additional Data"
   ]
  },
  {
   "cell_type": "code",
   "execution_count": null,
   "metadata": {},
   "outputs": [],
   "source": [
    "detect_additional_message = \"I want to know more about Computer\""
   ]
  },
  {
   "cell_type": "code",
   "execution_count": null,
   "metadata": {},
   "outputs": [],
   "source": [
    "user_detect_additional_data = UserInput(\n",
    "    chat_id=chat_id,\n",
    "    message=detect_additional_message,\n",
    "    currentGraph=graph_data\n",
    ")"
   ]
  },
  {
   "cell_type": "code",
   "execution_count": null,
   "metadata": {},
   "outputs": [],
   "source": [
    "detect_additional_data_template = \"\"\"\n",
    "From the previous conversation, I have a graph data that contains some papers and keywords.\n",
    "{message}\n",
    "According to the amoung of paper that I have Do i need more articles for above message? If need more say \"yes\" otherwise say \"no\"\n",
    "\n",
    "{current_graph}\n",
    "\n",
    "Accordning to the amount, quality and usage of paper that related to the topic of the conversation. Do the user needs the more number of papers?\n",
    "If yes reply \\\"Yes\\\" Otherwise \\\"No\\\" followed by the reason of the answer. Furthermore, suggest the next appropriate step to the user by,\n",
    "considering the overall of this conversation efficieintly. Be calm, friendly, natural and love to give the best service to the user.\"\n",
    "\"\"\"\n",
    "chat.set_detect_additional_data_template(detect_additional_data_template)"
   ]
  },
  {
   "cell_type": "code",
   "execution_count": null,
   "metadata": {},
   "outputs": [
    {
     "name": "stdout",
     "output_type": "stream",
     "text": [
      "==================================\u001b[1m Ai Message \u001b[0m==================================\n",
      "\n",
      "Yes. The current set of papers and keywords focuses on food science and banana-related products. There's nothing related to computers or computer science. To learn more about computers, you'll need to gather completely different resources.\n",
      "\n",
      "Next step: Search for introductory articles or books on computer science, or specific areas within computing that interest you (e.g., programming, artificial intelligence, hardware, networking). Online courses and tutorials are also excellent resources for learning about computers.\n",
      "None\n"
     ]
    },
    {
     "ename": "IndexError",
     "evalue": "list index out of range",
     "output_type": "error",
     "traceback": [
      "\u001b[0;31m---------------------------------------------------------------------------\u001b[0m",
      "\u001b[0;31mIndexError\u001b[0m                                Traceback (most recent call last)",
      "Cell \u001b[0;32mIn[46], line 1\u001b[0m\n\u001b[0;32m----> 1\u001b[0m detect_additional_data_result \u001b[38;5;241m=\u001b[39m \u001b[43mchat\u001b[49m\u001b[38;5;241;43m.\u001b[39;49m\u001b[43mtest_detect_additional_data\u001b[49m\u001b[43m(\u001b[49m\u001b[43muser_input\u001b[49m\u001b[38;5;241;43m=\u001b[39;49m\u001b[43muser_detect_additional_data\u001b[49m\u001b[43m)\u001b[49m\n\u001b[1;32m      2\u001b[0m detect_additional_data_result\n",
      "File \u001b[0;32m~/Study/CEDT/2_semeter_1/data_sci/dsde-project/src/chat.py:216\u001b[0m, in \u001b[0;36mtest_detect_additional_data\u001b[0;34m(self, user_input)\u001b[0m\n\u001b[1;32m    212\u001b[0m     reason \u001b[38;5;241m=\u001b[39m detect_additional_response_json[\u001b[38;5;124m\"\u001b[39m\u001b[38;5;124mreason\u001b[39m\u001b[38;5;124m\"\u001b[39m]\n\u001b[1;32m    214\u001b[0m     \u001b[38;5;28;01mreturn\u001b[39;00m DetectAdditionalData(isNeed\u001b[38;5;241m=\u001b[39mis_need, reason\u001b[38;5;241m=\u001b[39mreason)\n\u001b[0;32m--> 216\u001b[0m \u001b[38;5;28;01mdef\u001b[39;00m \u001b[38;5;21mtest_detect_additional_data\u001b[39m(\u001b[38;5;28mself\u001b[39m, user_input: UserInput) :\n\u001b[1;32m    217\u001b[0m     config \u001b[38;5;241m=\u001b[39m {\u001b[38;5;124m\"\u001b[39m\u001b[38;5;124mconfigurable\u001b[39m\u001b[38;5;124m\"\u001b[39m: {\u001b[38;5;124m\"\u001b[39m\u001b[38;5;124mthread_id\u001b[39m\u001b[38;5;124m\"\u001b[39m: user_input\u001b[38;5;241m.\u001b[39mchat_id}}\n\u001b[1;32m    218\u001b[0m     user_message \u001b[38;5;241m=\u001b[39m user_input\u001b[38;5;241m.\u001b[39mmessage\n",
      "\u001b[0;31mIndexError\u001b[0m: list index out of range"
     ]
    }
   ],
   "source": [
    "detect_additional_data_result = chat.test_detect_additional_data(user_input=user_detect_additional_data)\n",
    "detect_additional_data_result"
   ]
  },
  {
   "cell_type": "code",
   "execution_count": null,
   "metadata": {},
   "outputs": [
    {
     "data": {
      "text/plain": [
       "False"
      ]
     },
     "execution_count": 15,
     "metadata": {},
     "output_type": "execute_result"
    }
   ],
   "source": [
    "detect_additional_data_result"
   ]
  },
  {
   "cell_type": "code",
   "execution_count": null,
   "metadata": {},
   "outputs": [],
   "source": [
    "chat.clear_latest_message(chat_id=chat_id)"
   ]
  },
  {
   "cell_type": "markdown",
   "metadata": {},
   "source": [
    "## Continue chat Logic"
   ]
  },
  {
   "cell_type": "code",
   "execution_count": null,
   "metadata": {},
   "outputs": [
    {
     "data": {
      "text/plain": [
       "[HumanMessage(content='\\n{\\n    \"id\": \"85128243165.0_scopus\",\\n    \"title\": \"Product development of ice cream stick from raw banana powder\",\\n    \"type\": \"paper\",\\n    \"year\": 2022,\\n    \"abstract\": \"This research was focused on using raw bananas in place of natural wooden ice cream sticks. The raw bananas were used in a powdered form and then processed to create a substitute for the wooden sticks. A research operation was carried out, experimenting with different proportions of banana powder in a randomized complete block experimental design (RCBD). The properties of interest for the ice cream sticks were hardness, fracturability, and aw of samples, as well as a sensory evaluation. The research showed that ice cream sticks which contained 50\\\\u201380% raw banana powder with 40% sugar and 40 min of baking resulted in a product with the properties of commonly used wooden ice cream sticks, and that the product also had a good appearance along with positive consumer response. In addition, the maximum shelf life of such ice-cream sticks was 8 days. In the future, development of this product can increase the value of bananas and also reduce the waste of single-use wooden ice cream sticks.\",\\n    \"authors\": [\\n        \"Jittra Rukijkanpanich\",\\n        \" Sippothai Srininrat\",\\n        \" \"\\n    ],\\n    \"source\": \"scopus\"\\n}\\n{\\n    \"id\": \"85162929256.0_scopus\",\\n    \"title\": \"The Development of Kluai Namwa (Musa Sapientum Linn.) Energy Gel: An Alternative Ergogenic Aid for Enhancing Endurance Running Performance\",\\n    \"type\": \"paper\",\\n    \"year\": 2022,\\n    \"abstract\": \"Kluai Namwa (Musa Sapientum Linn.; Banana; BAN) is one of the most ancient species of banana well-grown in Thailand. BAN has a long history of use as a nutritional supplement and medical food due to its beneficial nutritional and therapeutic effects. Being an ergogenic aid, BAN has shown significant changes in the lipid profile, muscle and liver glycogen, enzyme activity, and Nitric Oxide (NO) activity inhibition, which results in prolonged exercise time. The objectives of this study were to develop a BAN energy gel and examine the effects of BAN energy gel on endurance running performance. The nutrition values of the developed BAN energy gel, glucose, sucrose, fructose, sodium, potassium, magnesium, protein, fat, ash, and total carbohydrate were assessed. The BAN energy gel nutrition values were 1.20\\\\u00b10.02 (g), 8.77\\\\u00b10.08 (g), 1.31\\\\u00b10.01 (g), 25.67\\\\u00b10.13 (mg), 184.83\\\\u00b10.54 (mg), 14.07\\\\u00b10.09 (mg), 0.43\\\\u00b10.08 (g), 0.14 \\\\u00b10.02 (%), 1.23\\\\u00b10.19 (g), 0.55\\\\u00b10.01 (g), 15.95\\\\u00b10.21 (%) per 100 g sample, respectively. BAN energy gel had total energy of 66.75\\\\u00b10.84 Kcal/100 g of sample. For examining the effects of BAN energy gel, eleven Thai male runners (aged 27.36\\\\u00b18.89 years and VO2 max 69.43\\\\u00b112.69 ml/kg/min) participated in this study to investigate Time To Exhaustion (TTE). TTE in subjects who consumed BAN energy gel was significantly longer than in subjects who consumed placebo (PLA) (55.23\\\\u00b110.32 min. vs. 46.13\\\\u00b19.87 min). The potassium level in the blood of subjects who consumed BAN energy gel was significantly higher than in subjects who consumed PLA (p<.05). This study found that BAN energy gel can prolong time to exhaustion. Therefore, BAN energy gel can be used as an ergogenic aid for runners, which is suitable to be consumed before and during the competition\",\\n    \"authors\": [\\n        \"Chutinan Suksaard\",\\n        \" Krittiya Kuenpetch\",\\n        \" Nattiporn Nokkaew\",\\n        \" \"\\n    ],\\n    \"source\": \"scopus\"\\n}\\n{\\n    \"id\": \"85136828752.0_scopus\",\\n    \"title\": \"Physicochemical properties, techno-functionality, and resistant starch of green fragrant banana flour\",\\n    \"type\": \"paper\",\\n    \"year\": 2022,\\n    \"abstract\": \"The composition and properties of flour produced from green whole and pulp of fragrant bananas were studied. Two fragrant banana varieties, Gros Michel (TY) and Cavendish (TW), grown in the same area at three stages of maturity (68, 76, and 82 days after anthesis), were processed as pulp and whole banana flour. A considerable amount of RS was found (21.5%-41.3% db). As maturity increased, RS decreased significantly. The flour had a high pasting temperature (80.2 to 82.4 \\\\u00baC), peak viscosity (1,920 to 3,669 cP), and setback (562 to 1274 cP), but relatively low breakdown (0 to 920 cP) with 2.29 to 3.91 grams of water holding capacity and 6.5 to 7.8-gram oil holding capacity per gram. Varieties and maturity had no significant effect on proximate composition, water holding capacity, and oil holding capacity. All banana flour samples showed the C-type crystalline structures with 20.5% to 23.1% crystallinity.\",\\n    \"authors\": [\\n        \"Kunchaporn Thawornlamlert\",\\n        \" Areerat Nonsawang\",\\n        \" Jirarat Anuntagool\",\\n        \" \"\\n    ],\\n    \"source\": \"scopus\"\\n}\\n{\\n    \"id\": \"85082673354.0_scopus\",\\n    \"title\": \"Isolation, separation and purification of rutin from Banana leaves (Musa balbisiana)\",\\n    \"type\": \"paper\",\\n    \"year\": 2020,\\n    \"abstract\": \"In this study, rutin was detected as a main component after the phytochemical screening of flavonoids from an ethanolic extract of banana leaves (Musa balbisiana) using thin layer chromatography plates (TLC). The rutin from the crude extract was separated using a series of solvent partition separations and was purified by using Sephadex\\\\u2122 column chromatography and semi-preparative reverse phase-high performance liquid chromatography (RP-HPLC). The compounds were characterized and quantified using NMR, Mass Spectroscopy (MS) and HPLC. A crude ethanolic extract of 124 g, containing 5.3 % of rutin, was obtained from 1 kg of dried banana leaf powder. After a series of solvent partition separations, the product from partitions using hexane/dichloromethane and dichloromethane/water in sequence contained a rutin content of 40.6 %. Purification using a Sephadex column yielded fractions with purity of rutin up to 74\\\\u201384 % and further purification using semi-preparative RP-HPLC produced a final product with a yield of rutin of 32.4 mg/g of the crude extracts and a purity of 98.4 %. The results revealed that banana leaves (M. balbisiana), a food industry by-product and agricultural waste, has the potential for use as an inexpensive and new source of rutin.\",\\n    \"authors\": [\\n        \"Panida Yingyuen\",\\n        \" Suchada Sukrong\",\\n        \" Muenduen Phisalaphong\",\\n        \" \"\\n    ],\\n    \"source\": \"scopus\"\\n}\\n{\\n    \"id\": \"85105698000.0_scopus\",\\n    \"title\": \"Quality of chilled and frozen starch gels as affected by starch type, highly concentrated sucrose and coconut milk\",\\n    \"type\": \"paper\",\\n    \"year\": 2021,\\n    \"abstract\": \"This research aimed to evaluate effects of starch source, sucrose at high concentration and coconut milk on physical properties of chilled and frozen starch gels, considered as traditional Thai dessert models. Gel containing 15% w/w of starch was prepared from rice starch, tapioca starch or blended rice starch/tapioca starch (1:0.85 w/w) mixed with water, 45oBx sucrose solution or coconut milk. The result showed that rice starch gel stored at 4 \\\\u00b0C had highest hardness, degree of syneresis and melting enthalpy of the retrograded structure (\\\\u0394Hret). Degree of syneresis of frozen rice starch gels subjected to several freezing-thawing cycles was also highest. Under chilled temperature storage, starch gels containing sucrose or coconut milk had higher hardness and denser gel structure, comparing to the starch gels in water. This textural change was due to greater degree of starch retrogradation, sucrose recrystallization and/or formation of amylose-lipid complex crystallites shown in X-ray diffractograms. However, addition of highly concentrated sucrose or coconut milk increased freeze-thaw stability of the frozen starch gels, as shown by decreasing degree of syneresis. Results from this study could be applied to formulate starch-based dessert with improved quality during chilled or frozen storage.\",\\n    \"authors\": [\\n        \"Aumaporn Arlai\",\\n        \" Kanitha Tananuwong\",\\n        \" \"\\n    ],\\n    \"source\": \"scopus\"\\n}\\n{\\n    \"id\": \"85110512136.0_scopus\",\\n    \"title\": \"Delayed softening of \\\\u201chom thong\\\\u201d banana fruits during postharvest storage following hot water treatment\",\\n    \"type\": \"paper\",\\n    \"year\": 2021,\\n    \"abstract\": \"This study investigated the effects of hot water treatment on the texture of banana fruits. Fruits were dipped in hot water at 50oC and 55oC for 10 min before being stored at 25oC. The firmness of fruits treated at 50oC was higher than that of untreated fruits, and physiological changes including fresh weight loss, ethylene production, total soluble solid content, and peel color were also prevented. Treatment at 55oC slowed softening, but induced peel damage and failure to develop a normal color. Investigation of the cell wall composition and structure following treatment at 50oC showed a delay in the increase of water-soluble pectin, correlated with fruit firmness. A higher level of HCl-soluble pectin was detected in treated fruits, indicating that cell wall polymer solubilization had been reduced. Structural alteration to the peel was also slower than in untreated fruits. The study clarified the effect of hot water treatment on alteration of the cell wall structure and composition of banana fruit during postharvest storage.\",\\n    \"authors\": [\\n        \"Nuankamol Amnuaysin\",\\n        \" Kanogwan Seraypheap\",\\n        \" Manit Kidyoo\",\\n        \" \"\\n    ],\\n    \"source\": \"scopus\"\\n}\\n{\\n    \"id\": \"85049326397.0_scopus\",\\n    \"title\": \"Probiotic encapsulation by spray drying using konjac glucomannan hydrolysate as wall material and its application in ice cream\",\\n    \"type\": \"paper\",\\n    \"year\": 2018,\\n    \"abstract\": \"This research aims to study encapsulation efficiency of cell probiotics by using Konjac glucomannan hydrolysate (KGMH) under spray drying. KGMH was prepared from Konjac glucomannan solution (KGMS) at different concentrations. Lactobacillus casei was used in this study as it is commonly used in food industry and resistance to heat. The effect of wall material (HGMH) concentration on encapsulation efficiency of the cell probiotic was evaluated. Probiotics culture was prepared by inoculating in sterile MRS broth and incubated at 37\\\\u00b0C for 48 hours, the cells were harvested in the early stationary phase. Konjac glucomannan solution was hydrolysed by mannanase at 40\\\\u00b0C for 4 hours. Then, probiotic solution (10 log CFU/ml) was mixed with KGMH at concentration of 15%, 20% and 25% (w/w). Spray drying condition was kept at constant inlet air temperature of 170\\\\u00b0C, outlet air temperature of 85\\\\u00b0C and feed flow rate of 10 mL min-l. Encapsulated probiotic with KGMH at concentration of 25% (w/w) exhibited the highest encapsulation efficiency (95.4 %), water activity of 0.198 and moisture content of 4.38 % (w.b.). For application in ice cream, microcapsules of probiotic encapsulated with KGMH at concentration of 25% with and without 10% (w/w) trehalose were then mixed into milk ice cream separately. The ice cream was stored at -18\\\\u00b0C for one month. The survival rate of microencapsulated probiotic cells and free cells probiotics in the ice cream were measured. It was found that microcapsule of KGMH at concentration of 25% (w/w) with 10% (w/w) trehalose gave higher survival rate of probiotics cell (> 90%) in ice cream under freezing temperature than KGMH at concentration of 25% (w/w) and free cell probiotics during storage, respectively.\",\\n    \"authors\": [\\n        \"Yanprapasiri K.\",\\n        \" Lohsrithong C.\",\\n        \" Setthachaimongkol S.\",\\n        \" Mekkerdchoo O.\",\\n        \" Borompichaichartkul C.\",\\n        \" \"\\n    ],\\n    \"source\": \"scopus\"\\n}\\n{\\n    \"id\": \"85083691578.0_scopus\",\\n    \"title\": \"Effect of calcination temperature of musa sapientum linn peels as a novel biobased heterogeneous catalyst for soybean oil-derived fatty acid methyl ester formation\",\\n    \"type\": \"paper\",\\n    \"year\": 2020,\\n    \"abstract\": \"In the present study, a novel solid base catalyst derived from desert banana (Musa sapientum Linn) peels was used as a catalyst for biodiesel production. The catalyst was calcined at several temperatures between 550\\\\u2013650 \\\\u00b0C under atmosphere pressure for 4 h. The composition, structure and texture of the calcined banana peel (CBP) catalysts were characterized by X-ray diffraction, thermogravimetric analysis, scanning electron microscopy with energy dispersive spectroscopy, X-ray fluorescence spectrophotometry, and Fourier-transform infrared spectroscopy analyses. The fatty acid profile of the feed soybean oil and the fatty acid methyl ester (FAME) product composition was analyzed using gas chromatography with flame ionization detection. The prepared catalysts were then applied for the catalytic transesterification of soybean oil with methanol under microwave-assisted heating to form FAME. The effect of the calcination temperature in the catalyst preparation, the catalyst loading level, reaction time, methanol: soybean oil molar ratio and catalyst reusability on the FAME yield were determined by univariate analysis. The CBP catalyst synthesized at 600 \\\\u00b0C exhibited the highest catalytic activity, since the calcined ash was rich in K, P, Ca and Mg which formed a basic heterogenous catalyst at this calcination temperature. At the determined optimal reaction condition (1 wt.% catalyst loading level, 12:1 molar ratio of methanol: soybean oil, and a 2 min of reaction time under 300 W microwave irradiation) a FAME yield of 99.3% was obtained. Furthermore, the catalyst showed a good reusability with a biodiesel yield of more than 80.7% after four uses.\",\\n    \"authors\": [\\n        \"Jakkrapong Jitjamnong\",\\n        \" Chachchaya Thunyaratchatanon\",\\n        \" Apanee Luengnaruemitchai\",\\n        \" Napaphat Kongrit\",\\n        \" Naparat Kasetsomboon\",\\n        \" Narinphop Chuaykarn\",\\n        \" Nonlapan Khantikulanon\",\\n        \" \"\\n    ],\\n    \"source\": \"scopus\"\\n}\\n\\n', additional_kwargs={}, response_metadata={}, id='ff72509b-df1e-4d42-b67d-f4f8c19cb540'),\n",
       " AIMessage(content='```json\\n{\\n  \"nodes\": [\\n    {\\n      \"id\": \"banana-based-products\",\\n      \"type\": \"keyword\",\\n      \"title\": \"Banana-Based Products\"\\n    },\\n    {\\n      \"id\": \"food-science-and-technology\",\\n      \"type\": \"keyword\",\\n      \"title\": \"Food Science and Technology\"\\n    },\\n    {\\n      \"id\": \"materials-science\",\\n      \"type\": \"keyword\",\\n      \"title\": \"Materials Science\"\\n    },\\n    {\\n      \"id\": \"biochemistry\",\\n      \"type\": \"keyword\",\\n      \"title\": \"Biochemistry\"\\n    },\\n    {\\n      \"id\": \"85128243165.0_scopus\",\\n      \"type\": \"paper\",\\n      \"title\": \"Product development of ice cream stick from raw banana powder\",\\n      \"year\": 2022,\\n      \"abstract\": \"This research focused on using raw banana powder to create ice cream sticks.  Experiments with different banana powder proportions showed that sticks containing 50-80% banana powder, 40% sugar, and baked for 40 minutes had similar properties to wooden sticks, with good appearance and consumer response. The shelf life was 8 days.\",\\n      \"authors\": [\\n        \"Jittra Rukijkanpanich\",\\n        \"Sippothai Srininrat\"\\n      ],\\n      \"source\": \"scopus\"\\n    },\\n    {\\n      \"id\": \"85162929256.0_scopus\",\\n      \"type\": \"paper\",\\n      \"title\": \"The Development of Kluai Namwa (Musa Sapientum Linn.) Energy Gel\",\\n      \"year\": 2022,\\n      \"abstract\": \"This study developed a banana energy gel and examined its effects on endurance running performance.  The gel prolonged time to exhaustion in runners, suggesting its potential as an ergogenic aid.\",\\n      \"authors\": [\\n        \"Chutinan Suksaard\",\\n        \"Krittiya Kuenpetch\",\\n        \"Nattiporn Nokkaew\"\\n      ],\\n      \"source\": \"scopus\"\\n    },\\n    {\\n      \"id\": \"85136828752.0_scopus\",\\n      \"type\": \"paper\",\\n      \"title\": \"Physicochemical properties, techno-functionality, and resistant starch of green fragrant banana flour\",\\n      \"year\": 2022,\\n      \"abstract\": \"This study investigated the properties of flour from green fragrant bananas. The flour had high pasting temperature, peak viscosity, and setback, but low breakdown.  Resistant starch content was significant but decreased with maturity.\",\\n      \"authors\": [\\n        \"Kunchaporn Thawornlamlert\",\\n        \"Areerat Nonsawang\",\\n        \"Jirarat Anuntagool\"\\n      ],\\n      \"source\": \"scopus\"\\n    },\\n    {\\n      \"id\": \"85082673354.0_scopus\",\\n      \"type\": \"paper\",\\n      \"title\": \"Isolation, separation and purification of rutin from Banana leaves (Musa balbisiana)\",\\n      \"year\": 2020,\\n      \"abstract\": \"This study successfully isolated and purified rutin from banana leaves, demonstrating their potential as a source of this valuable compound.\",\\n      \"authors\": [\\n        \"Panida Yingyuen\",\\n        \"Suchada Sukrong\",\\n        \"Muenduen Phisalaphong\"\\n      ],\\n      \"source\": \"scopus\"\\n    }\\n  ],\\n  \"links\": [\\n    {\\n      \"source\": \"banana-based-products\",\\n      \"target\": \"85128243165.0_scopus\"\\n    },\\n    {\\n      \"source\": \"banana-based-products\",\\n      \"target\": \"85162929256.0_scopus\"\\n    },\\n    {\\n      \"source\": \"food-science-and-technology\",\\n      \"target\": \"85128243165.0_scopus\"\\n    },\\n    {\\n      \"source\": \"food-science-and-technology\",\\n      \"target\": \"85162929256.0_scopus\"\\n    },\\n    {\\n      \"source\": \"food-science-and-technology\",\\n      \"target\": \"85136828752.0_scopus\"\\n    },\\n    {\\n      \"source\": \"materials-science\",\\n      \"target\": \"85128243165.0_scopus\"\\n    },\\n    {\\n      \"source\": \"biochemistry\",\\n      \"target\": \"85082673354.0_scopus\"\\n    }\\n  ],\\n  \"summation\": {\\n    \"msg\": \"The provided papers explore various uses of banana and banana parts, ranging from creating ice cream sticks and energy gels to extracting rutin and studying banana flour properties.  \\\\\"Product development of ice cream stick from raw banana powder\\\\\" presents a sustainable alternative to wooden sticks. \\\\\"The Development of Kluai Namwa Energy Gel\\\\\" explores bananas as an ergogenic aid. \\\\\"Physicochemical properties of green fragrant banana flour\\\\\" delves into the composition and functionality of banana flour.  \\\\\"Isolation and purification of rutin from Banana leaves\\\\\" demonstrates the potential of banana leaves as a rutin source. Do you have any other questions or need further assistance with this topic? I\\'m happy to help!\"\\n  },\\n  \"need_more_papers\": \"No\",\\n  \"reason\": \"The provided papers offer a good overview of different applications of banana and its components in food science, materials science, and biochemistry.  They cover diverse topics, suggesting sufficient coverage for now.\",\\n  \"next_step\": \"Consider focusing on a specific area of interest, such as the development of banana-based food products or the extraction of valuable compounds from banana waste.  This focus will allow for a more in-depth exploration and potentially lead to new insights.\"\\n}\\n```', additional_kwargs={}, response_metadata={'prompt_feedback': {'block_reason': 0, 'safety_ratings': []}, 'finish_reason': 'STOP', 'safety_ratings': []}, id='run-fac50f2c-3d0f-47b3-bc36-788edaf0e753-0', usage_metadata={'input_tokens': 4554, 'output_tokens': 1372, 'total_tokens': 5926, 'input_token_details': {'cache_read': 0}}),\n",
       " HumanMessage(content='\\nFrom the previous conversation, I have a graph data that contains some papers and keywords.\\nI want to know more about Computer\\nAccording to the amoung of paper that I have Do i need more articles for above message? If need more say \"yes\" otherwise say \"no\"\\n\\nnodes=[Node(id=\\'banana-based-products\\', title=\\'Banana-Based Products\\', type=<NodeType.keyword: \\'keyword\\'>, year=None, abstract=None, authors=None, source=None), Node(id=\\'food-science-and-technology\\', title=\\'Food Science and Technology\\', type=<NodeType.keyword: \\'keyword\\'>, year=None, abstract=None, authors=None, source=None), Node(id=\\'materials-science\\', title=\\'Materials Science\\', type=<NodeType.keyword: \\'keyword\\'>, year=None, abstract=None, authors=None, source=None), Node(id=\\'biochemistry\\', title=\\'Biochemistry\\', type=<NodeType.keyword: \\'keyword\\'>, year=None, abstract=None, authors=None, source=None), Node(id=\\'85128243165.0_scopus\\', title=\\'Product development of ice cream stick from raw banana powder\\', type=<NodeType.paper: \\'paper\\'>, year=2022, abstract=\\'This research focused on using raw banana powder to create ice cream sticks.  Experiments with different banana powder proportions showed that sticks containing 50-80% banana powder, 40% sugar, and baked for 40 minutes had similar properties to wooden sticks, with good appearance and consumer response. The shelf life was 8 days.\\', authors=[\\'Jittra Rukijkanpanich\\', \\'Sippothai Srininrat\\'], source=\\'scopus\\'), Node(id=\\'85162929256.0_scopus\\', title=\\'The Development of Kluai Namwa (Musa Sapientum Linn.) Energy Gel\\', type=<NodeType.paper: \\'paper\\'>, year=2022, abstract=\\'This study developed a banana energy gel and examined its effects on endurance running performance.  The gel prolonged time to exhaustion in runners, suggesting its potential as an ergogenic aid.\\', authors=[\\'Chutinan Suksaard\\', \\'Krittiya Kuenpetch\\', \\'Nattiporn Nokkaew\\'], source=\\'scopus\\'), Node(id=\\'85136828752.0_scopus\\', title=\\'Physicochemical properties, techno-functionality, and resistant starch of green fragrant banana flour\\', type=<NodeType.paper: \\'paper\\'>, year=2022, abstract=\\'This study investigated the properties of flour from green fragrant bananas. The flour had high pasting temperature, peak viscosity, and setback, but low breakdown.  Resistant starch content was significant but decreased with maturity.\\', authors=[\\'Kunchaporn Thawornlamlert\\', \\'Areerat Nonsawang\\', \\'Jirarat Anuntagool\\'], source=\\'scopus\\'), Node(id=\\'85082673354.0_scopus\\', title=\\'Isolation, separation and purification of rutin from Banana leaves (Musa balbisiana)\\', type=<NodeType.paper: \\'paper\\'>, year=2020, abstract=\\'This study successfully isolated and purified rutin from banana leaves, demonstrating their potential as a source of this valuable compound.\\', authors=[\\'Panida Yingyuen\\', \\'Suchada Sukrong\\', \\'Muenduen Phisalaphong\\'], source=\\'scopus\\')] links=[GraphLink(source=\\'banana-based-products\\', target=\\'85128243165.0_scopus\\'), GraphLink(source=\\'banana-based-products\\', target=\\'85162929256.0_scopus\\'), GraphLink(source=\\'food-science-and-technology\\', target=\\'85128243165.0_scopus\\'), GraphLink(source=\\'food-science-and-technology\\', target=\\'85162929256.0_scopus\\'), GraphLink(source=\\'food-science-and-technology\\', target=\\'85136828752.0_scopus\\'), GraphLink(source=\\'materials-science\\', target=\\'85128243165.0_scopus\\'), GraphLink(source=\\'biochemistry\\', target=\\'85082673354.0_scopus\\')]\\n\\nAccordning to the amount, quality and usage of paper that related to the topic of the conversation. Do the user needs the more number of papers?\\nIf yes reply \"Yes\" Otherwise \"No\" followed by the reason of the answer. Furthermore, suggest the next appropriate step to the user by,\\nconsidering the overall of this conversation efficieintly. Be calm, friendly, natural and love to give the best service to the user.\"\\n', additional_kwargs={}, response_metadata={}, id='d229d6a2-152f-45fc-ac65-8572c13d7fc9')]"
      ]
     },
     "execution_count": 17,
     "metadata": {},
     "output_type": "execute_result"
    }
   ],
   "source": [
    "chat.get_chat_history(chat_id=chat_id)"
   ]
  },
  {
   "cell_type": "code",
   "execution_count": null,
   "metadata": {},
   "outputs": [
    {
     "name": "stdout",
     "output_type": "stream",
     "text": [
      "Yes\n",
      "\n",
      "The current set of papers and keywords focuses on banana-related topics in food science, materials science, and biochemistry.  Since you want to learn about \"Computer,\" you'll need a completely different set of papers and resources. The existing information is irrelevant to your new query.\n",
      "\n",
      "Next step:  Please provide me with some keywords or specific areas within \"Computer\" that you are interested in. For example, are you interested in \"Artificial Intelligence,\" \"Computer Hardware,\" \"Software Engineering,\" or a particular programming language? The more specific you are, the better I can assist you in finding relevant information.\n",
      "\n",
      "False\n",
      "================================\u001b[1m Human Message \u001b[0m=================================\n",
      "\n",
      "\n",
      "{\n",
      "    \"id\": \"85128243165.0_scopus\",\n",
      "    \"title\": \"Product development of ice cream stick from raw banana powder\",\n",
      "    \"type\": \"paper\",\n",
      "    \"year\": 2022,\n",
      "    \"abstract\": \"This research was focused on using raw bananas in place of natural wooden ice cream sticks. The raw bananas were used in a powdered form and then processed to create a substitute for the wooden sticks. A research operation was carried out, experimenting with different proportions of banana powder in a randomized complete block experimental design (RCBD). The properties of interest for the ice cream sticks were hardness, fracturability, and aw of samples, as well as a sensory evaluation. The research showed that ice cream sticks which contained 50\\u201380% raw banana powder with 40% sugar and 40 min of baking resulted in a product with the properties of commonly used wooden ice cream sticks, and that the product also had a good appearance along with positive consumer response. In addition, the maximum shelf life of such ice-cream sticks was 8 days. In the future, development of this product can increase the value of bananas and also reduce the waste of single-use wooden ice cream sticks.\",\n",
      "    \"authors\": [\n",
      "        \"Jittra Rukijkanpanich\",\n",
      "        \" Sippothai Srininrat\",\n",
      "        \" \"\n",
      "    ],\n",
      "    \"source\": \"scopus\"\n",
      "}\n",
      "{\n",
      "    \"id\": \"85162929256.0_scopus\",\n",
      "    \"title\": \"The Development of Kluai Namwa (Musa Sapientum Linn.) Energy Gel: An Alternative Ergogenic Aid for Enhancing Endurance Running Performance\",\n",
      "    \"type\": \"paper\",\n",
      "    \"year\": 2022,\n",
      "    \"abstract\": \"Kluai Namwa (Musa Sapientum Linn.; Banana; BAN) is one of the most ancient species of banana well-grown in Thailand. BAN has a long history of use as a nutritional supplement and medical food due to its beneficial nutritional and therapeutic effects. Being an ergogenic aid, BAN has shown significant changes in the lipid profile, muscle and liver glycogen, enzyme activity, and Nitric Oxide (NO) activity inhibition, which results in prolonged exercise time. The objectives of this study were to develop a BAN energy gel and examine the effects of BAN energy gel on endurance running performance. The nutrition values of the developed BAN energy gel, glucose, sucrose, fructose, sodium, potassium, magnesium, protein, fat, ash, and total carbohydrate were assessed. The BAN energy gel nutrition values were 1.20\\u00b10.02 (g), 8.77\\u00b10.08 (g), 1.31\\u00b10.01 (g), 25.67\\u00b10.13 (mg), 184.83\\u00b10.54 (mg), 14.07\\u00b10.09 (mg), 0.43\\u00b10.08 (g), 0.14 \\u00b10.02 (%), 1.23\\u00b10.19 (g), 0.55\\u00b10.01 (g), 15.95\\u00b10.21 (%) per 100 g sample, respectively. BAN energy gel had total energy of 66.75\\u00b10.84 Kcal/100 g of sample. For examining the effects of BAN energy gel, eleven Thai male runners (aged 27.36\\u00b18.89 years and VO2 max 69.43\\u00b112.69 ml/kg/min) participated in this study to investigate Time To Exhaustion (TTE). TTE in subjects who consumed BAN energy gel was significantly longer than in subjects who consumed placebo (PLA) (55.23\\u00b110.32 min. vs. 46.13\\u00b19.87 min). The potassium level in the blood of subjects who consumed BAN energy gel was significantly higher than in subjects who consumed PLA (p<.05). This study found that BAN energy gel can prolong time to exhaustion. Therefore, BAN energy gel can be used as an ergogenic aid for runners, which is suitable to be consumed before and during the competition\",\n",
      "    \"authors\": [\n",
      "        \"Chutinan Suksaard\",\n",
      "        \" Krittiya Kuenpetch\",\n",
      "        \" Nattiporn Nokkaew\",\n",
      "        \" \"\n",
      "    ],\n",
      "    \"source\": \"scopus\"\n",
      "}\n",
      "{\n",
      "    \"id\": \"85136828752.0_scopus\",\n",
      "    \"title\": \"Physicochemical properties, techno-functionality, and resistant starch of green fragrant banana flour\",\n",
      "    \"type\": \"paper\",\n",
      "    \"year\": 2022,\n",
      "    \"abstract\": \"The composition and properties of flour produced from green whole and pulp of fragrant bananas were studied. Two fragrant banana varieties, Gros Michel (TY) and Cavendish (TW), grown in the same area at three stages of maturity (68, 76, and 82 days after anthesis), were processed as pulp and whole banana flour. A considerable amount of RS was found (21.5%-41.3% db). As maturity increased, RS decreased significantly. The flour had a high pasting temperature (80.2 to 82.4 \\u00baC), peak viscosity (1,920 to 3,669 cP), and setback (562 to 1274 cP), but relatively low breakdown (0 to 920 cP) with 2.29 to 3.91 grams of water holding capacity and 6.5 to 7.8-gram oil holding capacity per gram. Varieties and maturity had no significant effect on proximate composition, water holding capacity, and oil holding capacity. All banana flour samples showed the C-type crystalline structures with 20.5% to 23.1% crystallinity.\",\n",
      "    \"authors\": [\n",
      "        \"Kunchaporn Thawornlamlert\",\n",
      "        \" Areerat Nonsawang\",\n",
      "        \" Jirarat Anuntagool\",\n",
      "        \" \"\n",
      "    ],\n",
      "    \"source\": \"scopus\"\n",
      "}\n",
      "{\n",
      "    \"id\": \"85082673354.0_scopus\",\n",
      "    \"title\": \"Isolation, separation and purification of rutin from Banana leaves (Musa balbisiana)\",\n",
      "    \"type\": \"paper\",\n",
      "    \"year\": 2020,\n",
      "    \"abstract\": \"In this study, rutin was detected as a main component after the phytochemical screening of flavonoids from an ethanolic extract of banana leaves (Musa balbisiana) using thin layer chromatography plates (TLC). The rutin from the crude extract was separated using a series of solvent partition separations and was purified by using Sephadex\\u2122 column chromatography and semi-preparative reverse phase-high performance liquid chromatography (RP-HPLC). The compounds were characterized and quantified using NMR, Mass Spectroscopy (MS) and HPLC. A crude ethanolic extract of 124 g, containing 5.3 % of rutin, was obtained from 1 kg of dried banana leaf powder. After a series of solvent partition separations, the product from partitions using hexane/dichloromethane and dichloromethane/water in sequence contained a rutin content of 40.6 %. Purification using a Sephadex column yielded fractions with purity of rutin up to 74\\u201384 % and further purification using semi-preparative RP-HPLC produced a final product with a yield of rutin of 32.4 mg/g of the crude extracts and a purity of 98.4 %. The results revealed that banana leaves (M. balbisiana), a food industry by-product and agricultural waste, has the potential for use as an inexpensive and new source of rutin.\",\n",
      "    \"authors\": [\n",
      "        \"Panida Yingyuen\",\n",
      "        \" Suchada Sukrong\",\n",
      "        \" Muenduen Phisalaphong\",\n",
      "        \" \"\n",
      "    ],\n",
      "    \"source\": \"scopus\"\n",
      "}\n",
      "{\n",
      "    \"id\": \"85105698000.0_scopus\",\n",
      "    \"title\": \"Quality of chilled and frozen starch gels as affected by starch type, highly concentrated sucrose and coconut milk\",\n",
      "    \"type\": \"paper\",\n",
      "    \"year\": 2021,\n",
      "    \"abstract\": \"This research aimed to evaluate effects of starch source, sucrose at high concentration and coconut milk on physical properties of chilled and frozen starch gels, considered as traditional Thai dessert models. Gel containing 15% w/w of starch was prepared from rice starch, tapioca starch or blended rice starch/tapioca starch (1:0.85 w/w) mixed with water, 45oBx sucrose solution or coconut milk. The result showed that rice starch gel stored at 4 \\u00b0C had highest hardness, degree of syneresis and melting enthalpy of the retrograded structure (\\u0394Hret). Degree of syneresis of frozen rice starch gels subjected to several freezing-thawing cycles was also highest. Under chilled temperature storage, starch gels containing sucrose or coconut milk had higher hardness and denser gel structure, comparing to the starch gels in water. This textural change was due to greater degree of starch retrogradation, sucrose recrystallization and/or formation of amylose-lipid complex crystallites shown in X-ray diffractograms. However, addition of highly concentrated sucrose or coconut milk increased freeze-thaw stability of the frozen starch gels, as shown by decreasing degree of syneresis. Results from this study could be applied to formulate starch-based dessert with improved quality during chilled or frozen storage.\",\n",
      "    \"authors\": [\n",
      "        \"Aumaporn Arlai\",\n",
      "        \" Kanitha Tananuwong\",\n",
      "        \" \"\n",
      "    ],\n",
      "    \"source\": \"scopus\"\n",
      "}\n",
      "{\n",
      "    \"id\": \"85110512136.0_scopus\",\n",
      "    \"title\": \"Delayed softening of \\u201chom thong\\u201d banana fruits during postharvest storage following hot water treatment\",\n",
      "    \"type\": \"paper\",\n",
      "    \"year\": 2021,\n",
      "    \"abstract\": \"This study investigated the effects of hot water treatment on the texture of banana fruits. Fruits were dipped in hot water at 50oC and 55oC for 10 min before being stored at 25oC. The firmness of fruits treated at 50oC was higher than that of untreated fruits, and physiological changes including fresh weight loss, ethylene production, total soluble solid content, and peel color were also prevented. Treatment at 55oC slowed softening, but induced peel damage and failure to develop a normal color. Investigation of the cell wall composition and structure following treatment at 50oC showed a delay in the increase of water-soluble pectin, correlated with fruit firmness. A higher level of HCl-soluble pectin was detected in treated fruits, indicating that cell wall polymer solubilization had been reduced. Structural alteration to the peel was also slower than in untreated fruits. The study clarified the effect of hot water treatment on alteration of the cell wall structure and composition of banana fruit during postharvest storage.\",\n",
      "    \"authors\": [\n",
      "        \"Nuankamol Amnuaysin\",\n",
      "        \" Kanogwan Seraypheap\",\n",
      "        \" Manit Kidyoo\",\n",
      "        \" \"\n",
      "    ],\n",
      "    \"source\": \"scopus\"\n",
      "}\n",
      "{\n",
      "    \"id\": \"85049326397.0_scopus\",\n",
      "    \"title\": \"Probiotic encapsulation by spray drying using konjac glucomannan hydrolysate as wall material and its application in ice cream\",\n",
      "    \"type\": \"paper\",\n",
      "    \"year\": 2018,\n",
      "    \"abstract\": \"This research aims to study encapsulation efficiency of cell probiotics by using Konjac glucomannan hydrolysate (KGMH) under spray drying. KGMH was prepared from Konjac glucomannan solution (KGMS) at different concentrations. Lactobacillus casei was used in this study as it is commonly used in food industry and resistance to heat. The effect of wall material (HGMH) concentration on encapsulation efficiency of the cell probiotic was evaluated. Probiotics culture was prepared by inoculating in sterile MRS broth and incubated at 37\\u00b0C for 48 hours, the cells were harvested in the early stationary phase. Konjac glucomannan solution was hydrolysed by mannanase at 40\\u00b0C for 4 hours. Then, probiotic solution (10 log CFU/ml) was mixed with KGMH at concentration of 15%, 20% and 25% (w/w). Spray drying condition was kept at constant inlet air temperature of 170\\u00b0C, outlet air temperature of 85\\u00b0C and feed flow rate of 10 mL min-l. Encapsulated probiotic with KGMH at concentration of 25% (w/w) exhibited the highest encapsulation efficiency (95.4 %), water activity of 0.198 and moisture content of 4.38 % (w.b.). For application in ice cream, microcapsules of probiotic encapsulated with KGMH at concentration of 25% with and without 10% (w/w) trehalose were then mixed into milk ice cream separately. The ice cream was stored at -18\\u00b0C for one month. The survival rate of microencapsulated probiotic cells and free cells probiotics in the ice cream were measured. It was found that microcapsule of KGMH at concentration of 25% (w/w) with 10% (w/w) trehalose gave higher survival rate of probiotics cell (> 90%) in ice cream under freezing temperature than KGMH at concentration of 25% (w/w) and free cell probiotics during storage, respectively.\",\n",
      "    \"authors\": [\n",
      "        \"Yanprapasiri K.\",\n",
      "        \" Lohsrithong C.\",\n",
      "        \" Setthachaimongkol S.\",\n",
      "        \" Mekkerdchoo O.\",\n",
      "        \" Borompichaichartkul C.\",\n",
      "        \" \"\n",
      "    ],\n",
      "    \"source\": \"scopus\"\n",
      "}\n",
      "{\n",
      "    \"id\": \"85083691578.0_scopus\",\n",
      "    \"title\": \"Effect of calcination temperature of musa sapientum linn peels as a novel biobased heterogeneous catalyst for soybean oil-derived fatty acid methyl ester formation\",\n",
      "    \"type\": \"paper\",\n",
      "    \"year\": 2020,\n",
      "    \"abstract\": \"In the present study, a novel solid base catalyst derived from desert banana (Musa sapientum Linn) peels was used as a catalyst for biodiesel production. The catalyst was calcined at several temperatures between 550\\u2013650 \\u00b0C under atmosphere pressure for 4 h. The composition, structure and texture of the calcined banana peel (CBP) catalysts were characterized by X-ray diffraction, thermogravimetric analysis, scanning electron microscopy with energy dispersive spectroscopy, X-ray fluorescence spectrophotometry, and Fourier-transform infrared spectroscopy analyses. The fatty acid profile of the feed soybean oil and the fatty acid methyl ester (FAME) product composition was analyzed using gas chromatography with flame ionization detection. The prepared catalysts were then applied for the catalytic transesterification of soybean oil with methanol under microwave-assisted heating to form FAME. The effect of the calcination temperature in the catalyst preparation, the catalyst loading level, reaction time, methanol: soybean oil molar ratio and catalyst reusability on the FAME yield were determined by univariate analysis. The CBP catalyst synthesized at 600 \\u00b0C exhibited the highest catalytic activity, since the calcined ash was rich in K, P, Ca and Mg which formed a basic heterogenous catalyst at this calcination temperature. At the determined optimal reaction condition (1 wt.% catalyst loading level, 12:1 molar ratio of methanol: soybean oil, and a 2 min of reaction time under 300 W microwave irradiation) a FAME yield of 99.3% was obtained. Furthermore, the catalyst showed a good reusability with a biodiesel yield of more than 80.7% after four uses.\",\n",
      "    \"authors\": [\n",
      "        \"Jakkrapong Jitjamnong\",\n",
      "        \" Chachchaya Thunyaratchatanon\",\n",
      "        \" Apanee Luengnaruemitchai\",\n",
      "        \" Napaphat Kongrit\",\n",
      "        \" Naparat Kasetsomboon\",\n",
      "        \" Narinphop Chuaykarn\",\n",
      "        \" Nonlapan Khantikulanon\",\n",
      "        \" \"\n",
      "    ],\n",
      "    \"source\": \"scopus\"\n",
      "}\n",
      "\n",
      "\n",
      "None\n",
      "==================================\u001b[1m Ai Message \u001b[0m==================================\n",
      "\n",
      "```json\n",
      "{\n",
      "  \"nodes\": [\n",
      "    {\n",
      "      \"id\": \"banana-based-products\",\n",
      "      \"type\": \"keyword\",\n",
      "      \"title\": \"Banana-Based Products\"\n",
      "    },\n",
      "    {\n",
      "      \"id\": \"food-science-and-technology\",\n",
      "      \"type\": \"keyword\",\n",
      "      \"title\": \"Food Science and Technology\"\n",
      "    },\n",
      "    {\n",
      "      \"id\": \"materials-science\",\n",
      "      \"type\": \"keyword\",\n",
      "      \"title\": \"Materials Science\"\n",
      "    },\n",
      "    {\n",
      "      \"id\": \"biochemistry\",\n",
      "      \"type\": \"keyword\",\n",
      "      \"title\": \"Biochemistry\"\n",
      "    },\n",
      "    {\n",
      "      \"id\": \"85128243165.0_scopus\",\n",
      "      \"type\": \"paper\",\n",
      "      \"title\": \"Product development of ice cream stick from raw banana powder\",\n",
      "      \"year\": 2022,\n",
      "      \"abstract\": \"This research focused on using raw banana powder to create ice cream sticks.  Experiments with different banana powder proportions showed that sticks containing 50-80% banana powder, 40% sugar, and baked for 40 minutes had similar properties to wooden sticks, with good appearance and consumer response. The shelf life was 8 days.\",\n",
      "      \"authors\": [\n",
      "        \"Jittra Rukijkanpanich\",\n",
      "        \"Sippothai Srininrat\"\n",
      "      ],\n",
      "      \"source\": \"scopus\"\n",
      "    },\n",
      "    {\n",
      "      \"id\": \"85162929256.0_scopus\",\n",
      "      \"type\": \"paper\",\n",
      "      \"title\": \"The Development of Kluai Namwa (Musa Sapientum Linn.) Energy Gel\",\n",
      "      \"year\": 2022,\n",
      "      \"abstract\": \"This study developed a banana energy gel and examined its effects on endurance running performance.  The gel prolonged time to exhaustion in runners, suggesting its potential as an ergogenic aid.\",\n",
      "      \"authors\": [\n",
      "        \"Chutinan Suksaard\",\n",
      "        \"Krittiya Kuenpetch\",\n",
      "        \"Nattiporn Nokkaew\"\n",
      "      ],\n",
      "      \"source\": \"scopus\"\n",
      "    },\n",
      "    {\n",
      "      \"id\": \"85136828752.0_scopus\",\n",
      "      \"type\": \"paper\",\n",
      "      \"title\": \"Physicochemical properties, techno-functionality, and resistant starch of green fragrant banana flour\",\n",
      "      \"year\": 2022,\n",
      "      \"abstract\": \"This study investigated the properties of flour from green fragrant bananas. The flour had high pasting temperature, peak viscosity, and setback, but low breakdown.  Resistant starch content was significant but decreased with maturity.\",\n",
      "      \"authors\": [\n",
      "        \"Kunchaporn Thawornlamlert\",\n",
      "        \"Areerat Nonsawang\",\n",
      "        \"Jirarat Anuntagool\"\n",
      "      ],\n",
      "      \"source\": \"scopus\"\n",
      "    },\n",
      "    {\n",
      "      \"id\": \"85082673354.0_scopus\",\n",
      "      \"type\": \"paper\",\n",
      "      \"title\": \"Isolation, separation and purification of rutin from Banana leaves (Musa balbisiana)\",\n",
      "      \"year\": 2020,\n",
      "      \"abstract\": \"This study successfully isolated and purified rutin from banana leaves, demonstrating their potential as a source of this valuable compound.\",\n",
      "      \"authors\": [\n",
      "        \"Panida Yingyuen\",\n",
      "        \"Suchada Sukrong\",\n",
      "        \"Muenduen Phisalaphong\"\n",
      "      ],\n",
      "      \"source\": \"scopus\"\n",
      "    }\n",
      "  ],\n",
      "  \"links\": [\n",
      "    {\n",
      "      \"source\": \"banana-based-products\",\n",
      "      \"target\": \"85128243165.0_scopus\"\n",
      "    },\n",
      "    {\n",
      "      \"source\": \"banana-based-products\",\n",
      "      \"target\": \"85162929256.0_scopus\"\n",
      "    },\n",
      "    {\n",
      "      \"source\": \"food-science-and-technology\",\n",
      "      \"target\": \"85128243165.0_scopus\"\n",
      "    },\n",
      "    {\n",
      "      \"source\": \"food-science-and-technology\",\n",
      "      \"target\": \"85162929256.0_scopus\"\n",
      "    },\n",
      "    {\n",
      "      \"source\": \"food-science-and-technology\",\n",
      "      \"target\": \"85136828752.0_scopus\"\n",
      "    },\n",
      "    {\n",
      "      \"source\": \"materials-science\",\n",
      "      \"target\": \"85128243165.0_scopus\"\n",
      "    },\n",
      "    {\n",
      "      \"source\": \"biochemistry\",\n",
      "      \"target\": \"85082673354.0_scopus\"\n",
      "    }\n",
      "  ],\n",
      "  \"summation\": {\n",
      "    \"msg\": \"The provided papers explore various uses of banana and banana parts, ranging from creating ice cream sticks and energy gels to extracting rutin and studying banana flour properties.  \\\"Product development of ice cream stick from raw banana powder\\\" presents a sustainable alternative to wooden sticks. \\\"The Development of Kluai Namwa Energy Gel\\\" explores bananas as an ergogenic aid. \\\"Physicochemical properties of green fragrant banana flour\\\" delves into the composition and functionality of banana flour.  \\\"Isolation and purification of rutin from Banana leaves\\\" demonstrates the potential of banana leaves as a rutin source. Do you have any other questions or need further assistance with this topic? I'm happy to help!\"\n",
      "  },\n",
      "  \"need_more_papers\": \"No\",\n",
      "  \"reason\": \"The provided papers offer a good overview of different applications of banana and its components in food science, materials science, and biochemistry.  They cover diverse topics, suggesting sufficient coverage for now.\",\n",
      "  \"next_step\": \"Consider focusing on a specific area of interest, such as the development of banana-based food products or the extraction of valuable compounds from banana waste.  This focus will allow for a more in-depth exploration and potentially lead to new insights.\"\n",
      "}\n",
      "```\n",
      "None\n",
      "================================\u001b[1m Human Message \u001b[0m=================================\n",
      "\n",
      "\n",
      "From the previous conversation, I have a graph data that contains some papers and keywords.\n",
      "I want to know more about Computer\n",
      "According to the amoung of paper that I have Do i need more articles for above message? If need more say \"yes\" otherwise say \"no\"\n",
      "\n",
      "nodes=[Node(id='banana-based-products', title='Banana-Based Products', type=<NodeType.keyword: 'keyword'>, year=None, abstract=None, authors=None, source=None), Node(id='food-science-and-technology', title='Food Science and Technology', type=<NodeType.keyword: 'keyword'>, year=None, abstract=None, authors=None, source=None), Node(id='materials-science', title='Materials Science', type=<NodeType.keyword: 'keyword'>, year=None, abstract=None, authors=None, source=None), Node(id='biochemistry', title='Biochemistry', type=<NodeType.keyword: 'keyword'>, year=None, abstract=None, authors=None, source=None), Node(id='85128243165.0_scopus', title='Product development of ice cream stick from raw banana powder', type=<NodeType.paper: 'paper'>, year=2022, abstract='This research focused on using raw banana powder to create ice cream sticks.  Experiments with different banana powder proportions showed that sticks containing 50-80% banana powder, 40% sugar, and baked for 40 minutes had similar properties to wooden sticks, with good appearance and consumer response. The shelf life was 8 days.', authors=['Jittra Rukijkanpanich', 'Sippothai Srininrat'], source='scopus'), Node(id='85162929256.0_scopus', title='The Development of Kluai Namwa (Musa Sapientum Linn.) Energy Gel', type=<NodeType.paper: 'paper'>, year=2022, abstract='This study developed a banana energy gel and examined its effects on endurance running performance.  The gel prolonged time to exhaustion in runners, suggesting its potential as an ergogenic aid.', authors=['Chutinan Suksaard', 'Krittiya Kuenpetch', 'Nattiporn Nokkaew'], source='scopus'), Node(id='85136828752.0_scopus', title='Physicochemical properties, techno-functionality, and resistant starch of green fragrant banana flour', type=<NodeType.paper: 'paper'>, year=2022, abstract='This study investigated the properties of flour from green fragrant bananas. The flour had high pasting temperature, peak viscosity, and setback, but low breakdown.  Resistant starch content was significant but decreased with maturity.', authors=['Kunchaporn Thawornlamlert', 'Areerat Nonsawang', 'Jirarat Anuntagool'], source='scopus'), Node(id='85082673354.0_scopus', title='Isolation, separation and purification of rutin from Banana leaves (Musa balbisiana)', type=<NodeType.paper: 'paper'>, year=2020, abstract='This study successfully isolated and purified rutin from banana leaves, demonstrating their potential as a source of this valuable compound.', authors=['Panida Yingyuen', 'Suchada Sukrong', 'Muenduen Phisalaphong'], source='scopus')] links=[GraphLink(source='banana-based-products', target='85128243165.0_scopus'), GraphLink(source='banana-based-products', target='85162929256.0_scopus'), GraphLink(source='food-science-and-technology', target='85128243165.0_scopus'), GraphLink(source='food-science-and-technology', target='85162929256.0_scopus'), GraphLink(source='food-science-and-technology', target='85136828752.0_scopus'), GraphLink(source='materials-science', target='85128243165.0_scopus'), GraphLink(source='biochemistry', target='85082673354.0_scopus')]\n",
      "\n",
      "Accordning to the amount, quality and usage of paper that related to the topic of the conversation. Do the user needs the more number of papers?\n",
      "If yes reply \"Yes\" Otherwise \"No\" followed by the reason of the answer. Furthermore, suggest the next appropriate step to the user by,\n",
      "considering the overall of this conversation efficieintly. Be calm, friendly, natural and love to give the best service to the user.\"\n",
      "\n",
      "None\n",
      "================================\u001b[1m Human Message \u001b[0m=================================\n",
      "\n",
      "\n",
      "From the previous conversation, I have a graph data that contains some papers and keywords.\n",
      "I want to know more about Computer\n",
      "According to the amoung of paper that I have Do i need more articles for above message? If need more say \"yes\" otherwise say \"no\"\n",
      "\n",
      "nodes=[Node(id='banana-based-products', title='Banana-Based Products', type=<NodeType.keyword: 'keyword'>, year=None, abstract=None, authors=None, source=None), Node(id='food-science-and-technology', title='Food Science and Technology', type=<NodeType.keyword: 'keyword'>, year=None, abstract=None, authors=None, source=None), Node(id='materials-science', title='Materials Science', type=<NodeType.keyword: 'keyword'>, year=None, abstract=None, authors=None, source=None), Node(id='biochemistry', title='Biochemistry', type=<NodeType.keyword: 'keyword'>, year=None, abstract=None, authors=None, source=None), Node(id='85128243165.0_scopus', title='Product development of ice cream stick from raw banana powder', type=<NodeType.paper: 'paper'>, year=2022, abstract='This research focused on using raw banana powder to create ice cream sticks.  Experiments with different banana powder proportions showed that sticks containing 50-80% banana powder, 40% sugar, and baked for 40 minutes had similar properties to wooden sticks, with good appearance and consumer response. The shelf life was 8 days.', authors=['Jittra Rukijkanpanich', 'Sippothai Srininrat'], source='scopus'), Node(id='85162929256.0_scopus', title='The Development of Kluai Namwa (Musa Sapientum Linn.) Energy Gel', type=<NodeType.paper: 'paper'>, year=2022, abstract='This study developed a banana energy gel and examined its effects on endurance running performance.  The gel prolonged time to exhaustion in runners, suggesting its potential as an ergogenic aid.', authors=['Chutinan Suksaard', 'Krittiya Kuenpetch', 'Nattiporn Nokkaew'], source='scopus'), Node(id='85136828752.0_scopus', title='Physicochemical properties, techno-functionality, and resistant starch of green fragrant banana flour', type=<NodeType.paper: 'paper'>, year=2022, abstract='This study investigated the properties of flour from green fragrant bananas. The flour had high pasting temperature, peak viscosity, and setback, but low breakdown.  Resistant starch content was significant but decreased with maturity.', authors=['Kunchaporn Thawornlamlert', 'Areerat Nonsawang', 'Jirarat Anuntagool'], source='scopus'), Node(id='85082673354.0_scopus', title='Isolation, separation and purification of rutin from Banana leaves (Musa balbisiana)', type=<NodeType.paper: 'paper'>, year=2020, abstract='This study successfully isolated and purified rutin from banana leaves, demonstrating their potential as a source of this valuable compound.', authors=['Panida Yingyuen', 'Suchada Sukrong', 'Muenduen Phisalaphong'], source='scopus')] links=[GraphLink(source='banana-based-products', target='85128243165.0_scopus'), GraphLink(source='banana-based-products', target='85162929256.0_scopus'), GraphLink(source='food-science-and-technology', target='85128243165.0_scopus'), GraphLink(source='food-science-and-technology', target='85162929256.0_scopus'), GraphLink(source='food-science-and-technology', target='85136828752.0_scopus'), GraphLink(source='materials-science', target='85128243165.0_scopus'), GraphLink(source='biochemistry', target='85082673354.0_scopus')]\n",
      "\n",
      "Accordning to the amount, quality and usage of paper that related to the topic of the conversation. Do the user needs the more number of papers?\n",
      "If yes reply \"Yes\" Otherwise \"No\" followed by the reason of the answer. Furthermore, suggest the next appropriate step to the user by,\n",
      "considering the overall of this conversation efficieintly. Be calm, friendly, natural and love to give the best service to the user.\"\n",
      "\n",
      "None\n",
      "==================================\u001b[1m Ai Message \u001b[0m==================================\n",
      "\n",
      "Yes\n",
      "\n",
      "The current set of papers and keywords focuses on banana-related topics in food science, materials science, and biochemistry.  Since you want to learn about \"Computer,\" you'll need a completely different set of papers and resources. The existing information is irrelevant to your new query.\n",
      "\n",
      "Next step:  Please provide me with some keywords or specific areas within \"Computer\" that you are interested in. For example, are you interested in \"Artificial Intelligence,\" \"Computer Hardware,\" \"Software Engineering,\" or a particular programming language? The more specific you are, the better I can assist you in finding relevant information.\n",
      "None\n",
      "================================\u001b[1m Human Message \u001b[0m=================================\n",
      "\n",
      "\n",
      "\n",
      "\n",
      "None\n",
      "==================================\u001b[1m Ai Message \u001b[0m==================================\n",
      "\n",
      "Okay, I'm ready for your next query about \"Computer\" topics.  Please tell me what you'd like to learn about!  I can help you find relevant papers, articles, and other resources.\n",
      "None\n"
     ]
    }
   ],
   "source": [
    "continue_chat_result = chat.test_continue_chat(user_input=user_detect_additional_data)"
   ]
  },
  {
   "cell_type": "code",
   "execution_count": null,
   "metadata": {},
   "outputs": [],
   "source": []
  }
 ],
 "metadata": {
  "kernelspec": {
   "display_name": "dsde-cedt",
   "language": "python",
   "name": "python3"
  },
  "language_info": {
   "codemirror_mode": {
    "name": "ipython",
    "version": 3
   },
   "file_extension": ".py",
   "mimetype": "text/x-python",
   "name": "python",
   "nbconvert_exporter": "python",
   "pygments_lexer": "ipython3",
   "version": "3.11.8"
  }
 },
 "nbformat": 4,
 "nbformat_minor": 2
}
