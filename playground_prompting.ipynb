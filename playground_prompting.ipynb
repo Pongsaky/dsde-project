{
 "cells": [
  {
   "cell_type": "code",
   "execution_count": 14,
   "metadata": {},
   "outputs": [],
   "source": [
    "from src.chat import Chat\n",
    "from app.models.UserInput import UserInput"
   ]
  },
  {
   "cell_type": "code",
   "execution_count": 15,
   "metadata": {},
   "outputs": [
    {
     "name": "stderr",
     "output_type": "stream",
     "text": [
      "/Users/gcpuppy/Documents/WorkSpace/DataSci/dsde-project/src/database/qdrant.py:37: DtypeWarning: Columns (0) have mixed types. Specify dtype option on import or set low_memory=False.\n",
      "  self.df = pd.read_csv(\"combined_data.csv\")\n"
     ]
    }
   ],
   "source": [
    "chat = Chat()\n"
   ]
  },
  {
   "cell_type": "markdown",
   "metadata": {},
   "source": [
    "## Set System Prompt"
   ]
  },
  {
   "cell_type": "code",
   "execution_count": 16,
   "metadata": {},
   "outputs": [],
   "source": [
    "user_message = \"Suggests me some articles about watermelon\"\n",
    "\n",
    "chat_id = \"abc\"\n",
    "user_input = UserInput(\n",
    "    chat_id=chat_id,\n",
    "    message=user_message,\n",
    "    currentGraph=None\n",
    ")"
   ]
  },
  {
   "cell_type": "markdown",
   "metadata": {},
   "source": [
    "# Goal\n",
    "1. Give \"Keyword node\"\n",
    "2. Give \"GrapLink from GraphData\""
   ]
  },
  {
   "cell_type": "code",
   "execution_count": 17,
   "metadata": {},
   "outputs": [],
   "source": [
    "### FIX HERE\n",
    "system_template_prompt = \"\"\"You are an AI assistance for encouraging the system to initialize new \"node\" from below data that was fetched from QdrantDB. Node have two types which are \"Paper\" and \"Keyword\".\n",
    "Keyword is a short word that related to topic, title or field of the input messages from user while \"Paper\" is the main content of articles in the database. Your tasks are generating \"Keyword\" node based on summarizing the content of user messages and \"Paper\" node, a node that contains more . Both of them follow this structure of node object: \n",
    "\n",
    "Don't forget to ensure that the values that will be assigned are related to data in the databas\n",
    "\n",
    "This is the guideines for you:\n",
    "1. Analyze the given user input to find some \"Keyword\" that related to the user message topic, papers, articles.\n",
    "2. From the paper that user give to you, You have to find the top most important 4-5 topics and keep their id, title, type, year, abstract (if the abstract too long just keep as long as you think it's important and meaningful),  author and source in Json format.\n",
    "3. After you have done the step 2, Create the nodes, this is the example structure. \n",
    "    \"links\" : [\n",
    "        \n",
    "            \"source\" : \"2410.18541_arxiv\",\n",
    "            \"target\" : \"2204.13154_arxiv\"\n",
    "        ,\n",
    "        \n",
    "            \"source\" : \"transformer-and-attention-is-all-you-need\",\n",
    "            \"target\" : \"2204.13154_arxiv\"\n",
    "        ,\n",
    "        \n",
    "            \"source\" : \"transformer-and-attention-is-all-you-need\",\n",
    "            \"target\" : \"2410.18541_arxiv\"\n",
    "        ,\n",
    "    ]\n",
    "\n",
    "\n",
    "Ensure that every pairs of the Graphlinks member are related and as you can see from the example, some graph link might have the same source, which store\n",
    "the ID of the starter node (the node that have higher level).\n",
    "Don't for get to change the id of source and target to the correct id of provided paper. The IDs in the examples isn't always the same as what users provide to you.\n",
    "However, You can adjust the inhertance of the graph using your decision to make it be more appropriate.\n",
    "4. Node with type \"keyword\" will have 3 fields [id], [type] and [title] (no label)\n",
    "5. In the end, Return them in json format by Nodes and GraphLinks is in the same level and re-check if everything is correct and follows the guidelines, IDs in GraphLinks are paired with the IDs from provided papers.\n",
    "6. Moreover, add one more section to the response Json, \"Summation\". It's a section to show the message that obtain from wraping the information up. You might add the title of the articles to make it be more easier to read. and don't for get to keep the conversation\n",
    "in friendly mood and always encourage the user to ask you if they have any problems or need any helps.\n",
    "\n",
    "\"\"\"\n",
    "### FIX HERE\n",
    "\n",
    "chat.set_system_template_prompt(system_template_prompt)"
   ]
  },
  {
   "cell_type": "markdown",
   "metadata": {},
   "source": [
    "# Set Chat Template Prompt"
   ]
  },
  {
   "cell_type": "code",
   "execution_count": 18,
   "metadata": {},
   "outputs": [],
   "source": [
    "### FIX HERE\n",
    "chat_template_prompt = \"\"\"\n",
    "{paper_data}\n",
    "\"\"\"\n",
    "### FIX HERE\n",
    "\n",
    "chat.set_chat_template_prompt(chat_template_prompt)"
   ]
  },
  {
   "cell_type": "code",
   "execution_count": 19,
   "metadata": {},
   "outputs": [
    {
     "name": "stdout",
     "output_type": "stream",
     "text": [
      "================================\u001b[1m Human Message \u001b[0m=================================\n",
      "\n",
      "\n",
      "{\n",
      "    \"id\": \"2303.16609_arxiv\",\n",
      "    \"title\": \"Modified watershed approach for segmentation of complex optical\\n  coherence tomographic images\",\n",
      "    \"type\": \"paper\",\n",
      "    \"year\": 2023,\n",
      "    \"abstract\": \"  Watershed segmentation method has been used in various applications. But many\\na times, due to its over-segmentation attributes, it underperforms in several\\ntasks where noise is a dominant source. In this study, Optical Coherence\\nTomography images have been acquired, and segmentation has been performed to\\nanalyse the different regions of fluid filled sacs in a lemon. A modified\\nwatershed algorithm has been proposed which gives promising results for\\nsegmentation of internal lemon structures.\\n\",\n",
      "    \"authors\": [\n",
      "        \"Maryam Viqar\",\n",
      "        \" Violeta Madjarova\",\n",
      "        \" Elena Stoykova\"\n",
      "    ],\n",
      "    \"source\": \"arxiv\"\n",
      "}\n",
      "{\n",
      "    \"id\": \"85117283638.0_scopus\",\n",
      "    \"title\": \"Comprehensive genome-wide analysis of calmodulin-binding transcription activator (CAMTA) in Durio zibethinus and identification of fruit ripening-associated DzCAMTAs\",\n",
      "    \"type\": \"paper\",\n",
      "    \"year\": 2021,\n",
      "    \"abstract\": \"Background: Fruit ripening is an intricate developmental process driven by a highly coordinated action of complex hormonal networks. Ethylene is considered as the main phytohormone that regulates the ripening of climacteric fruits. Concomitantly, several ethylene-responsive transcription factors (TFs) are pivotal components of the regulatory network underlying fruit ripening. Calmodulin-binding transcription activator (CAMTA) is one such ethylene-induced TF implicated in various stress and plant developmental processes. Results: Our comprehensive analysis of the CAMTA gene family in Durio zibethinus (durian, Dz) identified 10 CAMTAs with conserved domains. Phylogenetic analysis of DzCAMTAs, positioned DzCAMTA3 with its tomato ortholog that has already been validated for its role in the fruit ripening process through ethylene-mediated signaling. Furthermore, the transcriptome-wide analysis revealed DzCAMTA3 and DzCAMTA8 as the highest expressing durian CAMTA genes. These two DzCAMTAs possessed a distinct ripening-associated expression pattern during post-harvest ripening in Monthong, a durian cultivar native to Thailand. The expression profiling of DzCAMTA3 and DzCAMTA8 under natural ripening conditions and ethylene-induced/delayed ripening conditions substantiated their roles as ethylene-induced transcriptional activators of ripening. Similarly, auxin-suppressed expression of DzCAMTA3 and DzCAMTA8 confirmed their responsiveness to exogenous auxin treatment in a time-dependent manner. Accordingly, we propose that DzCAMTA3 and DzCAMTA8 synergistically crosstalk with ethylene during durian fruit ripening. In contrast, DzCAMTA3 and DzCAMTA8 antagonistically with auxin could affect the post-harvest ripening process in durian. Furthermore, DzCAMTA3 and DzCAMTA8 interacting genes contain significant CAMTA recognition motifs and regulated several pivotal fruit-ripening-associated pathways. Conclusion: Taken together, the present study contributes to an in-depth understanding of the structure and probable function of CAMTA genes in the post-harvest ripening of durian.\",\n",
      "    \"authors\": [\n",
      "        \"Zahra Iqbal\",\n",
      "        \" Mohammed Shariq Iqbal\",\n",
      "        \" Lalida Sangpong\",\n",
      "        \" Gholamreza Khaksar\",\n",
      "        \" Supaart Sirikantaramas\",\n",
      "        \" Teerapong Buaboocha\",\n",
      "        \" \"\n",
      "    ],\n",
      "    \"source\": \"scopus\"\n",
      "}\n",
      "{\n",
      "    \"id\": \"1712.0058_arxiv\",\n",
      "    \"title\": \"Fruit recognition from images using deep learning\",\n",
      "    \"type\": \"paper\",\n",
      "    \"year\": 2021,\n",
      "    \"abstract\": \"  In this paper we introduce a new, high-quality, dataset of images containing\\nfruits. We also present the results of some numerical experiment for training a\\nneural network to detect fruits. We discuss the reason why we chose to use\\nfruits in this project by proposing a few applications that could use this kind\\nof neural network.\\n\",\n",
      "    \"authors\": [\n",
      "        \"Horea Mure\\\\c{s}an\",\n",
      "        \" Mihai Oltean\"\n",
      "    ],\n",
      "    \"source\": \"arxiv\"\n",
      "}\n",
      "{\n",
      "    \"id\": \"85053783888.0_scopus\",\n",
      "    \"title\": \"The Synthesis of Carboxymethyl Cellulose-Based Hydrogel from Sugarcane Bagasse Using Microwave-Assisted Irradiation for Selective Adsorption of Copper(II) Ions\",\n",
      "    \"type\": \"paper\",\n",
      "    \"year\": 2019,\n",
      "    \"abstract\": \"This study presents the sustainable applications of recycling agricultural waste. The cellulose from sugarcane bagasse (SCB) was extracted to prepare the carboxymethyl cellulose (CMC) used as the starting material for synthesizing CMC-based hydrogel for the selective adsorption of Cu(II) ions in contaminated solution. Hydrogel fabrication was performed under microwave-assisted irradiation, which helps to improve reaction efficiency and significantly reduces reaction time compared with using a conventional hotplate. The hydrogel of 25% CMC blended with poly(vinyl alcohol) (PVA) and using glutaraldehyde (GA) as a cross-linking agent showed the property of selective adsorption for Cu(II) ions from the solution with an adsorption capacity of 2.3 mg/g (92.4% removal) under ambient temperature with pH 5.0. The adsorbed Cu(II) ions were effectively desorbed from the hydrogel by either 0.1 M HCl or 0.1 M EDTA. Thus, the prepared hydrogel could potentially be applied in the removal of Cu(II) ions from contaminated water, with promising potential for reuse after the regeneration process. Sugarcane bagasse was used as a starting material for the synthesis of hydrogel, which has selective adsorption property to Cu(II) ions. In addition, microwave-assisted irradiation, technology that is able to save time and energy, was exploited for the polymer synthesis. Therefore, this study presents the sustainable applications of recycling agricultural waste for the purpose of water treatment. \\u00a9 2018 American Institute of Chemical Engineers Environ Prog, 38: S157\\u2013S165, 2019.\",\n",
      "    \"authors\": [\n",
      "        \"Chanathip Baiya\",\n",
      "        \" Loetsak Nannuan\",\n",
      "        \" Yosthanase Tassanapukdee\",\n",
      "        \" Orawon Chailapakul\",\n",
      "        \" Kriangsak Songsrirote\",\n",
      "        \" \"\n",
      "    ],\n",
      "    \"source\": \"scopus\"\n",
      "}\n",
      "{\n",
      "    \"id\": \"85110512136.0_scopus\",\n",
      "    \"title\": \"Delayed softening of \\u201chom thong\\u201d banana fruits during postharvest storage following hot water treatment\",\n",
      "    \"type\": \"paper\",\n",
      "    \"year\": 2021,\n",
      "    \"abstract\": \"This study investigated the effects of hot water treatment on the texture of banana fruits. Fruits were dipped in hot water at 50oC and 55oC for 10 min before being stored at 25oC. The firmness of fruits treated at 50oC was higher than that of untreated fruits, and physiological changes including fresh weight loss, ethylene production, total soluble solid content, and peel color were also prevented. Treatment at 55oC slowed softening, but induced peel damage and failure to develop a normal color. Investigation of the cell wall composition and structure following treatment at 50oC showed a delay in the increase of water-soluble pectin, correlated with fruit firmness. A higher level of HCl-soluble pectin was detected in treated fruits, indicating that cell wall polymer solubilization had been reduced. Structural alteration to the peel was also slower than in untreated fruits. The study clarified the effect of hot water treatment on alteration of the cell wall structure and composition of banana fruit during postharvest storage.\",\n",
      "    \"authors\": [\n",
      "        \"Nuankamol Amnuaysin\",\n",
      "        \" Kanogwan Seraypheap\",\n",
      "        \" Manit Kidyoo\",\n",
      "        \" \"\n",
      "    ],\n",
      "    \"source\": \"scopus\"\n",
      "}\n",
      "{\n",
      "    \"id\": \"85061924420.0_scopus\",\n",
      "    \"title\": \"Phenolic enrichment of Ma-Kieng seed extract using absorbent and this enriched extract application for safety control of fresh-cut cantaloupe\",\n",
      "    \"type\": \"paper\",\n",
      "    \"year\": 2019,\n",
      "    \"abstract\": \"The study aimed to investigate the antimicrobial effects of the Ma-kieng seed extract after treatments with different absorbents and the application on inhibition of microbial contaminants on fresh-cut cantaloupe. The phenolic compounds of MKSE were absorbed and desorbed with Diaion\\u00ae HP-2MG, polyvinyl-polypyrrolidone and powdered activated carbon. The HPLC analysis of treated products showed the increase in flavonoid content except the treatment with powdered activated carbon, increased in phenolic content. All phenolic enriched extract showed increasing in antimicrobial activity efficacy. The phenolic compounds enriched extract with Diaion\\u00ae and powdered activated carbon demonstrated the improvement in antimicrobial efficacy up to 4 times. Soaking in the 1 MBC equivalent of enriched extract solution for 2 min was able to reduce 1 log CFUg\\u22121 of the spiked bacteria from the surface of fresh-cut cantaloupe and to control the number of tested bacteria during cold storage.\",\n",
      "    \"authors\": [\n",
      "        \"Sumate Tantratian\",\n",
      "        \" Nunthanics Balmuang\",\n",
      "        \" Warawut Krusong\",\n",
      "        \" \"\n",
      "    ],\n",
      "    \"source\": \"scopus\"\n",
      "}\n",
      "{\n",
      "    \"id\": \"2207.10457_arxiv\",\n",
      "    \"title\": \"A Survey of Robotic Harvesting Systems and Enabling Technologies\",\n",
      "    \"type\": \"paper\",\n",
      "    \"year\": 2023,\n",
      "    \"abstract\": \"  This paper presents a comprehensive review of ground agricultural robotic\\nsystems and applications with special focus on harvesting that span research\\nand commercial products and results, as well as their enabling technologies.\\nThe majority of literature concerns the development of crop detection, field\\nnavigation via vision and their related challenges. Health monitoring, yield\\nestimation, water status inspection, seed planting and weed removal are\\nfrequently encountered tasks. Regarding robotic harvesting, apples,\\nstrawberries, tomatoes and sweet peppers are mainly the crops considered in\\npublications, research projects and commercial products. The reported\\nharvesting agricultural robotic solutions, typically consist of a mobile\\nplatform, a single robotic arm/manipulator and various navigation/vision\\nsystems. This paper reviews reported development of specific functionalities\\nand hardware, typically required by an operating agricultural robot harvester;\\nthey include (a) vision systems, (b) motion planning/navigation methodologies\\n(for the robotic platform and/or arm), (c) Human-Robot-Interaction (HRI)\\nstrategies with 3D visualization, (d) system operation planning & grasping\\nstrategies and (e) robotic end-effector/gripper design. Clearly, automated\\nagriculture and specifically autonomous harvesting via robotic systems is a\\nresearch area that remains wide open, offering several challenges where new\\ncontributions can be made.\\n\",\n",
      "    \"authors\": [\n",
      "        \"Leonidas Droukas\",\n",
      "        \" Zoe Doulgeri\",\n",
      "        \" Nikolaos L. Tsakiridis\",\n",
      "        \" Dimitra\\n  Triantafyllou\",\n",
      "        \" Ioannis Kleitsiotis\",\n",
      "        \" Ioannis Mariolis\",\n",
      "        \" Dimitrios Giakoumis\",\n",
      "        \"\\n  Dimitrios Tzovaras\",\n",
      "        \" Dimitrios Kateris and Dionysis Bochtis\"\n",
      "    ],\n",
      "    \"source\": \"arxiv\"\n",
      "}\n",
      "{\n",
      "    \"id\": \"85097336061.0_scopus\",\n",
      "    \"title\": \"Enriched makiang (Cleistocalyx nervosum var. paniala) seed extract and citric acid to control pathogenic bacteria and color of fresh cut cantaloupe\",\n",
      "    \"type\": \"paper\",\n",
      "    \"year\": 2021,\n",
      "    \"abstract\": \"Consumers demand for good appearance and safe fresh-cut fruits without synthetic preservatives. Phenolic compounds from makiang seeds were extracted and applied as a natural preservative. Makiang seed extract (MKSE) was treated with 5 various amount of Diaion\\u00ae HP-2MG, a macro porous resin, to enrich the phenolic compound content. The application of 0.375 g Diaion\\u00ae to 1 mL of 12.5 mg mL\\u22121 MKSE was suitable for adsorbing the phenolic compounds. The eluent of 70% ethanol was able to release phenolic compounds with the highest recovery rate (61.22%). After drying, the phenolic enriched MKSE (PMKSE) contained 97.24% phenolic compounds and 4.99% flavonoids. The antagonistic effect of the MKSE was increased with the enrichment of phenolic content. The fresh cut cantaloupe (FCC) soaked with 1MBC PMKSE reduced the number of bacterial count on FCC, but affected the FCC color. The equal volume of 3.13 mg mL\\u22121 PMKSE and 6.25% citric acid (MC) could reduce the number of spiked E. coli on FCC to 1.66 log CFU g\\u22121 and retard the growth of pathogenic bacteria without significantly change in color. The MC had a potential to be applied for maintaining the bacterial quality and color of fresh-cut produce and minimal processed foods.\",\n",
      "    \"authors\": [\n",
      "        \"Sumate Tantratian\",\n",
      "        \" Nunthanics Balmuang\",\n",
      "        \" \"\n",
      "    ],\n",
      "    \"source\": \"scopus\"\n",
      "}\n",
      "\n",
      "\n",
      "None\n",
      "==================================\u001b[1m Ai Message \u001b[0m==================================\n",
      "\n",
      "```json\n",
      "{\n",
      "  \"nodes\": [\n",
      "    {\n",
      "      \"id\": \"2303.16609_arxiv\",\n",
      "      \"type\": \"paper\",\n",
      "      \"title\": \"Modified watershed approach for segmentation of complex optical coherence tomographic images\",\n",
      "      \"year\": 2023,\n",
      "      \"abstract\": \"Watershed segmentation method has been used in various applications. But many times, due to its over-segmentation attributes, it underperforms in several tasks where noise is a dominant source. In this study, Optical Coherence Tomography images have been acquired, and segmentation has been performed to analyse the different regions of fluid filled sacs in a lemon. A modified watershed algorithm has been proposed which gives promising results for segmentation of internal lemon structures.\",\n",
      "      \"authors\": [\n",
      "        \"Maryam Viqar\",\n",
      "        \"Violeta Madjarova\",\n",
      "        \"Elena Stoykova\"\n",
      "      ],\n",
      "      \"source\": \"arxiv\"\n",
      "    },\n",
      "    {\n",
      "      \"id\": \"85117283638.0_scopus\",\n",
      "      \"type\": \"paper\",\n",
      "      \"title\": \"Comprehensive genome-wide analysis of calmodulin-binding transcription activator (CAMTA) in Durio zibethinus and identification of fruit ripening-associated DzCAMTAs\",\n",
      "      \"year\": 2021,\n",
      "      \"abstract\": \"Fruit ripening is an intricate developmental process driven by complex hormonal networks. Ethylene is the main phytohormone regulating climacteric fruit ripening.  Calmodulin-binding transcription activator (CAMTA) is one such ethylene-induced TF implicated in various stress and plant developmental processes. This study identified 10 CAMTAs in Durio zibethinus (durian, Dz).\",\n",
      "      \"authors\": [\n",
      "        \"Zahra Iqbal\",\n",
      "        \"Mohammed Shariq Iqbal\",\n",
      "        \"Lalida Sangpong\",\n",
      "        \"Gholamreza Khaksar\",\n",
      "        \"Supaart Sirikantaramas\",\n",
      "        \"Teerapong Buaboocha\"\n",
      "      ],\n",
      "      \"source\": \"scopus\"\n",
      "    },\n",
      "    {\n",
      "      \"id\": \"1712.0058_arxiv\",\n",
      "      \"type\": \"paper\",\n",
      "      \"title\": \"Fruit recognition from images using deep learning\",\n",
      "      \"year\": 2021,\n",
      "      \"abstract\": \"This paper introduces a new dataset of fruit images and presents results of training a neural network for fruit detection. It discusses the applications of this type of neural network.\",\n",
      "      \"authors\": [\n",
      "        \"Horea Mure\\\\c{s}an\",\n",
      "        \"Mihai Oltean\"\n",
      "      ],\n",
      "      \"source\": \"arxiv\"\n",
      "    },\n",
      "    {\n",
      "      \"id\": \"85110512136.0_scopus\",\n",
      "      \"type\": \"paper\",\n",
      "      \"title\": \"Delayed softening of \\u201chom thong\\u201d banana fruits during postharvest storage following hot water treatment\",\n",
      "      \"year\": 2021,\n",
      "      \"abstract\": \"This study investigated the effects of hot water treatment on banana fruit texture. Hot water treatment at 50°C delayed softening and preserved fruit quality. Treatment at 55°C also slowed softening but caused peel damage. The study clarified the effect of hot water treatment on cell wall structure and composition.\",\n",
      "      \"authors\": [\n",
      "        \"Nuankamol Amnuaysin\",\n",
      "        \"Kanogwan Seraypheap\",\n",
      "        \"Manit Kidyoo\"\n",
      "      ],\n",
      "      \"source\": \"scopus\"\n",
      "    },\n",
      "    {\n",
      "      \"id\": \"fruit-ripening\",\n",
      "      \"type\": \"keyword\",\n",
      "      \"title\": \"fruit ripening\"\n",
      "    },\n",
      "    {\n",
      "      \"id\": \"image-analysis\",\n",
      "      \"type\": \"keyword\",\n",
      "      \"title\": \"image analysis\"\n",
      "    },\n",
      "    {\n",
      "      \"id\": \"fruit-preservation\",\n",
      "      \"type\": \"keyword\",\n",
      "      \"title\": \"fruit preservation\"\n",
      "    },\n",
      "    {\n",
      "        \"id\": \"deep-learning\",\n",
      "        \"type\": \"keyword\",\n",
      "        \"title\": \"deep learning\"\n",
      "    }\n",
      "  ],\n",
      "  \"links\": [\n",
      "    {\n",
      "      \"source\": \"fruit-ripening\",\n",
      "      \"target\": \"85117283638.0_scopus\"\n",
      "    },\n",
      "    {\n",
      "      \"source\": \"fruit-ripening\",\n",
      "      \"target\": \"85110512136.0_scopus\"\n",
      "    },\n",
      "    {\n",
      "      \"source\": \"image-analysis\",\n",
      "      \"target\": \"2303.16609_arxiv\"\n",
      "    },\n",
      "    {\n",
      "      \"source\": \"image-analysis\",\n",
      "      \"target\": \"1712.0058_arxiv\"\n",
      "    },\n",
      "    {\n",
      "        \"source\": \"deep-learning\",\n",
      "        \"target\": \"1712.0058_arxiv\"\n",
      "    },\n",
      "    {\n",
      "      \"source\": \"fruit-preservation\",\n",
      "      \"target\": \"85110512136.0_scopus\"\n",
      "    }\n",
      "  ],\n",
      "  \"summation\": \"Here's a summary of the information you provided, focusing on fruit-related research.  We have papers on fruit ripening processes in durian (\\\"Comprehensive genome-wide analysis...\\\"), banana ripening and preservation (\\\"Delayed softening of 'hom thong' banana...\\\"), and image-based fruit recognition using deep learning (\\\"Fruit recognition from images...\\\").  Additionally, there's research on image segmentation techniques using modified watershed algorithms applied to optical coherence tomography images of lemons (\\\"Modified watershed approach...\\\").  I've organized these papers and linked them to relevant keywords like \\\"fruit ripening\\\", \\\"image analysis\\\", and \\\"fruit preservation\\\" to help you navigate the information. Let me know if you have any other questions or need further assistance!\"\n",
      "}\n",
      "```\n",
      "None\n"
     ]
    }
   ],
   "source": [
    "### See the result of the chat\n",
    "\n",
    "initial_result = chat.test_initial_chat(user_input=user_input)"
   ]
  },
  {
   "cell_type": "code",
   "execution_count": 7,
   "metadata": {},
   "outputs": [],
   "source": [
    "# chat.clear_chat(chat_id=chat_id)"
   ]
  },
  {
   "cell_type": "code",
   "execution_count": 20,
   "metadata": {},
   "outputs": [
    {
     "data": {
      "text/plain": [
       "[HumanMessage(content='\\n{\\n    \"id\": \"2303.16609_arxiv\",\\n    \"title\": \"Modified watershed approach for segmentation of complex optical\\\\n  coherence tomographic images\",\\n    \"type\": \"paper\",\\n    \"year\": 2023,\\n    \"abstract\": \"  Watershed segmentation method has been used in various applications. But many\\\\na times, due to its over-segmentation attributes, it underperforms in several\\\\ntasks where noise is a dominant source. In this study, Optical Coherence\\\\nTomography images have been acquired, and segmentation has been performed to\\\\nanalyse the different regions of fluid filled sacs in a lemon. A modified\\\\nwatershed algorithm has been proposed which gives promising results for\\\\nsegmentation of internal lemon structures.\\\\n\",\\n    \"authors\": [\\n        \"Maryam Viqar\",\\n        \" Violeta Madjarova\",\\n        \" Elena Stoykova\"\\n    ],\\n    \"source\": \"arxiv\"\\n}\\n{\\n    \"id\": \"85117283638.0_scopus\",\\n    \"title\": \"Comprehensive genome-wide analysis of calmodulin-binding transcription activator (CAMTA) in Durio zibethinus and identification of fruit ripening-associated DzCAMTAs\",\\n    \"type\": \"paper\",\\n    \"year\": 2021,\\n    \"abstract\": \"Background: Fruit ripening is an intricate developmental process driven by a highly coordinated action of complex hormonal networks. Ethylene is considered as the main phytohormone that regulates the ripening of climacteric fruits. Concomitantly, several ethylene-responsive transcription factors (TFs) are pivotal components of the regulatory network underlying fruit ripening. Calmodulin-binding transcription activator (CAMTA) is one such ethylene-induced TF implicated in various stress and plant developmental processes. Results: Our comprehensive analysis of the CAMTA gene family in Durio zibethinus (durian, Dz) identified 10 CAMTAs with conserved domains. Phylogenetic analysis of DzCAMTAs, positioned DzCAMTA3 with its tomato ortholog that has already been validated for its role in the fruit ripening process through ethylene-mediated signaling. Furthermore, the transcriptome-wide analysis revealed DzCAMTA3 and DzCAMTA8 as the highest expressing durian CAMTA genes. These two DzCAMTAs possessed a distinct ripening-associated expression pattern during post-harvest ripening in Monthong, a durian cultivar native to Thailand. The expression profiling of DzCAMTA3 and DzCAMTA8 under natural ripening conditions and ethylene-induced/delayed ripening conditions substantiated their roles as ethylene-induced transcriptional activators of ripening. Similarly, auxin-suppressed expression of DzCAMTA3 and DzCAMTA8 confirmed their responsiveness to exogenous auxin treatment in a time-dependent manner. Accordingly, we propose that DzCAMTA3 and DzCAMTA8 synergistically crosstalk with ethylene during durian fruit ripening. In contrast, DzCAMTA3 and DzCAMTA8 antagonistically with auxin could affect the post-harvest ripening process in durian. Furthermore, DzCAMTA3 and DzCAMTA8 interacting genes contain significant CAMTA recognition motifs and regulated several pivotal fruit-ripening-associated pathways. Conclusion: Taken together, the present study contributes to an in-depth understanding of the structure and probable function of CAMTA genes in the post-harvest ripening of durian.\",\\n    \"authors\": [\\n        \"Zahra Iqbal\",\\n        \" Mohammed Shariq Iqbal\",\\n        \" Lalida Sangpong\",\\n        \" Gholamreza Khaksar\",\\n        \" Supaart Sirikantaramas\",\\n        \" Teerapong Buaboocha\",\\n        \" \"\\n    ],\\n    \"source\": \"scopus\"\\n}\\n{\\n    \"id\": \"1712.0058_arxiv\",\\n    \"title\": \"Fruit recognition from images using deep learning\",\\n    \"type\": \"paper\",\\n    \"year\": 2021,\\n    \"abstract\": \"  In this paper we introduce a new, high-quality, dataset of images containing\\\\nfruits. We also present the results of some numerical experiment for training a\\\\nneural network to detect fruits. We discuss the reason why we chose to use\\\\nfruits in this project by proposing a few applications that could use this kind\\\\nof neural network.\\\\n\",\\n    \"authors\": [\\n        \"Horea Mure\\\\\\\\c{s}an\",\\n        \" Mihai Oltean\"\\n    ],\\n    \"source\": \"arxiv\"\\n}\\n{\\n    \"id\": \"85053783888.0_scopus\",\\n    \"title\": \"The Synthesis of Carboxymethyl Cellulose-Based Hydrogel from Sugarcane Bagasse Using Microwave-Assisted Irradiation for Selective Adsorption of Copper(II) Ions\",\\n    \"type\": \"paper\",\\n    \"year\": 2019,\\n    \"abstract\": \"This study presents the sustainable applications of recycling agricultural waste. The cellulose from sugarcane bagasse (SCB) was extracted to prepare the carboxymethyl cellulose (CMC) used as the starting material for synthesizing CMC-based hydrogel for the selective adsorption of Cu(II) ions in contaminated solution. Hydrogel fabrication was performed under microwave-assisted irradiation, which helps to improve reaction efficiency and significantly reduces reaction time compared with using a conventional hotplate. The hydrogel of 25% CMC blended with poly(vinyl alcohol) (PVA) and using glutaraldehyde (GA) as a cross-linking agent showed the property of selective adsorption for Cu(II) ions from the solution with an adsorption capacity of 2.3 mg/g (92.4% removal) under ambient temperature with pH 5.0. The adsorbed Cu(II) ions were effectively desorbed from the hydrogel by either 0.1 M HCl or 0.1 M EDTA. Thus, the prepared hydrogel could potentially be applied in the removal of Cu(II) ions from contaminated water, with promising potential for reuse after the regeneration process. Sugarcane bagasse was used as a starting material for the synthesis of hydrogel, which has selective adsorption property to Cu(II) ions. In addition, microwave-assisted irradiation, technology that is able to save time and energy, was exploited for the polymer synthesis. Therefore, this study presents the sustainable applications of recycling agricultural waste for the purpose of water treatment. \\\\u00a9 2018 American Institute of Chemical Engineers Environ Prog, 38: S157\\\\u2013S165, 2019.\",\\n    \"authors\": [\\n        \"Chanathip Baiya\",\\n        \" Loetsak Nannuan\",\\n        \" Yosthanase Tassanapukdee\",\\n        \" Orawon Chailapakul\",\\n        \" Kriangsak Songsrirote\",\\n        \" \"\\n    ],\\n    \"source\": \"scopus\"\\n}\\n{\\n    \"id\": \"85110512136.0_scopus\",\\n    \"title\": \"Delayed softening of \\\\u201chom thong\\\\u201d banana fruits during postharvest storage following hot water treatment\",\\n    \"type\": \"paper\",\\n    \"year\": 2021,\\n    \"abstract\": \"This study investigated the effects of hot water treatment on the texture of banana fruits. Fruits were dipped in hot water at 50oC and 55oC for 10 min before being stored at 25oC. The firmness of fruits treated at 50oC was higher than that of untreated fruits, and physiological changes including fresh weight loss, ethylene production, total soluble solid content, and peel color were also prevented. Treatment at 55oC slowed softening, but induced peel damage and failure to develop a normal color. Investigation of the cell wall composition and structure following treatment at 50oC showed a delay in the increase of water-soluble pectin, correlated with fruit firmness. A higher level of HCl-soluble pectin was detected in treated fruits, indicating that cell wall polymer solubilization had been reduced. Structural alteration to the peel was also slower than in untreated fruits. The study clarified the effect of hot water treatment on alteration of the cell wall structure and composition of banana fruit during postharvest storage.\",\\n    \"authors\": [\\n        \"Nuankamol Amnuaysin\",\\n        \" Kanogwan Seraypheap\",\\n        \" Manit Kidyoo\",\\n        \" \"\\n    ],\\n    \"source\": \"scopus\"\\n}\\n{\\n    \"id\": \"85061924420.0_scopus\",\\n    \"title\": \"Phenolic enrichment of Ma-Kieng seed extract using absorbent and this enriched extract application for safety control of fresh-cut cantaloupe\",\\n    \"type\": \"paper\",\\n    \"year\": 2019,\\n    \"abstract\": \"The study aimed to investigate the antimicrobial effects of the Ma-kieng seed extract after treatments with different absorbents and the application on inhibition of microbial contaminants on fresh-cut cantaloupe. The phenolic compounds of MKSE were absorbed and desorbed with Diaion\\\\u00ae HP-2MG, polyvinyl-polypyrrolidone and powdered activated carbon. The HPLC analysis of treated products showed the increase in flavonoid content except the treatment with powdered activated carbon, increased in phenolic content. All phenolic enriched extract showed increasing in antimicrobial activity efficacy. The phenolic compounds enriched extract with Diaion\\\\u00ae and powdered activated carbon demonstrated the improvement in antimicrobial efficacy up to 4 times. Soaking in the 1 MBC equivalent of enriched extract solution for 2 min was able to reduce 1 log CFUg\\\\u22121 of the spiked bacteria from the surface of fresh-cut cantaloupe and to control the number of tested bacteria during cold storage.\",\\n    \"authors\": [\\n        \"Sumate Tantratian\",\\n        \" Nunthanics Balmuang\",\\n        \" Warawut Krusong\",\\n        \" \"\\n    ],\\n    \"source\": \"scopus\"\\n}\\n{\\n    \"id\": \"2207.10457_arxiv\",\\n    \"title\": \"A Survey of Robotic Harvesting Systems and Enabling Technologies\",\\n    \"type\": \"paper\",\\n    \"year\": 2023,\\n    \"abstract\": \"  This paper presents a comprehensive review of ground agricultural robotic\\\\nsystems and applications with special focus on harvesting that span research\\\\nand commercial products and results, as well as their enabling technologies.\\\\nThe majority of literature concerns the development of crop detection, field\\\\nnavigation via vision and their related challenges. Health monitoring, yield\\\\nestimation, water status inspection, seed planting and weed removal are\\\\nfrequently encountered tasks. Regarding robotic harvesting, apples,\\\\nstrawberries, tomatoes and sweet peppers are mainly the crops considered in\\\\npublications, research projects and commercial products. The reported\\\\nharvesting agricultural robotic solutions, typically consist of a mobile\\\\nplatform, a single robotic arm/manipulator and various navigation/vision\\\\nsystems. This paper reviews reported development of specific functionalities\\\\nand hardware, typically required by an operating agricultural robot harvester;\\\\nthey include (a) vision systems, (b) motion planning/navigation methodologies\\\\n(for the robotic platform and/or arm), (c) Human-Robot-Interaction (HRI)\\\\nstrategies with 3D visualization, (d) system operation planning & grasping\\\\nstrategies and (e) robotic end-effector/gripper design. Clearly, automated\\\\nagriculture and specifically autonomous harvesting via robotic systems is a\\\\nresearch area that remains wide open, offering several challenges where new\\\\ncontributions can be made.\\\\n\",\\n    \"authors\": [\\n        \"Leonidas Droukas\",\\n        \" Zoe Doulgeri\",\\n        \" Nikolaos L. Tsakiridis\",\\n        \" Dimitra\\\\n  Triantafyllou\",\\n        \" Ioannis Kleitsiotis\",\\n        \" Ioannis Mariolis\",\\n        \" Dimitrios Giakoumis\",\\n        \"\\\\n  Dimitrios Tzovaras\",\\n        \" Dimitrios Kateris and Dionysis Bochtis\"\\n    ],\\n    \"source\": \"arxiv\"\\n}\\n{\\n    \"id\": \"85097336061.0_scopus\",\\n    \"title\": \"Enriched makiang (Cleistocalyx nervosum var. paniala) seed extract and citric acid to control pathogenic bacteria and color of fresh cut cantaloupe\",\\n    \"type\": \"paper\",\\n    \"year\": 2021,\\n    \"abstract\": \"Consumers demand for good appearance and safe fresh-cut fruits without synthetic preservatives. Phenolic compounds from makiang seeds were extracted and applied as a natural preservative. Makiang seed extract (MKSE) was treated with 5 various amount of Diaion\\\\u00ae HP-2MG, a macro porous resin, to enrich the phenolic compound content. The application of 0.375 g Diaion\\\\u00ae to 1 mL of 12.5 mg mL\\\\u22121 MKSE was suitable for adsorbing the phenolic compounds. The eluent of 70% ethanol was able to release phenolic compounds with the highest recovery rate (61.22%). After drying, the phenolic enriched MKSE (PMKSE) contained 97.24% phenolic compounds and 4.99% flavonoids. The antagonistic effect of the MKSE was increased with the enrichment of phenolic content. The fresh cut cantaloupe (FCC) soaked with 1MBC PMKSE reduced the number of bacterial count on FCC, but affected the FCC color. The equal volume of 3.13 mg mL\\\\u22121 PMKSE and 6.25% citric acid (MC) could reduce the number of spiked E. coli on FCC to 1.66 log CFU g\\\\u22121 and retard the growth of pathogenic bacteria without significantly change in color. The MC had a potential to be applied for maintaining the bacterial quality and color of fresh-cut produce and minimal processed foods.\",\\n    \"authors\": [\\n        \"Sumate Tantratian\",\\n        \" Nunthanics Balmuang\",\\n        \" \"\\n    ],\\n    \"source\": \"scopus\"\\n}\\n\\n', id='5b9a40f6-3926-43bb-becd-2e8437067b2a'),\n",
       " AIMessage(content='```json\\n{\\n  \"nodes\": [\\n    {\\n      \"id\": \"2303.16609_arxiv\",\\n      \"type\": \"paper\",\\n      \"title\": \"Modified watershed approach for segmentation of complex optical coherence tomographic images\",\\n      \"year\": 2023,\\n      \"abstract\": \"Watershed segmentation method has been used in various applications. But many times, due to its over-segmentation attributes, it underperforms in several tasks where noise is a dominant source. In this study, Optical Coherence Tomography images have been acquired, and segmentation has been performed to analyse the different regions of fluid filled sacs in a lemon. A modified watershed algorithm has been proposed which gives promising results for segmentation of internal lemon structures.\",\\n      \"authors\": [\\n        \"Maryam Viqar\",\\n        \"Violeta Madjarova\",\\n        \"Elena Stoykova\"\\n      ],\\n      \"source\": \"arxiv\"\\n    },\\n    {\\n      \"id\": \"85117283638.0_scopus\",\\n      \"type\": \"paper\",\\n      \"title\": \"Comprehensive genome-wide analysis of calmodulin-binding transcription activator (CAMTA) in Durio zibethinus and identification of fruit ripening-associated DzCAMTAs\",\\n      \"year\": 2021,\\n      \"abstract\": \"Fruit ripening is an intricate developmental process driven by complex hormonal networks. Ethylene is the main phytohormone regulating climacteric fruit ripening.  Calmodulin-binding transcription activator (CAMTA) is one such ethylene-induced TF implicated in various stress and plant developmental processes. This study identified 10 CAMTAs in Durio zibethinus (durian, Dz).\",\\n      \"authors\": [\\n        \"Zahra Iqbal\",\\n        \"Mohammed Shariq Iqbal\",\\n        \"Lalida Sangpong\",\\n        \"Gholamreza Khaksar\",\\n        \"Supaart Sirikantaramas\",\\n        \"Teerapong Buaboocha\"\\n      ],\\n      \"source\": \"scopus\"\\n    },\\n    {\\n      \"id\": \"1712.0058_arxiv\",\\n      \"type\": \"paper\",\\n      \"title\": \"Fruit recognition from images using deep learning\",\\n      \"year\": 2021,\\n      \"abstract\": \"This paper introduces a new dataset of fruit images and presents results of training a neural network for fruit detection. It discusses the applications of this type of neural network.\",\\n      \"authors\": [\\n        \"Horea Mure\\\\\\\\c{s}an\",\\n        \"Mihai Oltean\"\\n      ],\\n      \"source\": \"arxiv\"\\n    },\\n    {\\n      \"id\": \"85110512136.0_scopus\",\\n      \"type\": \"paper\",\\n      \"title\": \"Delayed softening of \\\\u201chom thong\\\\u201d banana fruits during postharvest storage following hot water treatment\",\\n      \"year\": 2021,\\n      \"abstract\": \"This study investigated the effects of hot water treatment on banana fruit texture. Hot water treatment at 50°C delayed softening and preserved fruit quality. Treatment at 55°C also slowed softening but caused peel damage. The study clarified the effect of hot water treatment on cell wall structure and composition.\",\\n      \"authors\": [\\n        \"Nuankamol Amnuaysin\",\\n        \"Kanogwan Seraypheap\",\\n        \"Manit Kidyoo\"\\n      ],\\n      \"source\": \"scopus\"\\n    },\\n    {\\n      \"id\": \"fruit-ripening\",\\n      \"type\": \"keyword\",\\n      \"title\": \"fruit ripening\"\\n    },\\n    {\\n      \"id\": \"image-analysis\",\\n      \"type\": \"keyword\",\\n      \"title\": \"image analysis\"\\n    },\\n    {\\n      \"id\": \"fruit-preservation\",\\n      \"type\": \"keyword\",\\n      \"title\": \"fruit preservation\"\\n    },\\n    {\\n        \"id\": \"deep-learning\",\\n        \"type\": \"keyword\",\\n        \"title\": \"deep learning\"\\n    }\\n  ],\\n  \"links\": [\\n    {\\n      \"source\": \"fruit-ripening\",\\n      \"target\": \"85117283638.0_scopus\"\\n    },\\n    {\\n      \"source\": \"fruit-ripening\",\\n      \"target\": \"85110512136.0_scopus\"\\n    },\\n    {\\n      \"source\": \"image-analysis\",\\n      \"target\": \"2303.16609_arxiv\"\\n    },\\n    {\\n      \"source\": \"image-analysis\",\\n      \"target\": \"1712.0058_arxiv\"\\n    },\\n    {\\n        \"source\": \"deep-learning\",\\n        \"target\": \"1712.0058_arxiv\"\\n    },\\n    {\\n      \"source\": \"fruit-preservation\",\\n      \"target\": \"85110512136.0_scopus\"\\n    }\\n  ],\\n  \"summation\": \"Here\\'s a summary of the information you provided, focusing on fruit-related research.  We have papers on fruit ripening processes in durian (\\\\\"Comprehensive genome-wide analysis...\\\\\"), banana ripening and preservation (\\\\\"Delayed softening of \\'hom thong\\' banana...\\\\\"), and image-based fruit recognition using deep learning (\\\\\"Fruit recognition from images...\\\\\").  Additionally, there\\'s research on image segmentation techniques using modified watershed algorithms applied to optical coherence tomography images of lemons (\\\\\"Modified watershed approach...\\\\\").  I\\'ve organized these papers and linked them to relevant keywords like \\\\\"fruit ripening\\\\\", \\\\\"image analysis\\\\\", and \\\\\"fruit preservation\\\\\" to help you navigate the information. Let me know if you have any other questions or need further assistance!\"\\n}\\n```', response_metadata={'prompt_feedback': {'block_reason': 0, 'safety_ratings': []}, 'finish_reason': 'STOP', 'safety_ratings': []}, id='run-70ae127f-ce32-4919-9552-8cb92a94adde-0', usage_metadata={'input_tokens': 3763, 'output_tokens': 1313, 'total_tokens': 5076})]"
      ]
     },
     "execution_count": 20,
     "metadata": {},
     "output_type": "execute_result"
    }
   ],
   "source": [
    "chat.get_chat_history(chat_id=chat_id)"
   ]
  },
  {
   "cell_type": "code",
   "execution_count": 21,
   "metadata": {},
   "outputs": [],
   "source": [
    "from typing import List\n",
    "from app.models.GraphData import GraphLink, Node, GraphData\n",
    "import json"
   ]
  },
  {
   "cell_type": "code",
   "execution_count": 22,
   "metadata": {},
   "outputs": [],
   "source": [
    "def format_chat_json_to_graph_link(chat_json_response: str) -> List[GraphLink]:\n",
    "    \"\"\"\n",
    "    Example of chat_json_response\n",
    "    ```json\n",
    "    [\n",
    "        {\n",
    "            \"source\": \"some_id\",\n",
    "            \"target\": \"some_id\",\n",
    "            \"index\": 0\n",
    "        }\n",
    "    ]\n",
    "    ```\n",
    "    \"\"\"\n",
    "\n",
    "    # Select content between ```json and ```\n",
    "    chat_json_response = chat_json_response.split(\"```json\")[1].split(\"```\")[0]\n",
    "    # print(chat_json_response)\n",
    "    graph_data = json.loads(chat_json_response)\n",
    "    # print(graph_data)\n",
    "    nodes_json = graph_data[\"nodes\"]\n",
    "    links_json = graph_data[\"links\"]\n",
    "\n",
    "    nodes = []\n",
    "    for node in nodes_json:\n",
    "        if \"label\" in node:\n",
    "            node[\"title\"] = node[\"label\"]\n",
    "            del node[\"label\"]\n",
    "        \n",
    "        if \"year\" not in node:\n",
    "            node[\"year\"] = None\n",
    "        \n",
    "        if \"abstract\" not in node:\n",
    "            node[\"abstract\"] = None\n",
    "\n",
    "        if \"authors\" not in node:\n",
    "            node[\"authors\"] = None\n",
    "\n",
    "        if \"source\" not in node:\n",
    "            node[\"source\"] = None\n",
    "            \n",
    "        node = Node(**node)\n",
    "        nodes.append(node)\n",
    "\n",
    "    links = []\n",
    "    for link in links_json:\n",
    "        link = GraphLink(**link)\n",
    "        links.append(link)\n",
    "\n",
    "    return GraphData(nodes=nodes, links=links)"
   ]
  },
  {
   "cell_type": "code",
   "execution_count": 23,
   "metadata": {},
   "outputs": [],
   "source": [
    "graph_data = format_chat_json_to_graph_link(initial_result.content)"
   ]
  },
  {
   "cell_type": "markdown",
   "metadata": {},
   "source": [
    "# Set Detect Additional Data"
   ]
  },
  {
   "cell_type": "code",
   "execution_count": 24,
   "metadata": {},
   "outputs": [],
   "source": [
    "detect_additional_message = \"I want to know more about Computer\""
   ]
  },
  {
   "cell_type": "code",
   "execution_count": 25,
   "metadata": {},
   "outputs": [],
   "source": [
    "user_detect_additional_data = UserInput(\n",
    "    chat_id=chat_id,\n",
    "    message=detect_additional_message,\n",
    "    currentGraph=graph_data\n",
    ")"
   ]
  },
  {
   "cell_type": "code",
   "execution_count": 26,
   "metadata": {},
   "outputs": [],
   "source": [
    "detect_additional_data_template = \"\"\"\n",
    "These are your informative data for making the decision if user needs more papers or not:\n",
    "- {message}\n",
    "- This is the current graph of information that user has:\n",
    "  {current_graph}\n",
    "\n",
    "These are your guidelines :\n",
    "\n",
    "Accordning to the amount, quality and usage of paper that related to the topic of the conversation. Do the user needs the more number of papers?\n",
    "If there are some papers in current graph that related to the topic that user's interted in of researching.\n",
    "If yes reply \"Yes\" Otherwise \"No\" followed by the reason of the answer. Furthermore, suggest the next appropriate step to the user by\n",
    "considering the overall of this conversation detaily. Be calm, friendly, natural and love to give the best service to the user.\n",
    "Return the response by this json template:\n",
    "\"isNeed\" : \"yes or no\",\n",
    "\"reason\" : \"the reason that you suggest user to find more papers or the reason that the papaers is enough for user\"\n",
    "\n",
    "\"\"\"\n",
    "chat.set_detect_additional_data_template(detect_additional_data_template)"
   ]
  },
  {
   "cell_type": "code",
   "execution_count": 27,
   "metadata": {},
   "outputs": [
    {
     "name": "stdout",
     "output_type": "stream",
     "text": [
      "==================================\u001b[1m Ai Message \u001b[0m==================================\n",
      "\n",
      "```json\n",
      "{\n",
      "  \"isNeed\": \"yes\",\n",
      "  \"reason\": \"The current papers and keywords are centered around fruit and image analysis, which doesn't align with your interest in computers. To give you relevant information, we need to explore papers related to computer science.\"\n",
      "}\n",
      "```\n",
      "None\n"
     ]
    },
    {
     "data": {
      "text/plain": [
       "False"
      ]
     },
     "execution_count": 27,
     "metadata": {},
     "output_type": "execute_result"
    }
   ],
   "source": [
    "detect_additional_data_result = chat.test_detect_additional_data(user_input=user_detect_additional_data)\n",
    "detect_additional_data_result"
   ]
  },
  {
   "cell_type": "code",
   "execution_count": 16,
   "metadata": {},
   "outputs": [],
   "source": [
    "# def convert_detect_additional_data_to_boolean(detect_additional_data_response: str) -> bool:\n",
    "#     return detect_additional_data_response.lower() == \"yes\""
   ]
  },
  {
   "cell_type": "code",
   "execution_count": 17,
   "metadata": {},
   "outputs": [],
   "source": [
    "# convert_detect_additional_data_to_boolean(detect_additional_data_result.content)"
   ]
  },
  {
   "cell_type": "code",
   "execution_count": null,
   "metadata": {},
   "outputs": [],
   "source": [
    "continue_chat_result = chat.test_continue_chat(user_input=user_detect_additional_data)"
   ]
  }
 ],
 "metadata": {
  "kernelspec": {
   "display_name": "base",
   "language": "python",
   "name": "python3"
  },
  "language_info": {
   "codemirror_mode": {
    "name": "ipython",
    "version": 3
   },
   "file_extension": ".py",
   "mimetype": "text/x-python",
   "name": "python",
   "nbconvert_exporter": "python",
   "pygments_lexer": "ipython3",
   "version": "3.12.4"
  }
 },
 "nbformat": 4,
 "nbformat_minor": 2
}
