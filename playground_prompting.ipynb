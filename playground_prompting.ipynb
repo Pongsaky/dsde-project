{
 "cells": [
  {
   "cell_type": "code",
   "execution_count": 1,
   "metadata": {},
   "outputs": [],
   "source": [
    "from src.chat import Chat\n",
    "from app.models.UserInput import UserInput"
   ]
  },
  {
   "cell_type": "code",
   "execution_count": 2,
   "metadata": {},
   "outputs": [
    {
     "name": "stderr",
     "output_type": "stream",
     "text": [
      "/Users/pongsakon/Study/CEDT/2_semeter_1/data_sci/dsde-project/src/database/qdrant.py:37: DtypeWarning: Columns (0) have mixed types. Specify dtype option on import or set low_memory=False.\n",
      "  self.df = pd.read_csv(\"combined_data.csv\")\n"
     ]
    }
   ],
   "source": [
    "chat = Chat()"
   ]
  },
  {
   "cell_type": "markdown",
   "metadata": {},
   "source": [
    "## Set System Prompt"
   ]
  },
  {
   "cell_type": "code",
   "execution_count": 3,
   "metadata": {},
   "outputs": [],
   "source": [
    "user_message = \"Give me the papers that related to field of aerodynamic especially the military purposes\"\n",
    "chat_id = \"abc\"\n",
    "\n",
    "user_input = UserInput(\n",
    "    chat_id=chat_id,\n",
    "    message=user_message,\n",
    "    currentGraph=None\n",
    ")"
   ]
  },
  {
   "cell_type": "markdown",
   "metadata": {},
   "source": [
    "# Goal\n",
    "1. Give \"Keyword node\"\n",
    "2. Give \"GrapLink from GraphData\""
   ]
  },
  {
   "cell_type": "code",
   "execution_count": 4,
   "metadata": {},
   "outputs": [],
   "source": [
    "### FIX HERE\n",
    "system_template_prompt = \"\"\"You are an AI assistance for encouraging the system to initialize new \"Node\" from below data that was fetched from QdrantDB. Node have two types which are \"Paper\" and \"Keyword\".\n",
    "Keyword is a short word that related to topic, title or field of the input messages from user while \"Paper\" is the main content of articles in the database. Your tasks are generating \"Keyword\" node based on summarizing the content of user messages and \"Paper\" node, a node that contains more . Both of them follow this structure of node object: \n",
    "\n",
    "Don't forget to ensure that the values that will be assigned are related to data in the databas\n",
    "\n",
    "This is the guideines for you:\n",
    "1. Analyze the given user input to find some \"Keyword\" that related to the user message topic, papers, articles.\n",
    "2. From the paper that user give to you, You have to find the top most important 4-5 topics and keep their id, title, type, year, abstract (if the abstract too long just keep as long as you think it's important and meaningful),  author and source in Json format.\n",
    "3. After you have done the step 2, Create the Graphnode, this is the example structure. \n",
    "    \"GraphLinks\" : [\n",
    "        \n",
    "            \"source\" : \"2410.18541_arxiv\",\n",
    "            \"target\" : \"2204.13154_arxiv\"\n",
    "        ,\n",
    "        \n",
    "            \"source\" : \"transformer-and-attention-is-all-you-need\",\n",
    "            \"target\" : \"2204.13154_arxiv\"\n",
    "        ,\n",
    "        \n",
    "            \"source\" : \"transformer-and-attention-is-all-you-need\",\n",
    "            \"target\" : \"2410.18541_arxiv\"\n",
    "        ,\n",
    "    ]\n",
    "Ensure that every pairs of the Graphlinks member are related and as you can see from the example, some graph link might have the same source, which store\n",
    "the ID of the starter node (the node that have higher level).\n",
    "Don't for get to change the id of source and target to the correct id of provided paper. The IDs in the examples isn't always the same as what users provide to you.\n",
    "However, You can adjust the inhertance of the graph using your decision to make it be more appropriate.\n",
    "5. Node with type \"keyword\" will have 3 fields id, type and title (no label)\n",
    "4. In the end, Return them in json format by GraphNodes and GraphLinks is in the same level and re-check if everything is correct and follows the guidelines, IDs in GraphLinks are paired with the IDs from provided papers.\n",
    "\"\"\"\n",
    "### FIX HERE\n",
    "\n",
    "chat.set_system_template_prompt(system_template_prompt)"
   ]
  },
  {
   "cell_type": "markdown",
   "metadata": {},
   "source": [
    "# Set Chat Template Prompt"
   ]
  },
  {
   "cell_type": "code",
   "execution_count": 5,
   "metadata": {},
   "outputs": [],
   "source": [
    "### FIX HERE\n",
    "chat_template_prompt = \"\"\"\n",
    "Below is the GraphData that was fetched from QdrantDB. You can use this data to generate new \"Node\" based on the user message.\n",
    "{paper_data}\n",
    "\"\"\"\n",
    "### FIX HERE\n",
    "\n",
    "chat.set_chat_template_prompt(chat_template_prompt)"
   ]
  },
  {
   "cell_type": "code",
   "execution_count": 17,
   "metadata": {},
   "outputs": [
    {
     "name": "stdout",
     "output_type": "stream",
     "text": [
      "{'configurable': {'thread_id': 'abc'}}\n",
      "================================\u001b[1m Human Message \u001b[0m=================================\n",
      "\n",
      "\n",
      "Below is the GraphData that was fetched from QdrantDB. You can use this data to generate new \"Node\" based on the user message.\n",
      "{\n",
      "    \"id\": \"85128243165.0_scopus\",\n",
      "    \"title\": \"Product development of ice cream stick from raw banana powder\",\n",
      "    \"type\": \"paper\",\n",
      "    \"year\": 2022,\n",
      "    \"abstract\": \"This research was focused on using raw bananas in place of natural wooden ice cream sticks. The raw bananas were used in a powdered form and then processed to create a substitute for the wooden sticks. A research operation was carried out, experimenting with different proportions of banana powder in a randomized complete block experimental design (RCBD). The properties of interest for the ice cream sticks were hardness, fracturability, and aw of samples, as well as a sensory evaluation. The research showed that ice cream sticks which contained 50\\u201380% raw banana powder with 40% sugar and 40 min of baking resulted in a product with the properties of commonly used wooden ice cream sticks, and that the product also had a good appearance along with positive consumer response. In addition, the maximum shelf life of such ice-cream sticks was 8 days. In the future, development of this product can increase the value of bananas and also reduce the waste of single-use wooden ice cream sticks.\",\n",
      "    \"authors\": [\n",
      "        \"Jittra Rukijkanpanich\",\n",
      "        \" Sippothai Srininrat\",\n",
      "        \" \"\n",
      "    ],\n",
      "    \"source\": \"scopus\"\n",
      "}\n",
      "{\n",
      "    \"id\": \"85162929256.0_scopus\",\n",
      "    \"title\": \"The Development of Kluai Namwa (Musa Sapientum Linn.) Energy Gel: An Alternative Ergogenic Aid for Enhancing Endurance Running Performance\",\n",
      "    \"type\": \"paper\",\n",
      "    \"year\": 2022,\n",
      "    \"abstract\": \"Kluai Namwa (Musa Sapientum Linn.; Banana; BAN) is one of the most ancient species of banana well-grown in Thailand. BAN has a long history of use as a nutritional supplement and medical food due to its beneficial nutritional and therapeutic effects. Being an ergogenic aid, BAN has shown significant changes in the lipid profile, muscle and liver glycogen, enzyme activity, and Nitric Oxide (NO) activity inhibition, which results in prolonged exercise time. The objectives of this study were to develop a BAN energy gel and examine the effects of BAN energy gel on endurance running performance. The nutrition values of the developed BAN energy gel, glucose, sucrose, fructose, sodium, potassium, magnesium, protein, fat, ash, and total carbohydrate were assessed. The BAN energy gel nutrition values were 1.20\\u00b10.02 (g), 8.77\\u00b10.08 (g), 1.31\\u00b10.01 (g), 25.67\\u00b10.13 (mg), 184.83\\u00b10.54 (mg), 14.07\\u00b10.09 (mg), 0.43\\u00b10.08 (g), 0.14 \\u00b10.02 (%), 1.23\\u00b10.19 (g), 0.55\\u00b10.01 (g), 15.95\\u00b10.21 (%) per 100 g sample, respectively. BAN energy gel had total energy of 66.75\\u00b10.84 Kcal/100 g of sample. For examining the effects of BAN energy gel, eleven Thai male runners (aged 27.36\\u00b18.89 years and VO2 max 69.43\\u00b112.69 ml/kg/min) participated in this study to investigate Time To Exhaustion (TTE). TTE in subjects who consumed BAN energy gel was significantly longer than in subjects who consumed placebo (PLA) (55.23\\u00b110.32 min. vs. 46.13\\u00b19.87 min). The potassium level in the blood of subjects who consumed BAN energy gel was significantly higher than in subjects who consumed PLA (p<.05). This study found that BAN energy gel can prolong time to exhaustion. Therefore, BAN energy gel can be used as an ergogenic aid for runners, which is suitable to be consumed before and during the competition\",\n",
      "    \"authors\": [\n",
      "        \"Chutinan Suksaard\",\n",
      "        \" Krittiya Kuenpetch\",\n",
      "        \" Nattiporn Nokkaew\",\n",
      "        \" \"\n",
      "    ],\n",
      "    \"source\": \"scopus\"\n",
      "}\n",
      "{\n",
      "    \"id\": \"85136828752.0_scopus\",\n",
      "    \"title\": \"Physicochemical properties, techno-functionality, and resistant starch of green fragrant banana flour\",\n",
      "    \"type\": \"paper\",\n",
      "    \"year\": 2022,\n",
      "    \"abstract\": \"The composition and properties of flour produced from green whole and pulp of fragrant bananas were studied. Two fragrant banana varieties, Gros Michel (TY) and Cavendish (TW), grown in the same area at three stages of maturity (68, 76, and 82 days after anthesis), were processed as pulp and whole banana flour. A considerable amount of RS was found (21.5%-41.3% db). As maturity increased, RS decreased significantly. The flour had a high pasting temperature (80.2 to 82.4 \\u00baC), peak viscosity (1,920 to 3,669 cP), and setback (562 to 1274 cP), but relatively low breakdown (0 to 920 cP) with 2.29 to 3.91 grams of water holding capacity and 6.5 to 7.8-gram oil holding capacity per gram. Varieties and maturity had no significant effect on proximate composition, water holding capacity, and oil holding capacity. All banana flour samples showed the C-type crystalline structures with 20.5% to 23.1% crystallinity.\",\n",
      "    \"authors\": [\n",
      "        \"Kunchaporn Thawornlamlert\",\n",
      "        \" Areerat Nonsawang\",\n",
      "        \" Jirarat Anuntagool\",\n",
      "        \" \"\n",
      "    ],\n",
      "    \"source\": \"scopus\"\n",
      "}\n",
      "{\n",
      "    \"id\": \"85110512136.0_scopus\",\n",
      "    \"title\": \"Delayed softening of \\u201chom thong\\u201d banana fruits during postharvest storage following hot water treatment\",\n",
      "    \"type\": \"paper\",\n",
      "    \"year\": 2021,\n",
      "    \"abstract\": \"This study investigated the effects of hot water treatment on the texture of banana fruits. Fruits were dipped in hot water at 50oC and 55oC for 10 min before being stored at 25oC. The firmness of fruits treated at 50oC was higher than that of untreated fruits, and physiological changes including fresh weight loss, ethylene production, total soluble solid content, and peel color were also prevented. Treatment at 55oC slowed softening, but induced peel damage and failure to develop a normal color. Investigation of the cell wall composition and structure following treatment at 50oC showed a delay in the increase of water-soluble pectin, correlated with fruit firmness. A higher level of HCl-soluble pectin was detected in treated fruits, indicating that cell wall polymer solubilization had been reduced. Structural alteration to the peel was also slower than in untreated fruits. The study clarified the effect of hot water treatment on alteration of the cell wall structure and composition of banana fruit during postharvest storage.\",\n",
      "    \"authors\": [\n",
      "        \"Nuankamol Amnuaysin\",\n",
      "        \" Kanogwan Seraypheap\",\n",
      "        \" Manit Kidyoo\",\n",
      "        \" \"\n",
      "    ],\n",
      "    \"source\": \"scopus\"\n",
      "}\n",
      "{\n",
      "    \"id\": \"85085660816.0_scopus\",\n",
      "    \"title\": \"Reduced Graphene Oxide Using an Environmentally Friendly Banana Extracts\",\n",
      "    \"type\": \"paper\",\n",
      "    \"year\": 2019,\n",
      "    \"abstract\": \"One of the most promising methods to produce graphene in large scale is the use of chemical exfoliation together with chemical reduction to achieve reduced graphene oxide. Replacing conventional reducing agents, such as NaBH4 and hydrazine, with cheap, widely available, safe, environmentally friendly, and easy-to-prepare reducing agents is a key to large-scale commercial production of reduced graphene oxide. In this work, we investigate the effectiveness of utilizing fruit extracts derived from banana peel and juice to reduce graphene oxide. After the reduction, the oxygen-containing functional groups in graphene oxide are effectively removed, and the sp2 hybridized carbon-carbon bonding networks are restored, as evidenced by the characterization using x-ray photoelectron spectroscopy and Raman spectroscopy. Our banana extracts would offer a promising pathway for realizing cheap, safe, and environmentally friendly reducing agents for the upscale production of reduced graphene oxide.\",\n",
      "    \"authors\": [\n",
      "        \"Lattapol Buasuwan\",\n",
      "        \" Vitchayes Niyomnaitham\",\n",
      "        \" Aniwat Tandaechanurat\",\n",
      "        \" \"\n",
      "    ],\n",
      "    \"source\": \"scopus\"\n",
      "}\n",
      "{\n",
      "    \"id\": \"85111067157.0_scopus\",\n",
      "    \"title\": \"Inhibitory effects of high molecular weight chitosan coating on \\u2018Hom Thong\\u2019 banana fruit softening\",\n",
      "    \"type\": \"paper\",\n",
      "    \"year\": 2021,\n",
      "    \"abstract\": \"This study was undertaken to examine the effects of different molecular weights of 1% (w/v) chitosan coating on physicochemical characteristics and softening of \\u2018Hom Thong\\u2019 banana. The results indicated that high and medium molecular weights of chitosan coating (HMW-CTS; 540 kDa and MMW-CTS; 265 kDa) maintained banana fruit qualities during 25 \\u00b0C storage compared to a low molecular weight of chitosan coating (LMW-CTS; 65 kDa) and control treatments. HMW-CTS expressed the highest ability to reduce respiration rate and ethylene production of the fruit and preserved fruit firmness by inhibiting cell wall degrading enzymes including polygalacturonase and pectate lyase activities which play an important role in pectin degradation. Additionally, HMW-CTS influenced a decrease in disease severity and cell membrane injury in relation to low malondialdehyde content and high antioxidant activities of coated fruit. The overall results suggest that HMW-CTS is a promising postharvest chitosan coating in maintaining fruit firmness and extending the shelf life of \\u2018Hom Thong\\u2019 banana fruit after harvest.\",\n",
      "    \"authors\": [\n",
      "        \"Arisa Wantat\",\n",
      "        \" Pranee Rojsitthisak\",\n",
      "        \" Kanogwan Seraypheap\",\n",
      "        \" \"\n",
      "    ],\n",
      "    \"source\": \"scopus\"\n",
      "}\n",
      "{\n",
      "    \"id\": \"85082673354.0_scopus\",\n",
      "    \"title\": \"Isolation, separation and purification of rutin from Banana leaves (Musa balbisiana)\",\n",
      "    \"type\": \"paper\",\n",
      "    \"year\": 2020,\n",
      "    \"abstract\": \"In this study, rutin was detected as a main component after the phytochemical screening of flavonoids from an ethanolic extract of banana leaves (Musa balbisiana) using thin layer chromatography plates (TLC). The rutin from the crude extract was separated using a series of solvent partition separations and was purified by using Sephadex\\u2122 column chromatography and semi-preparative reverse phase-high performance liquid chromatography (RP-HPLC). The compounds were characterized and quantified using NMR, Mass Spectroscopy (MS) and HPLC. A crude ethanolic extract of 124 g, containing 5.3 % of rutin, was obtained from 1 kg of dried banana leaf powder. After a series of solvent partition separations, the product from partitions using hexane/dichloromethane and dichloromethane/water in sequence contained a rutin content of 40.6 %. Purification using a Sephadex column yielded fractions with purity of rutin up to 74\\u201384 % and further purification using semi-preparative RP-HPLC produced a final product with a yield of rutin of 32.4 mg/g of the crude extracts and a purity of 98.4 %. The results revealed that banana leaves (M. balbisiana), a food industry by-product and agricultural waste, has the potential for use as an inexpensive and new source of rutin.\",\n",
      "    \"authors\": [\n",
      "        \"Panida Yingyuen\",\n",
      "        \" Suchada Sukrong\",\n",
      "        \" Muenduen Phisalaphong\",\n",
      "        \" \"\n",
      "    ],\n",
      "    \"source\": \"scopus\"\n",
      "}\n",
      "{\n",
      "    \"id\": \"85120743756.0_scopus\",\n",
      "    \"title\": \"Effect of chitosan coatings supplemented with chitosan-montmorillonite nanocomposites on postharvest quality of \\u2018Hom Thong\\u2019 banana fruit\",\n",
      "    \"type\": \"paper\",\n",
      "    \"year\": 2022,\n",
      "    \"abstract\": \"The chitosan (CTS) solutions supplemented with chitosan-montmorillonite (CTS-MMT) nanocomposites at various concentrations were prepared for free-standing films by the casting technique. Incorporating 2% CTS-MMT nanocomposites into the free-standing CTS films could improve the water-resistance and oxygen barrier of the film. For the postharvest experiment, CTS and CTS supplemented with CTS-MMT nanocomposite solutions were applied as banana fruit coating by the dipping technique. The CTS supplemented with 2% CTS-MMT showed a significant retarding in peel color change, reduced electrolyte leakage, and MDA content, while CTS coating could maintain fruit firmness and reduce plasma membrane destruction for only the first few days. In addition, the CTS supplemented with 2% CTS-MMT coating could reduce ethylene production and respiration rate of the banana fruit. Overall results suggest that the CTS supplemented with 2% CTS-MMT nanocomposites is a novel coating material for maintaining the postharvest quality of \\u2018Hom Thong\\u2019 banana fruit.\",\n",
      "    \"authors\": [\n",
      "        \"Roshan Sah\",\n",
      "        \" Sanchari Ghosh\"\n",
      "    ],\n",
      "    \"source\": \"scopus\"\n",
      "}\n",
      "\n",
      "\n",
      "None\n",
      "==================================\u001b[1m Ai Message \u001b[0m==================================\n",
      "\n",
      "```json\n",
      "{\n",
      "  \"GraphNodes\": [\n",
      "    {\n",
      "      \"id\": \"wing-design-and-aerodynamics\",\n",
      "      \"type\": \"keyword\",\n",
      "      \"properties\": {\n",
      "        \"name\": \"Aerodynamics\"\n",
      "      }\n",
      "    },\n",
      "    {\n",
      "      \"id\": \"wing\",\n",
      "      \"type\": \"keyword\",\n",
      "      \"properties\": {\n",
      "        \"name\": \"Wing\"\n",
      "      }\n",
      "    },\n",
      "    {\n",
      "      \"id\": \"912.3355_arxiv\",\n",
      "      \"type\": \"paper\",\n",
      "      \"properties\": {\n",
      "        \"title\": \"Performance and Stability of a Winged Vehicle in Ground Effect\",\n",
      "        \"year\": 2009,\n",
      "        \"abstract\": \"Present work deals with the dynamics of vehicles which intentionally operate in the ground proximity. The dynamics in ground effect is influenced by the vehicle orientation with respect to the ground, since the aerodynamic force and moment coefficients, which in turn depend on height and angle of attack, also vary with the Euler angles. This feature, usually neglected in the applications, can be responsible for sizable variations of the aircraft performance and stability.\",\n",
      "        \"authors\": [\"Nicola de Divitiis\"],\n",
      "        \"source\": \"arxiv\"\n",
      "      }\n",
      "    },\n",
      "    {\n",
      "      \"id\": \"2209.0933_arxiv\",\n",
      "      \"type\": \"paper\",\n",
      "      \"properties\": {\n",
      "        \"title\": \"Simultaneous shape and topology optimization of wings\",\n",
      "        \"year\": 2023,\n",
      "        \"abstract\": \"This paper presents a method for simultaneous optimization of the outer shape and internal topology of aircraft wings, with the objective of minimizing drag subject to lift and compliance constraints for multiple load cases.\",\n",
      "        \"authors\": [\n",
      "          \"Lukas C. H{\\\\o}gh{\\\\o}j\",\n",
      "          \" Cian Conlan-Smith\",\n",
      "          \" Ole Sigmund and Casper\\n  Schousboe Andreasen\"\n",
      "        ],\n",
      "        \"source\": \"arxiv\"\n",
      "      }\n",
      "    },\n",
      "    {\n",
      "      \"id\": \"2103.08854_arxiv\",\n",
      "      \"type\": \"paper\",\n",
      "      \"properties\": {\n",
      "        \"title\": \"Unsteady aeroelastic characterization and scaling relations of flexible membrane wings\",\n",
      "        \"year\": 2023,\n",
      "        \"abstract\": \"We present a numerical study to characterize nonlinear unsteady aeroelastic interactions of two-dimensional flexible wings at high angles of attack.\",\n",
      "        \"authors\": [\"Guojun Li and Rajeev Kumar Jaiman\"],\n",
      "        \"source\": \"arxiv\"\n",
      "      }\n",
      "    }\n",
      "  ],\n",
      "  \"GraphLinks\": [\n",
      "    {\n",
      "      \"source\": \"wing-design-and-aerodynamics\",\n",
      "      \"target\": \"912.3355_arxiv\"\n",
      "    },\n",
      "    {\n",
      "      \"source\": \"wing-design-and-aerodynamics\",\n",
      "      \"target\": \"2209.0933_arxiv\"\n",
      "    },\n",
      "    {\n",
      "      \"source\": \"wing\",\n",
      "      \"target\": \"2209.0933_arxiv\"\n",
      "    },\n",
      "    {\n",
      "      \"source\": \"aerodynamics\",\n",
      "      \"target\": \"2212.12112_arxiv\"\n",
      "    },\n",
      "    {\n",
      "      \"source\": \"wing\",\n",
      "      \"target\": \"2212.12112_arxiv\"\n",
      "    }\n",
      "  ]\n",
      "}\n",
      "```\n",
      "None\n"
     ]
    }
   ],
   "source": [
    "### See the result of the chat\n",
    "\n",
    "chat.test_initial_chat(user_input=user_input)"
   ]
  },
  {
   "cell_type": "code",
   "execution_count": 9,
   "metadata": {},
   "outputs": [
    {
     "name": "stdout",
     "output_type": "stream",
     "text": [
      "{'messages': []}\n"
     ]
    },
    {
     "data": {
      "text/plain": [
       "[]"
      ]
     },
     "execution_count": 9,
     "metadata": {},
     "output_type": "execute_result"
    }
   ],
   "source": [
    "chat.get_chat_history(chat_id=chat_id)"
   ]
  },
  {
   "cell_type": "markdown",
   "metadata": {},
   "source": [
    "## Clear Chat"
   ]
  },
  {
   "cell_type": "code",
   "execution_count": 10,
   "metadata": {},
   "outputs": [
    {
     "name": "stdout",
     "output_type": "stream",
     "text": [
      "{'messages': []}\n"
     ]
    }
   ],
   "source": [
    "chat.clear_chat(chat_id=chat_id)"
   ]
  },
  {
   "cell_type": "markdown",
   "metadata": {},
   "source": [
    "# Set Detect Additional Data"
   ]
  },
  {
   "cell_type": "code",
   "execution_count": null,
   "metadata": {},
   "outputs": [],
   "source": [
    "detect_additional_data_template = \"\"\"\n",
    "{user_message}\n",
    "\n",
    "{current_graph}\n",
    "\"\"\"\n",
    "chat.set_detect_additional_data_template(detect_additional_data_template)"
   ]
  },
  {
   "cell_type": "code",
   "execution_count": null,
   "metadata": {},
   "outputs": [],
   "source": []
  }
 ],
 "metadata": {
  "kernelspec": {
   "display_name": "base",
   "language": "python",
   "name": "python3"
  },
  "language_info": {
   "codemirror_mode": {
    "name": "ipython",
    "version": 3
   },
   "file_extension": ".py",
   "mimetype": "text/x-python",
   "name": "python",
   "nbconvert_exporter": "python",
   "pygments_lexer": "ipython3",
   "version": "3.12.4"
  }
 },
 "nbformat": 4,
 "nbformat_minor": 2
}
