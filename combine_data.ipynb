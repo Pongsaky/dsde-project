{
 "cells": [
  {
   "cell_type": "markdown",
   "metadata": {},
   "source": [
    "# Local Embedding Model"
   ]
  },
  {
   "cell_type": "code",
   "execution_count": 12,
   "metadata": {},
   "outputs": [
    {
     "name": "stderr",
     "output_type": "stream",
     "text": [
      "/opt/homebrew/Caskroom/miniconda/base/envs/dsde-cedt/lib/python3.11/site-packages/sentence_transformers/cross_encoder/CrossEncoder.py:11: TqdmExperimentalWarning: Using `tqdm.autonotebook.tqdm` in notebook mode. Use `tqdm.tqdm` instead to force console mode (e.g. in jupyter console)\n",
      "  from tqdm.autonotebook import tqdm, trange\n"
     ]
    }
   ],
   "source": [
    "from sentence_transformers import SentenceTransformer"
   ]
  },
  {
   "cell_type": "code",
   "execution_count": 13,
   "metadata": {},
   "outputs": [],
   "source": [
    "embedding_model = SentenceTransformer('BAAI/bge-m3')"
   ]
  },
  {
   "cell_type": "code",
   "execution_count": 14,
   "metadata": {},
   "outputs": [],
   "source": [
    "sentence_1 = [\"What is BGE M3?\", \"Defination of BM25\"]\n",
    "sentences_2 = [\"BGE M3 is an embedding model supporting dense retrieval, lexical matching and multi-vector interaction.\", \n",
    "               \"BM25 is a bag-of-words retrieval function that ranks a set of documents based on the query terms appearing in each document\"]"
   ]
  },
  {
   "cell_type": "code",
   "execution_count": 15,
   "metadata": {},
   "outputs": [
    {
     "data": {
      "text/plain": [
       "array([[-0.03411698, -0.04707836, -0.00089452, ...,  0.04828522,\n",
       "         0.0075543 , -0.02961659],\n",
       "       [-0.0104174 , -0.0447926 , -0.02429202, ..., -0.00819299,\n",
       "         0.01503989,  0.01113798]], dtype=float32)"
      ]
     },
     "execution_count": 15,
     "metadata": {},
     "output_type": "execute_result"
    }
   ],
   "source": [
    "output = embedding_model.encode(sentence_1)\n",
    "output"
   ]
  },
  {
   "cell_type": "code",
   "execution_count": 16,
   "metadata": {},
   "outputs": [
    {
     "data": {
      "text/plain": [
       "True"
      ]
     },
     "execution_count": 16,
     "metadata": {},
     "output_type": "execute_result"
    }
   ],
   "source": [
    "from src.database.qdrant import QdrantVectorDB\n",
    "from dotenv import load_dotenv\n",
    "import os\n",
    "\n",
    "load_dotenv()"
   ]
  },
  {
   "cell_type": "code",
   "execution_count": 17,
   "metadata": {},
   "outputs": [
    {
     "data": {
      "text/plain": [
       "<src.database.qdrant.QdrantVectorDB at 0x3c74dabd0>"
      ]
     },
     "execution_count": 17,
     "metadata": {},
     "output_type": "execute_result"
    }
   ],
   "source": [
    "url = os.getenv(\"QDRANT_URL\")\n",
    "api_key = os.getenv(\"QDRANT_API_KEY\")\n",
    "\n",
    "qdrant = QdrantVectorDB(url=url, api_key=api_key, embedding_model=embedding_model)\n",
    "qdrant"
   ]
  },
  {
   "cell_type": "markdown",
   "metadata": {},
   "source": [
    "# Combine Scopus and Arxiv dataset"
   ]
  },
  {
   "cell_type": "code",
   "execution_count": 2,
   "metadata": {},
   "outputs": [],
   "source": [
    "import pandas as pd"
   ]
  },
  {
   "cell_type": "code",
   "execution_count": 5,
   "metadata": {},
   "outputs": [
    {
     "name": "stderr",
     "output_type": "stream",
     "text": [
      "/var/folders/r2/133yy5hj2g7fq987s7zh0_q40000gn/T/ipykernel_76675/3421694929.py:2: DtypeWarning: Columns (0) have mixed types. Specify dtype option on import or set low_memory=False.\n",
      "  arxiv_df = pd.read_csv(\"./cleaned_arxiv.csv\")\n"
     ]
    }
   ],
   "source": [
    "scopus_df = pd.read_csv(\"./scopus_unexplode_data.csv\")\n",
    "arxiv_df = pd.read_csv(\"./cleaned_arxiv.csv\")"
   ]
  },
  {
   "cell_type": "code",
   "execution_count": 6,
   "metadata": {},
   "outputs": [
    {
     "data": {
      "text/html": [
       "<div>\n",
       "<style scoped>\n",
       "    .dataframe tbody tr th:only-of-type {\n",
       "        vertical-align: middle;\n",
       "    }\n",
       "\n",
       "    .dataframe tbody tr th {\n",
       "        vertical-align: top;\n",
       "    }\n",
       "\n",
       "    .dataframe thead th {\n",
       "        text-align: right;\n",
       "    }\n",
       "</style>\n",
       "<table border=\"1\" class=\"dataframe\">\n",
       "  <thead>\n",
       "    <tr style=\"text-align: right;\">\n",
       "      <th></th>\n",
       "      <th>authors</th>\n",
       "      <th>year</th>\n",
       "      <th>id</th>\n",
       "      <th>title</th>\n",
       "      <th>abstract</th>\n",
       "      <th>references</th>\n",
       "      <th>category</th>\n",
       "      <th>source</th>\n",
       "    </tr>\n",
       "  </thead>\n",
       "  <tbody>\n",
       "    <tr>\n",
       "      <th>0</th>\n",
       "      <td>Sureerat Thuekeaw, Kris Angkanaporn, Chackrit ...</td>\n",
       "      <td>2022</td>\n",
       "      <td>85131139456</td>\n",
       "      <td>Microencapsulated basil oil (Ocimum basilicum ...</td>\n",
       "      <td>Objective: Microencapsulation is a technique t...</td>\n",
       "      <td>['85039040394', '85050697915', '84920164411', ...</td>\n",
       "      <td>[('Food Science', '1106', 'AGRI'), ('Physiolog...</td>\n",
       "      <td>scopus</td>\n",
       "    </tr>\n",
       "    <tr>\n",
       "      <th>1</th>\n",
       "      <td>Abhijit V. Lele, Sarah Wahlster, Bhunyawee Alu...</td>\n",
       "      <td>2022</td>\n",
       "      <td>85121351780</td>\n",
       "      <td>Perceptions Regarding the SARS-CoV-2 Pandemic'...</td>\n",
       "      <td>Background: The SARS-CoV-2 (COVID-19) pandemic...</td>\n",
       "      <td>['85104589379', '85083241171', '85078262578', ...</td>\n",
       "      <td>[('Surgery', '2746', 'MEDI'), ('Neurology (cli...</td>\n",
       "      <td>scopus</td>\n",
       "    </tr>\n",
       "    <tr>\n",
       "      <th>2</th>\n",
       "      <td>Solaphat Hemrungrojn, Arisara Amrapala, Michae...</td>\n",
       "      <td>2022</td>\n",
       "      <td>85131660961</td>\n",
       "      <td>Construction of a short version of the Montrea...</td>\n",
       "      <td>Background: The Montreal Cognitive Assessment ...</td>\n",
       "      <td>['84982975791', '84871671961', '85097597113', ...</td>\n",
       "      <td>[('Neuroscience (all)', '2800', 'NEUR')]</td>\n",
       "      <td>scopus</td>\n",
       "    </tr>\n",
       "    <tr>\n",
       "      <th>3</th>\n",
       "      <td>Erik Johansson, Ferenc Tasnádi, Annop Ektarawo...</td>\n",
       "      <td>2022</td>\n",
       "      <td>85124670542</td>\n",
       "      <td>The effect of strain and pressure on the elect...</td>\n",
       "      <td>Different theoretical methodologies are employ...</td>\n",
       "      <td>['0035282206', '0035508561', '0035858409', '18...</td>\n",
       "      <td>[('Physics and Astronomy (all)', '3100', 'PHYS')]</td>\n",
       "      <td>scopus</td>\n",
       "    </tr>\n",
       "    <tr>\n",
       "      <th>4</th>\n",
       "      <td>Kunanya Masodsai, Rungchai Chaunchaiyakul,</td>\n",
       "      <td>2022</td>\n",
       "      <td>85143878806</td>\n",
       "      <td>Dynamic Cardiopulmonary and Metabolic Function...</td>\n",
       "      <td>The purpose of this study was to investigate a...</td>\n",
       "      <td>['25444452457', '49949090130', '84860884417', ...</td>\n",
       "      <td>[('Physiology (medical)', '2737', 'MEDI')]</td>\n",
       "      <td>scopus</td>\n",
       "    </tr>\n",
       "  </tbody>\n",
       "</table>\n",
       "</div>"
      ],
      "text/plain": [
       "                                             authors  year           id  \\\n",
       "0  Sureerat Thuekeaw, Kris Angkanaporn, Chackrit ...  2022  85131139456   \n",
       "1  Abhijit V. Lele, Sarah Wahlster, Bhunyawee Alu...  2022  85121351780   \n",
       "2  Solaphat Hemrungrojn, Arisara Amrapala, Michae...  2022  85131660961   \n",
       "3  Erik Johansson, Ferenc Tasnádi, Annop Ektarawo...  2022  85124670542   \n",
       "4        Kunanya Masodsai, Rungchai Chaunchaiyakul,   2022  85143878806   \n",
       "\n",
       "                                               title  \\\n",
       "0  Microencapsulated basil oil (Ocimum basilicum ...   \n",
       "1  Perceptions Regarding the SARS-CoV-2 Pandemic'...   \n",
       "2  Construction of a short version of the Montrea...   \n",
       "3  The effect of strain and pressure on the elect...   \n",
       "4  Dynamic Cardiopulmonary and Metabolic Function...   \n",
       "\n",
       "                                            abstract  \\\n",
       "0  Objective: Microencapsulation is a technique t...   \n",
       "1  Background: The SARS-CoV-2 (COVID-19) pandemic...   \n",
       "2  Background: The Montreal Cognitive Assessment ...   \n",
       "3  Different theoretical methodologies are employ...   \n",
       "4  The purpose of this study was to investigate a...   \n",
       "\n",
       "                                          references  \\\n",
       "0  ['85039040394', '85050697915', '84920164411', ...   \n",
       "1  ['85104589379', '85083241171', '85078262578', ...   \n",
       "2  ['84982975791', '84871671961', '85097597113', ...   \n",
       "3  ['0035282206', '0035508561', '0035858409', '18...   \n",
       "4  ['25444452457', '49949090130', '84860884417', ...   \n",
       "\n",
       "                                            category  source  \n",
       "0  [('Food Science', '1106', 'AGRI'), ('Physiolog...  scopus  \n",
       "1  [('Surgery', '2746', 'MEDI'), ('Neurology (cli...  scopus  \n",
       "2           [('Neuroscience (all)', '2800', 'NEUR')]  scopus  \n",
       "3  [('Physics and Astronomy (all)', '3100', 'PHYS')]  scopus  \n",
       "4         [('Physiology (medical)', '2737', 'MEDI')]  scopus  "
      ]
     },
     "execution_count": 6,
     "metadata": {},
     "output_type": "execute_result"
    }
   ],
   "source": [
    "scopus_df.head()"
   ]
  },
  {
   "cell_type": "code",
   "execution_count": 7,
   "metadata": {},
   "outputs": [
    {
     "data": {
      "text/html": [
       "<div>\n",
       "<style scoped>\n",
       "    .dataframe tbody tr th:only-of-type {\n",
       "        vertical-align: middle;\n",
       "    }\n",
       "\n",
       "    .dataframe tbody tr th {\n",
       "        vertical-align: top;\n",
       "    }\n",
       "\n",
       "    .dataframe thead th {\n",
       "        text-align: right;\n",
       "    }\n",
       "</style>\n",
       "<table border=\"1\" class=\"dataframe\">\n",
       "  <thead>\n",
       "    <tr style=\"text-align: right;\">\n",
       "      <th></th>\n",
       "      <th>id</th>\n",
       "      <th>authors</th>\n",
       "      <th>title</th>\n",
       "      <th>references</th>\n",
       "      <th>category</th>\n",
       "      <th>abstract</th>\n",
       "      <th>year</th>\n",
       "      <th>source</th>\n",
       "    </tr>\n",
       "  </thead>\n",
       "  <tbody>\n",
       "    <tr>\n",
       "      <th>0</th>\n",
       "      <td>704.0001</td>\n",
       "      <td>C. Bal\\'azs, E. L. Berger, P. M. Nadolsky, C.-...</td>\n",
       "      <td>Calculation of prompt diphoton production cros...</td>\n",
       "      <td>Phys.Rev.D76:013009,2007</td>\n",
       "      <td>hep-ph</td>\n",
       "      <td>A fully differential calculation in perturba...</td>\n",
       "      <td>2008</td>\n",
       "      <td>arxiv</td>\n",
       "    </tr>\n",
       "    <tr>\n",
       "      <th>1</th>\n",
       "      <td>704.0005</td>\n",
       "      <td>Wael Abu-Shammala and Alberto Torchinsky</td>\n",
       "      <td>From dyadic $\\Lambda_{\\alpha}$ to $\\Lambda_{\\a...</td>\n",
       "      <td>Illinois J. Math. 52 (2008) no.2, 681-689</td>\n",
       "      <td>math.CA math.FA</td>\n",
       "      <td>In this paper we show how to compute the $\\L...</td>\n",
       "      <td>2013</td>\n",
       "      <td>arxiv</td>\n",
       "    </tr>\n",
       "    <tr>\n",
       "      <th>2</th>\n",
       "      <td>704.0007</td>\n",
       "      <td>Alejandro Corichi, Tatjana Vukasinac and Jose ...</td>\n",
       "      <td>Polymer Quantum Mechanics and its Continuum Limit</td>\n",
       "      <td>Phys.Rev.D76:044016,2007</td>\n",
       "      <td>gr-qc</td>\n",
       "      <td>A rather non-standard quantum representation...</td>\n",
       "      <td>2008</td>\n",
       "      <td>arxiv</td>\n",
       "    </tr>\n",
       "    <tr>\n",
       "      <th>3</th>\n",
       "      <td>704.0008</td>\n",
       "      <td>Damian C. Swift</td>\n",
       "      <td>Numerical solution of shock and ramp compressi...</td>\n",
       "      <td>Journal of Applied Physics, vol 104, 073536 (2...</td>\n",
       "      <td>cond-mat.mtrl-sci</td>\n",
       "      <td>A general formulation was developed to repre...</td>\n",
       "      <td>2009</td>\n",
       "      <td>arxiv</td>\n",
       "    </tr>\n",
       "    <tr>\n",
       "      <th>4</th>\n",
       "      <td>704.0009</td>\n",
       "      <td>Paul Harvey, Bruno Merin, Tracy L. Huard, Luis...</td>\n",
       "      <td>The Spitzer c2d Survey of Large, Nearby, Inste...</td>\n",
       "      <td>Astrophys.J.663:1149-1173,2007</td>\n",
       "      <td>astro-ph</td>\n",
       "      <td>We discuss the results from the combined IRA...</td>\n",
       "      <td>2010</td>\n",
       "      <td>arxiv</td>\n",
       "    </tr>\n",
       "  </tbody>\n",
       "</table>\n",
       "</div>"
      ],
      "text/plain": [
       "         id                                            authors  \\\n",
       "0  704.0001  C. Bal\\'azs, E. L. Berger, P. M. Nadolsky, C.-...   \n",
       "1  704.0005           Wael Abu-Shammala and Alberto Torchinsky   \n",
       "2  704.0007  Alejandro Corichi, Tatjana Vukasinac and Jose ...   \n",
       "3  704.0008                                    Damian C. Swift   \n",
       "4  704.0009  Paul Harvey, Bruno Merin, Tracy L. Huard, Luis...   \n",
       "\n",
       "                                               title  \\\n",
       "0  Calculation of prompt diphoton production cros...   \n",
       "1  From dyadic $\\Lambda_{\\alpha}$ to $\\Lambda_{\\a...   \n",
       "2  Polymer Quantum Mechanics and its Continuum Limit   \n",
       "3  Numerical solution of shock and ramp compressi...   \n",
       "4  The Spitzer c2d Survey of Large, Nearby, Inste...   \n",
       "\n",
       "                                          references           category  \\\n",
       "0                           Phys.Rev.D76:013009,2007             hep-ph   \n",
       "1          Illinois J. Math. 52 (2008) no.2, 681-689    math.CA math.FA   \n",
       "2                           Phys.Rev.D76:044016,2007              gr-qc   \n",
       "3  Journal of Applied Physics, vol 104, 073536 (2...  cond-mat.mtrl-sci   \n",
       "4                     Astrophys.J.663:1149-1173,2007           astro-ph   \n",
       "\n",
       "                                            abstract  year source  \n",
       "0    A fully differential calculation in perturba...  2008  arxiv  \n",
       "1    In this paper we show how to compute the $\\L...  2013  arxiv  \n",
       "2    A rather non-standard quantum representation...  2008  arxiv  \n",
       "3    A general formulation was developed to repre...  2009  arxiv  \n",
       "4    We discuss the results from the combined IRA...  2010  arxiv  "
      ]
     },
     "execution_count": 7,
     "metadata": {},
     "output_type": "execute_result"
    }
   ],
   "source": [
    "arxiv_df.head()"
   ]
  },
  {
   "cell_type": "code",
   "execution_count": 8,
   "metadata": {},
   "outputs": [
    {
     "data": {
      "text/html": [
       "<div>\n",
       "<style scoped>\n",
       "    .dataframe tbody tr th:only-of-type {\n",
       "        vertical-align: middle;\n",
       "    }\n",
       "\n",
       "    .dataframe tbody tr th {\n",
       "        vertical-align: top;\n",
       "    }\n",
       "\n",
       "    .dataframe thead th {\n",
       "        text-align: right;\n",
       "    }\n",
       "</style>\n",
       "<table border=\"1\" class=\"dataframe\">\n",
       "  <thead>\n",
       "    <tr style=\"text-align: right;\">\n",
       "      <th></th>\n",
       "      <th>id</th>\n",
       "      <th>title</th>\n",
       "      <th>abstract</th>\n",
       "      <th>authors</th>\n",
       "      <th>category</th>\n",
       "      <th>year</th>\n",
       "      <th>source</th>\n",
       "      <th>references</th>\n",
       "    </tr>\n",
       "  </thead>\n",
       "  <tbody>\n",
       "    <tr>\n",
       "      <th>0</th>\n",
       "      <td>85131139456</td>\n",
       "      <td>Microencapsulated basil oil (Ocimum basilicum ...</td>\n",
       "      <td>Objective: Microencapsulation is a technique t...</td>\n",
       "      <td>Sureerat Thuekeaw, Kris Angkanaporn, Chackrit ...</td>\n",
       "      <td>[('Food Science', '1106', 'AGRI'), ('Physiolog...</td>\n",
       "      <td>2022</td>\n",
       "      <td>scopus</td>\n",
       "      <td>['85039040394', '85050697915', '84920164411', ...</td>\n",
       "    </tr>\n",
       "    <tr>\n",
       "      <th>1</th>\n",
       "      <td>85121351780</td>\n",
       "      <td>Perceptions Regarding the SARS-CoV-2 Pandemic'...</td>\n",
       "      <td>Background: The SARS-CoV-2 (COVID-19) pandemic...</td>\n",
       "      <td>Abhijit V. Lele, Sarah Wahlster, Bhunyawee Alu...</td>\n",
       "      <td>[('Surgery', '2746', 'MEDI'), ('Neurology (cli...</td>\n",
       "      <td>2022</td>\n",
       "      <td>scopus</td>\n",
       "      <td>['85104589379', '85083241171', '85078262578', ...</td>\n",
       "    </tr>\n",
       "    <tr>\n",
       "      <th>2</th>\n",
       "      <td>85131660961</td>\n",
       "      <td>Construction of a short version of the Montrea...</td>\n",
       "      <td>Background: The Montreal Cognitive Assessment ...</td>\n",
       "      <td>Solaphat Hemrungrojn, Arisara Amrapala, Michae...</td>\n",
       "      <td>[('Neuroscience (all)', '2800', 'NEUR')]</td>\n",
       "      <td>2022</td>\n",
       "      <td>scopus</td>\n",
       "      <td>['84982975791', '84871671961', '85097597113', ...</td>\n",
       "    </tr>\n",
       "    <tr>\n",
       "      <th>3</th>\n",
       "      <td>85124670542</td>\n",
       "      <td>The effect of strain and pressure on the elect...</td>\n",
       "      <td>Different theoretical methodologies are employ...</td>\n",
       "      <td>Erik Johansson, Ferenc Tasnádi, Annop Ektarawo...</td>\n",
       "      <td>[('Physics and Astronomy (all)', '3100', 'PHYS')]</td>\n",
       "      <td>2022</td>\n",
       "      <td>scopus</td>\n",
       "      <td>['0035282206', '0035508561', '0035858409', '18...</td>\n",
       "    </tr>\n",
       "    <tr>\n",
       "      <th>4</th>\n",
       "      <td>85143878806</td>\n",
       "      <td>Dynamic Cardiopulmonary and Metabolic Function...</td>\n",
       "      <td>The purpose of this study was to investigate a...</td>\n",
       "      <td>Kunanya Masodsai, Rungchai Chaunchaiyakul,</td>\n",
       "      <td>[('Physiology (medical)', '2737', 'MEDI')]</td>\n",
       "      <td>2022</td>\n",
       "      <td>scopus</td>\n",
       "      <td>['25444452457', '49949090130', '84860884417', ...</td>\n",
       "    </tr>\n",
       "  </tbody>\n",
       "</table>\n",
       "</div>"
      ],
      "text/plain": [
       "            id                                              title  \\\n",
       "0  85131139456  Microencapsulated basil oil (Ocimum basilicum ...   \n",
       "1  85121351780  Perceptions Regarding the SARS-CoV-2 Pandemic'...   \n",
       "2  85131660961  Construction of a short version of the Montrea...   \n",
       "3  85124670542  The effect of strain and pressure on the elect...   \n",
       "4  85143878806  Dynamic Cardiopulmonary and Metabolic Function...   \n",
       "\n",
       "                                            abstract  \\\n",
       "0  Objective: Microencapsulation is a technique t...   \n",
       "1  Background: The SARS-CoV-2 (COVID-19) pandemic...   \n",
       "2  Background: The Montreal Cognitive Assessment ...   \n",
       "3  Different theoretical methodologies are employ...   \n",
       "4  The purpose of this study was to investigate a...   \n",
       "\n",
       "                                             authors  \\\n",
       "0  Sureerat Thuekeaw, Kris Angkanaporn, Chackrit ...   \n",
       "1  Abhijit V. Lele, Sarah Wahlster, Bhunyawee Alu...   \n",
       "2  Solaphat Hemrungrojn, Arisara Amrapala, Michae...   \n",
       "3  Erik Johansson, Ferenc Tasnádi, Annop Ektarawo...   \n",
       "4        Kunanya Masodsai, Rungchai Chaunchaiyakul,    \n",
       "\n",
       "                                            category  year  source  \\\n",
       "0  [('Food Science', '1106', 'AGRI'), ('Physiolog...  2022  scopus   \n",
       "1  [('Surgery', '2746', 'MEDI'), ('Neurology (cli...  2022  scopus   \n",
       "2           [('Neuroscience (all)', '2800', 'NEUR')]  2022  scopus   \n",
       "3  [('Physics and Astronomy (all)', '3100', 'PHYS')]  2022  scopus   \n",
       "4         [('Physiology (medical)', '2737', 'MEDI')]  2022  scopus   \n",
       "\n",
       "                                          references  \n",
       "0  ['85039040394', '85050697915', '84920164411', ...  \n",
       "1  ['85104589379', '85083241171', '85078262578', ...  \n",
       "2  ['84982975791', '84871671961', '85097597113', ...  \n",
       "3  ['0035282206', '0035508561', '0035858409', '18...  \n",
       "4  ['25444452457', '49949090130', '84860884417', ...  "
      ]
     },
     "execution_count": 8,
     "metadata": {},
     "output_type": "execute_result"
    }
   ],
   "source": [
    "combine_df = pd.concat([scopus_df, arxiv_df], ignore_index=True)\n",
    "# re-arrange columns\n",
    "combine_df = combine_df[[\"id\", 'title', 'abstract', 'authors', 'category', 'year', 'source', 'references']]\n",
    "combine_df.head()"
   ]
  },
  {
   "cell_type": "code",
   "execution_count": 9,
   "metadata": {},
   "outputs": [
    {
     "data": {
      "text/plain": [
       "count    888907.000000\n",
       "mean        137.417608\n",
       "std          62.787405\n",
       "min           1.000000\n",
       "25%          90.000000\n",
       "50%         129.000000\n",
       "75%         177.000000\n",
       "max        1194.000000\n",
       "Name: abstract, dtype: float64"
      ]
     },
     "execution_count": 9,
     "metadata": {},
     "output_type": "execute_result"
    }
   ],
   "source": [
    "# check the length of abstract\n",
    "combine_df[\"abstract\"].apply(lambda x: len(x.split())).describe()"
   ]
  },
  {
   "cell_type": "code",
   "execution_count": 10,
   "metadata": {},
   "outputs": [],
   "source": [
    "combine_df[\"id\"] = combine_df[\"id\"].astype(str)"
   ]
  },
  {
   "cell_type": "code",
   "execution_count": 11,
   "metadata": {},
   "outputs": [],
   "source": [
    "combine_df.to_csv(\"combined_data.csv\", index=False)"
   ]
  }
 ],
 "metadata": {
  "kernelspec": {
   "display_name": "dsde-cedt",
   "language": "python",
   "name": "python3"
  },
  "language_info": {
   "codemirror_mode": {
    "name": "ipython",
    "version": 3
   },
   "file_extension": ".py",
   "mimetype": "text/x-python",
   "name": "python",
   "nbconvert_exporter": "python",
   "pygments_lexer": "ipython3",
   "version": "3.11.8"
  }
 },
 "nbformat": 4,
 "nbformat_minor": 2
}
