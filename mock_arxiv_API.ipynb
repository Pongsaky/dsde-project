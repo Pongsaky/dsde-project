{
 "cells": [
  {
   "cell_type": "code",
   "execution_count": null,
   "metadata": {},
   "outputs": [],
   "source": [
    "import urllib\n",
    "import xml.etree.ElementTree as ET\n",
    "import json\n",
    "from datetime import datetime"
   ]
  },
  {
   "cell_type": "code",
   "execution_count": 48,
   "metadata": {},
   "outputs": [
    {
     "name": "stdout",
     "output_type": "stream",
     "text": [
      "Success\n"
     ]
    }
   ],
   "source": [
    "url = 'http://export.arxiv.org/api/query?search_query=all:electron&start=0&max_results=1'\n",
    "response_data = urllib.request.urlopen(url)\n",
    "xml_data = response_data.read().decode('utf-8')\n",
    "\n",
    "if response_data.getcode() == 200:\n",
    "    print('Success')\n",
    "else:\n",
    "    print('Failed')"
   ]
  },
  {
   "cell_type": "code",
   "execution_count": 49,
   "metadata": {},
   "outputs": [
    {
     "name": "stdout",
     "output_type": "stream",
     "text": [
      "<?xml version=\"1.0\" encoding=\"UTF-8\"?>\n",
      "<feed xmlns=\"http://www.w3.org/2005/Atom\">\n",
      "  <link href=\"http://arxiv.org/api/query?search_query%3Dall%3Aelectron%26id_list%3D%26start%3D0%26max_results%3D1\" rel=\"self\" type=\"application/atom+xml\"/>\n",
      "  <title type=\"html\">ArXiv Query: search_query=all:electron&amp;id_list=&amp;start=0&amp;max_results=1</title>\n",
      "  <id>http://arxiv.org/api/cHxbiOdZaP56ODnBPIenZhzg5f8</id>\n",
      "  <updated>2024-12-04T00:00:00-05:00</updated>\n",
      "  <opensearch:totalResults xmlns:opensearch=\"http://a9.com/-/spec/opensearch/1.1/\">217748</opensearch:totalResults>\n",
      "  <opensearch:startIndex xmlns:opensearch=\"http://a9.com/-/spec/opensearch/1.1/\">0</opensearch:startIndex>\n",
      "  <opensearch:itemsPerPage xmlns:opensearch=\"http://a9.com/-/spec/opensearch/1.1/\">1</opensearch:itemsPerPage>\n",
      "  <entry>\n",
      "    <id>http://arxiv.org/abs/cond-mat/0102536v1</id>\n",
      "    <updated>2001-02-28T20:12:09Z</updated>\n",
      "    <published>2001-02-28T20:12:09Z</published>\n",
      "    <title>Impact of Electron-Electron Cusp on Configuration Interaction Energies</title>\n",
      "    <summary>  The effect of the electron-electron cusp on the convergence of configuration\n",
      "interaction (CI) wave functions is examined. By analogy with the\n",
      "pseudopotential approach for electron-ion interactions, an effective\n",
      "electron-electron interaction is developed which closely reproduces the\n",
      "scattering of the Coulomb interaction but is smooth and finite at zero\n",
      "electron-electron separation. The exact many-electron wave function for this\n",
      "smooth effective interaction has no cusp at zero electron-electron separation.\n",
      "We perform CI and quantum Monte Carlo calculations for He and Be atoms, both\n",
      "with the Coulomb electron-electron interaction and with the smooth effective\n",
      "electron-electron interaction. We find that convergence of the CI expansion of\n",
      "the wave function for the smooth electron-electron interaction is not\n",
      "significantly improved compared with that for the divergent Coulomb interaction\n",
      "for energy differences on the order of 1 mHartree. This shows that, contrary to\n",
      "popular belief, description of the electron-electron cusp is not a limiting\n",
      "factor, to within chemical accuracy, for CI calculations.\n",
      "</summary>\n",
      "    <author>\n",
      "      <name>David Prendergast</name>\n",
      "      <arxiv:affiliation xmlns:arxiv=\"http://arxiv.org/schemas/atom\">Department of Physics</arxiv:affiliation>\n",
      "    </author>\n",
      "    <author>\n",
      "      <name>M. Nolan</name>\n",
      "      <arxiv:affiliation xmlns:arxiv=\"http://arxiv.org/schemas/atom\">NMRC, University College, Cork, Ireland</arxiv:affiliation>\n",
      "    </author>\n",
      "    <author>\n",
      "      <name>Claudia Filippi</name>\n",
      "      <arxiv:affiliation xmlns:arxiv=\"http://arxiv.org/schemas/atom\">Department of Physics</arxiv:affiliation>\n",
      "    </author>\n",
      "    <author>\n",
      "      <name>Stephen Fahy</name>\n",
      "      <arxiv:affiliation xmlns:arxiv=\"http://arxiv.org/schemas/atom\">Department of Physics</arxiv:affiliation>\n",
      "    </author>\n",
      "    <author>\n",
      "      <name>J. C. Greer</name>\n",
      "      <arxiv:affiliation xmlns:arxiv=\"http://arxiv.org/schemas/atom\">NMRC, University College, Cork, Ireland</arxiv:affiliation>\n",
      "    </author>\n",
      "    <arxiv:doi xmlns:arxiv=\"http://arxiv.org/schemas/atom\">10.1063/1.1383585</arxiv:doi>\n",
      "    <link title=\"doi\" href=\"http://dx.doi.org/10.1063/1.1383585\" rel=\"related\"/>\n",
      "    <arxiv:comment xmlns:arxiv=\"http://arxiv.org/schemas/atom\">11 pages, 6 figures, 3 tables, LaTeX209, submitted to The Journal of\n",
      "  Chemical Physics</arxiv:comment>\n",
      "    <arxiv:journal_ref xmlns:arxiv=\"http://arxiv.org/schemas/atom\">J. Chem. Phys. 115, 1626 (2001)</arxiv:journal_ref>\n",
      "    <link href=\"http://arxiv.org/abs/cond-mat/0102536v1\" rel=\"alternate\" type=\"text/html\"/>\n",
      "    <link title=\"pdf\" href=\"http://arxiv.org/pdf/cond-mat/0102536v1\" rel=\"related\" type=\"application/pdf\"/>\n",
      "    <arxiv:primary_category xmlns:arxiv=\"http://arxiv.org/schemas/atom\" term=\"cond-mat.str-el\" scheme=\"http://arxiv.org/schemas/atom\"/>\n",
      "    <category term=\"cond-mat.str-el\" scheme=\"http://arxiv.org/schemas/atom\"/>\n",
      "  </entry>\n",
      "</feed>\n",
      "\n"
     ]
    }
   ],
   "source": [
    "print(xml_data)"
   ]
  },
  {
   "cell_type": "code",
   "execution_count": 56,
   "metadata": {},
   "outputs": [
    {
     "name": "stdout",
     "output_type": "stream",
     "text": [
      "{\n",
      "  \"id\": \"0102536v1\",\n",
      "  \"submitter\": \"David Prendergast\",\n",
      "  \"authors\": \"David Prendergast, M. Nolan, Claudia Filippi, Stephen Fahy, J. C. Greer\",\n",
      "  \"title\": \"Impact of Electron-Electron Cusp on Configuration Interaction Energies\",\n",
      "  \"comments\": \"11 pages, 6 figures, 3 tables, LaTeX209, submitted to The Journal of\\n  Chemical Physics\",\n",
      "  \"journal-ref\": \"J. Chem. Phys. 115, 1626 (2001)\",\n",
      "  \"doi\": \"10.1063/1.1383585\",\n",
      "  \"report-no\": null,\n",
      "  \"categories\": \"cond-mat.str-el\",\n",
      "  \"license\": null,\n",
      "  \"abstract\": \"The effect of the electron-electron cusp on the convergence of configuration\\ninteraction (CI) wave functions is examined. By analogy with the\\npseudopotential approach for electron-ion interactions, an effective\\nelectron-electron interaction is developed which closely reproduces the\\nscattering of the Coulomb interaction but is smooth and finite at zero\\nelectron-electron separation. The exact many-electron wave function for this\\nsmooth effective interaction has no cusp at zero electron-electron separation.\\nWe perform CI and quantum Monte Carlo calculations for He and Be atoms, both\\nwith the Coulomb electron-electron interaction and with the smooth effective\\nelectron-electron interaction. We find that convergence of the CI expansion of\\nthe wave function for the smooth electron-electron interaction is not\\nsignificantly improved compared with that for the divergent Coulomb interaction\\nfor energy differences on the order of 1 mHartree. This shows that, contrary to\\npopular belief, description of the electron-electron cusp is not a limiting\\nfactor, to within chemical accuracy, for CI calculations.\",\n",
      "  \"versions\": [\n",
      "    {\n",
      "      \"version\": \"v1\",\n",
      "      \"create\": \"Wed, 28 Feb 2001 20:12:09 GMT\"\n",
      "    }\n",
      "  ],\n",
      "  \"update_date\": \"2024-12-04\",\n",
      "  \"authors_parsed\": [\n",
      "    \"David Prendergast\",\n",
      "    \"M. Nolan\",\n",
      "    \"Claudia Filippi\",\n",
      "    \"Stephen Fahy\",\n",
      "    \"J. C. Greer\"\n",
      "  ]\n",
      "}\n"
     ]
    }
   ],
   "source": [
    "# Parse the XML data\n",
    "namespace = {\"arxiv\": \"http://arxiv.org/schemas/atom\", \"default\": \"http://www.w3.org/2005/Atom\"}\n",
    "root = ET.fromstring(xml_data)\n",
    "entry = root.find(\"default:entry\", namespace)\n",
    "\n",
    "# Convert dates to required formats\n",
    "updated_date = entry.find(\"default:updated\", namespace).text\n",
    "create_date = datetime.strptime(updated_date, \"%Y-%m-%dT%H:%M:%SZ\").strftime(\"%a, %d %b %Y %H:%M:%S GMT\")\n",
    "\n",
    "# Build the JSON result\n",
    "result = {\n",
    "    \"id\": entry.find(\"default:id\", namespace).text.split(\"/\")[-1],\n",
    "    \"submitter\": entry.find(\"default:author/default:name\", namespace).text,\n",
    "    \"authors\": \", \".join(author.find(\"default:name\", namespace).text for author in entry.findall(\"default:author\", namespace)),\n",
    "    \"title\": entry.find(\"default:title\", namespace).text.strip(),\n",
    "    \"comments\": entry.find(\"arxiv:comment\", namespace).text if entry.find(\"arxiv:comment\", namespace) is not None else None,\n",
    "    \"journal-ref\": entry.find(\"arxiv:journal_ref\", namespace).text if entry.find(\"arxiv:journal_ref\", namespace) is not None else None,\n",
    "    \"doi\": entry.find(\"arxiv:doi\", namespace).text if entry.find(\"arxiv:doi\", namespace) is not None else None,\n",
    "    \"report-no\": None,\n",
    "    \"categories\": entry.find(\"arxiv:primary_category\", namespace).attrib[\"term\"],\n",
    "    \"license\": None,\n",
    "    \"abstract\": entry.find(\"default:summary\", namespace).text.strip(),\n",
    "    \"versions\": [\n",
    "        {\n",
    "            \"version\": \"v1\",\n",
    "            \"create\": create_date,\n",
    "        }\n",
    "    ],\n",
    "    \"update_date\": datetime.fromisoformat(root.find(\"default:updated\", namespace).text).strftime(\"%Y-%m-%d\"),\n",
    "    \"authors_parsed\": [\n",
    "        author.find(\"default:name\", namespace).text\n",
    "        for author in entry.findall(\"default:author\", namespace)\n",
    "    ]\n",
    "}\n",
    "\n",
    "# Convert to JSON\n",
    "json_result = json.dumps(result, indent=2)\n",
    "print(json_result)"
   ]
  },
  {
   "cell_type": "code",
   "execution_count": null,
   "metadata": {},
   "outputs": [],
   "source": []
  }
 ],
 "metadata": {
  "kernelspec": {
   "display_name": "dsde-cedt",
   "language": "python",
   "name": "python3"
  },
  "language_info": {
   "codemirror_mode": {
    "name": "ipython",
    "version": 3
   },
   "file_extension": ".py",
   "mimetype": "text/x-python",
   "name": "python",
   "nbconvert_exporter": "python",
   "pygments_lexer": "ipython3",
   "version": "3.11.8"
  }
 },
 "nbformat": 4,
 "nbformat_minor": 2
}
